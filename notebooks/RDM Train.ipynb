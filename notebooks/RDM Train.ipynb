{
 "cells": [
  {
   "cell_type": "code",
   "execution_count": 1,
   "metadata": {
    "collapsed": true
   },
   "outputs": [],
   "source": [
    "import numpy as np\n",
    "import tensorflow as tf\n",
    "import matplotlib.pyplot as plt\n",
    "from sisyphus2.backend import analysis, visualizations, simulation_tools\n",
    "from sisyphus2.backend.networks import Model\n",
    "from sisyphus2.tasks import task"
   ]
  },
  {
   "cell_type": "code",
   "execution_count": 2,
   "metadata": {
    "collapsed": true
   },
   "outputs": [],
   "source": [
    "rdm = task.rdm2(stim_noise = 0.02, coherences = np.linspace(.01, .05, 100), rec_noise = .01, N_rec = 50)"
   ]
  },
  {
   "cell_type": "code",
   "execution_count": 3,
   "metadata": {
    "collapsed": true
   },
   "outputs": [],
   "source": [
    "gen = rdm.generate_train_trials()"
   ]
  },
  {
   "cell_type": "code",
   "execution_count": 4,
   "metadata": {
    "collapsed": true
   },
   "outputs": [],
   "source": [
    "params = rdm.__dict__"
   ]
  },
  {
   "cell_type": "code",
   "execution_count": null,
   "metadata": {
    "collapsed": true
   },
   "outputs": [],
   "source": []
  },
  {
   "cell_type": "code",
   "execution_count": 5,
   "metadata": {
    "collapsed": true
   },
   "outputs": [],
   "source": [
    "params['load_weights_path'] = '../weights/rdm_50_rec.npz'"
   ]
  },
  {
   "cell_type": "code",
   "execution_count": 8,
   "metadata": {
    "collapsed": true
   },
   "outputs": [],
   "source": [
    "params['load_weights_path'] = None"
   ]
  },
  {
   "cell_type": "code",
   "execution_count": 6,
   "metadata": {
    "collapsed": false
   },
   "outputs": [
    {
     "data": {
      "text/plain": [
       "'../weights/rdm_50_rec.npz'"
      ]
     },
     "execution_count": 6,
     "metadata": {},
     "output_type": "execute_result"
    }
   ],
   "source": [
    "params['load_weights_path']"
   ]
  },
  {
   "cell_type": "code",
   "execution_count": null,
   "metadata": {
    "collapsed": true
   },
   "outputs": [],
   "source": []
  },
  {
   "cell_type": "code",
   "execution_count": 5,
   "metadata": {
    "collapsed": true
   },
   "outputs": [],
   "source": [
    "def generator_function(loss, step):\n",
    "    \n",
    "    cohs = [.1] * 400 + [.05] * 400 + [.02] * 400 + [.01] * 400\n",
    "    \n",
    "    r = task.rdm2(stim_noise = 0.02, coherences = np.linspace(.001, cohs[step/10], 100), rec_noise = .01, N_rec = 5)\n",
    "    gen = r.generate_train_trials()\n",
    "    \n",
    "    return gen"
   ]
  },
  {
   "cell_type": "code",
   "execution_count": null,
   "metadata": {
    "collapsed": true
   },
   "outputs": [],
   "source": []
  },
  {
   "cell_type": "code",
   "execution_count": 5,
   "metadata": {
    "collapsed": false,
    "scrolled": true
   },
   "outputs": [
    {
     "name": "stdout",
     "output_type": "stream",
     "text": [
      "Iter 640, Minibatch Loss= 0.149299\n",
      "Iter 1280, Minibatch Loss= 0.136181\n",
      "Iter 1920, Minibatch Loss= 0.101384\n",
      "Iter 2560, Minibatch Loss= 0.070569\n",
      "Iter 3200, Minibatch Loss= 0.077463\n",
      "Iter 3840, Minibatch Loss= 0.178934\n",
      "Iter 4480, Minibatch Loss= 0.100361\n",
      "Iter 5120, Minibatch Loss= 0.092693\n",
      "Iter 5760, Minibatch Loss= 0.078478\n",
      "Iter 6400, Minibatch Loss= 0.087458\n",
      "Iter 7040, Minibatch Loss= 0.130210\n",
      "Iter 7680, Minibatch Loss= 0.093341\n",
      "Iter 8320, Minibatch Loss= 0.077967\n",
      "Iter 8960, Minibatch Loss= 0.169670\n",
      "Iter 9600, Minibatch Loss= 0.172188\n",
      "Iter 10240, Minibatch Loss= 0.075081\n",
      "Iter 10880, Minibatch Loss= 0.055130\n",
      "Iter 11520, Minibatch Loss= 0.112458\n",
      "Iter 12160, Minibatch Loss= 0.080035\n",
      "Iter 12800, Minibatch Loss= 0.108821\n",
      "Iter 13440, Minibatch Loss= 0.159081\n",
      "Iter 14080, Minibatch Loss= 0.161828\n",
      "Iter 14720, Minibatch Loss= 0.155733\n",
      "Iter 15360, Minibatch Loss= 0.128872\n",
      "Iter 16000, Minibatch Loss= 0.118458\n",
      "Iter 16640, Minibatch Loss= 0.136885\n",
      "Iter 17280, Minibatch Loss= 0.082383\n",
      "Iter 17920, Minibatch Loss= 0.144766\n",
      "Iter 18560, Minibatch Loss= 0.168608\n",
      "Iter 19200, Minibatch Loss= 0.065957\n",
      "Iter 19840, Minibatch Loss= 0.138575\n",
      "Iter 20480, Minibatch Loss= 0.112187\n",
      "Iter 21120, Minibatch Loss= 0.123405\n",
      "Iter 21760, Minibatch Loss= 0.086009\n",
      "Iter 22400, Minibatch Loss= 0.153984\n",
      "Iter 23040, Minibatch Loss= 0.110639\n",
      "Iter 23680, Minibatch Loss= 0.111851\n",
      "Iter 24320, Minibatch Loss= 0.098049\n",
      "Iter 24960, Minibatch Loss= 0.095836\n",
      "Iter 25600, Minibatch Loss= 0.130645\n",
      "Iter 26240, Minibatch Loss= 0.145722\n",
      "Iter 26880, Minibatch Loss= 0.178641\n",
      "Iter 27520, Minibatch Loss= 0.103577\n",
      "Iter 28160, Minibatch Loss= 0.119388\n",
      "Iter 28800, Minibatch Loss= 0.112535\n",
      "Iter 29440, Minibatch Loss= 0.123887\n",
      "Iter 30080, Minibatch Loss= 0.161864\n",
      "Iter 30720, Minibatch Loss= 0.070010\n",
      "Iter 31360, Minibatch Loss= 0.129318\n",
      "Iter 32000, Minibatch Loss= 0.131811\n",
      "Iter 32640, Minibatch Loss= 0.155111\n",
      "Iter 33280, Minibatch Loss= 0.154486\n",
      "Iter 33920, Minibatch Loss= 0.081426\n",
      "Iter 34560, Minibatch Loss= 0.100143\n",
      "Iter 35200, Minibatch Loss= 0.145694\n",
      "Iter 35840, Minibatch Loss= 0.068334\n",
      "Iter 36480, Minibatch Loss= 0.132799\n",
      "Iter 37120, Minibatch Loss= 0.083617\n",
      "Iter 37760, Minibatch Loss= 0.059043\n",
      "Iter 38400, Minibatch Loss= 0.134490\n",
      "Iter 39040, Minibatch Loss= 0.084299\n",
      "Iter 39680, Minibatch Loss= 0.156795\n",
      "Iter 40320, Minibatch Loss= 0.116770\n",
      "Iter 40960, Minibatch Loss= 0.067821\n",
      "Iter 41600, Minibatch Loss= 0.092768\n",
      "Iter 42240, Minibatch Loss= 0.141757\n",
      "Iter 42880, Minibatch Loss= 0.155729\n",
      "Iter 43520, Minibatch Loss= 0.091167\n",
      "Iter 44160, Minibatch Loss= 0.131468\n",
      "Iter 44800, Minibatch Loss= 0.159215\n",
      "Iter 45440, Minibatch Loss= 0.076269\n",
      "Iter 46080, Minibatch Loss= 0.116747\n",
      "Iter 46720, Minibatch Loss= 0.161963\n",
      "Iter 47360, Minibatch Loss= 0.073935\n",
      "Iter 48000, Minibatch Loss= 0.106640\n",
      "Iter 48640, Minibatch Loss= 0.105206\n",
      "Iter 49280, Minibatch Loss= 0.097177\n",
      "Iter 49920, Minibatch Loss= 0.158883\n",
      "Iter 50560, Minibatch Loss= 0.143369\n",
      "Iter 51200, Minibatch Loss= 0.078738\n",
      "Iter 51840, Minibatch Loss= 0.166038\n",
      "Iter 52480, Minibatch Loss= 0.092244\n",
      "Iter 53120, Minibatch Loss= 0.086305\n",
      "Iter 53760, Minibatch Loss= 0.068138\n",
      "Iter 54400, Minibatch Loss= 0.113520\n",
      "Iter 55040, Minibatch Loss= 0.133043\n",
      "Iter 55680, Minibatch Loss= 0.116981\n",
      "Iter 56320, Minibatch Loss= 0.094238\n",
      "Iter 56960, Minibatch Loss= 0.063710\n",
      "Iter 57600, Minibatch Loss= 0.083914\n",
      "Iter 58240, Minibatch Loss= 0.108406\n",
      "Iter 58880, Minibatch Loss= 0.102032\n",
      "Iter 59520, Minibatch Loss= 0.084355\n",
      "Iter 60160, Minibatch Loss= 0.053137\n",
      "Iter 60800, Minibatch Loss= 0.173077\n",
      "Iter 61440, Minibatch Loss= 0.078625\n",
      "Iter 62080, Minibatch Loss= 0.175172\n",
      "Iter 62720, Minibatch Loss= 0.173350\n",
      "Iter 63360, Minibatch Loss= 0.105125\n",
      "Iter 64000, Minibatch Loss= 0.172126\n",
      "Iter 64640, Minibatch Loss= 0.106004\n",
      "Iter 65280, Minibatch Loss= 0.112136\n",
      "Iter 65920, Minibatch Loss= 0.085032\n",
      "Iter 66560, Minibatch Loss= 0.057545\n",
      "Iter 67200, Minibatch Loss= 0.098560\n",
      "Iter 67840, Minibatch Loss= 0.066211\n",
      "Iter 68480, Minibatch Loss= 0.107004\n",
      "Iter 69120, Minibatch Loss= 0.148873\n",
      "Iter 69760, Minibatch Loss= 0.118245\n",
      "Iter 70400, Minibatch Loss= 0.159884\n",
      "Iter 71040, Minibatch Loss= 0.140344\n",
      "Iter 71680, Minibatch Loss= 0.072208\n",
      "Iter 72320, Minibatch Loss= 0.116817\n",
      "Iter 72960, Minibatch Loss= 0.073750\n",
      "Iter 73600, Minibatch Loss= 0.107220\n",
      "Iter 74240, Minibatch Loss= 0.068127\n",
      "Iter 74880, Minibatch Loss= 0.103638\n",
      "Iter 75520, Minibatch Loss= 0.092974\n",
      "Iter 76160, Minibatch Loss= 0.188974\n",
      "Iter 76800, Minibatch Loss= 0.025837\n",
      "Iter 77440, Minibatch Loss= 0.054083\n",
      "Iter 78080, Minibatch Loss= 0.057260\n",
      "Iter 78720, Minibatch Loss= 0.041319\n",
      "Iter 79360, Minibatch Loss= 0.044712\n",
      "Iter 80000, Minibatch Loss= 0.052375\n",
      "Iter 80640, Minibatch Loss= 0.095954\n",
      "Iter 81280, Minibatch Loss= 0.051903\n",
      "Iter 81920, Minibatch Loss= 0.083302\n",
      "Iter 82560, Minibatch Loss= 0.025371\n",
      "Iter 83200, Minibatch Loss= 0.091111\n",
      "Iter 83840, Minibatch Loss= 0.025577\n",
      "Iter 84480, Minibatch Loss= 0.051832\n",
      "Iter 85120, Minibatch Loss= 0.035917\n",
      "Iter 85760, Minibatch Loss= 0.037791\n",
      "Iter 86400, Minibatch Loss= 0.103110\n",
      "Iter 87040, Minibatch Loss= 0.061790\n",
      "Iter 87680, Minibatch Loss= 0.053872\n",
      "Iter 88320, Minibatch Loss= 0.013128\n",
      "Iter 88960, Minibatch Loss= 0.022249\n",
      "Iter 89600, Minibatch Loss= 0.016537\n",
      "Iter 90240, Minibatch Loss= 0.041962\n",
      "Iter 90880, Minibatch Loss= 0.056088\n",
      "Iter 91520, Minibatch Loss= 0.063023\n",
      "Iter 92160, Minibatch Loss= 0.035836\n",
      "Iter 92800, Minibatch Loss= 0.050329\n",
      "Iter 93440, Minibatch Loss= 0.088947\n",
      "Iter 94080, Minibatch Loss= 0.012279\n"
     ]
    },
    {
     "ename": "KeyboardInterrupt",
     "evalue": "",
     "output_type": "error",
     "traceback": [
      "\u001b[0;31m---------------------------------------------------------------------------\u001b[0m",
      "\u001b[0;31mKeyboardInterrupt\u001b[0m                         Traceback (most recent call last)",
      "\u001b[0;32m<ipython-input-5-415b6f84ccef>\u001b[0m in \u001b[0;36m<module>\u001b[0;34m()\u001b[0m\n\u001b[1;32m      6\u001b[0m model.train(sess, gen, learning_rate = learning_rate, \n\u001b[1;32m      7\u001b[0m             \u001b[0mtraining_iters\u001b[0m \u001b[0;34m=\u001b[0m \u001b[0mtraining_iters\u001b[0m\u001b[0;34m,\u001b[0m \u001b[0msave_weights_path\u001b[0m \u001b[0;34m=\u001b[0m \u001b[0msave_weights_path\u001b[0m\u001b[0;34m,\u001b[0m\u001b[0;34m\u001b[0m\u001b[0m\n\u001b[0;32m----> 8\u001b[0;31m             generator_function = None)\n\u001b[0m\u001b[1;32m      9\u001b[0m \u001b[0msess\u001b[0m\u001b[0;34m.\u001b[0m\u001b[0mclose\u001b[0m\u001b[0;34m(\u001b[0m\u001b[0;34m)\u001b[0m\u001b[0;34m\u001b[0m\u001b[0m\n",
      "\u001b[0;32m/Users/david/.ipython/sisyphus2/backend/networks.py\u001b[0m in \u001b[0;36mtrain\u001b[0;34m(self, sess, generator, learning_rate, training_iters, batch_size, display_step, weight_save_step, save_weights_path, generator_function, training_weights_path)\u001b[0m\n\u001b[1;32m    466\u001b[0m         \u001b[0;32mwhile\u001b[0m \u001b[0mstep\u001b[0m \u001b[0;34m*\u001b[0m \u001b[0mbatch_size\u001b[0m \u001b[0;34m<\u001b[0m \u001b[0mtraining_iters\u001b[0m\u001b[0;34m:\u001b[0m\u001b[0;34m\u001b[0m\u001b[0m\n\u001b[1;32m    467\u001b[0m             \u001b[0mbatch_x\u001b[0m\u001b[0;34m,\u001b[0m \u001b[0mbatch_y\u001b[0m\u001b[0;34m,\u001b[0m \u001b[0moutput_mask\u001b[0m \u001b[0;34m=\u001b[0m \u001b[0mgenerator\u001b[0m\u001b[0;34m.\u001b[0m\u001b[0mnext\u001b[0m\u001b[0;34m(\u001b[0m\u001b[0;34m)\u001b[0m\u001b[0;34m\u001b[0m\u001b[0m\n\u001b[0;32m--> 468\u001b[0;31m             \u001b[0msess\u001b[0m\u001b[0;34m.\u001b[0m\u001b[0mrun\u001b[0m\u001b[0;34m(\u001b[0m\u001b[0moptimize\u001b[0m\u001b[0;34m,\u001b[0m \u001b[0mfeed_dict\u001b[0m\u001b[0;34m=\u001b[0m\u001b[0;34m{\u001b[0m\u001b[0mself\u001b[0m\u001b[0;34m.\u001b[0m\u001b[0mx\u001b[0m\u001b[0;34m:\u001b[0m \u001b[0mbatch_x\u001b[0m\u001b[0;34m,\u001b[0m \u001b[0mself\u001b[0m\u001b[0;34m.\u001b[0m\u001b[0my\u001b[0m\u001b[0;34m:\u001b[0m \u001b[0mbatch_y\u001b[0m\u001b[0;34m,\u001b[0m \u001b[0mself\u001b[0m\u001b[0;34m.\u001b[0m\u001b[0moutput_mask\u001b[0m\u001b[0;34m:\u001b[0m \u001b[0moutput_mask\u001b[0m\u001b[0;34m}\u001b[0m\u001b[0;34m)\u001b[0m\u001b[0;34m\u001b[0m\u001b[0m\n\u001b[0m\u001b[1;32m    469\u001b[0m             \u001b[0;32mif\u001b[0m \u001b[0mstep\u001b[0m \u001b[0;34m%\u001b[0m \u001b[0mdisplay_step\u001b[0m \u001b[0;34m==\u001b[0m \u001b[0;36m0\u001b[0m\u001b[0;34m:\u001b[0m\u001b[0;34m\u001b[0m\u001b[0m\n\u001b[1;32m    470\u001b[0m                 \u001b[0;31m# Calculate batch loss\u001b[0m\u001b[0;34m\u001b[0m\u001b[0;34m\u001b[0m\u001b[0m\n",
      "\u001b[0;32m//anaconda/lib/python2.7/site-packages/tensorflow/python/client/session.pyc\u001b[0m in \u001b[0;36mrun\u001b[0;34m(self, fetches, feed_dict, options, run_metadata)\u001b[0m\n\u001b[1;32m    893\u001b[0m     \u001b[0;32mtry\u001b[0m\u001b[0;34m:\u001b[0m\u001b[0;34m\u001b[0m\u001b[0m\n\u001b[1;32m    894\u001b[0m       result = self._run(None, fetches, feed_dict, options_ptr,\n\u001b[0;32m--> 895\u001b[0;31m                          run_metadata_ptr)\n\u001b[0m\u001b[1;32m    896\u001b[0m       \u001b[0;32mif\u001b[0m \u001b[0mrun_metadata\u001b[0m\u001b[0;34m:\u001b[0m\u001b[0;34m\u001b[0m\u001b[0m\n\u001b[1;32m    897\u001b[0m         \u001b[0mproto_data\u001b[0m \u001b[0;34m=\u001b[0m \u001b[0mtf_session\u001b[0m\u001b[0;34m.\u001b[0m\u001b[0mTF_GetBuffer\u001b[0m\u001b[0;34m(\u001b[0m\u001b[0mrun_metadata_ptr\u001b[0m\u001b[0;34m)\u001b[0m\u001b[0;34m\u001b[0m\u001b[0m\n",
      "\u001b[0;32m//anaconda/lib/python2.7/site-packages/tensorflow/python/client/session.pyc\u001b[0m in \u001b[0;36m_run\u001b[0;34m(self, handle, fetches, feed_dict, options, run_metadata)\u001b[0m\n\u001b[1;32m   1122\u001b[0m     \u001b[0;32mif\u001b[0m \u001b[0mfinal_fetches\u001b[0m \u001b[0;32mor\u001b[0m \u001b[0mfinal_targets\u001b[0m \u001b[0;32mor\u001b[0m \u001b[0;34m(\u001b[0m\u001b[0mhandle\u001b[0m \u001b[0;32mand\u001b[0m \u001b[0mfeed_dict_tensor\u001b[0m\u001b[0;34m)\u001b[0m\u001b[0;34m:\u001b[0m\u001b[0;34m\u001b[0m\u001b[0m\n\u001b[1;32m   1123\u001b[0m       results = self._do_run(handle, final_targets, final_fetches,\n\u001b[0;32m-> 1124\u001b[0;31m                              feed_dict_tensor, options, run_metadata)\n\u001b[0m\u001b[1;32m   1125\u001b[0m     \u001b[0;32melse\u001b[0m\u001b[0;34m:\u001b[0m\u001b[0;34m\u001b[0m\u001b[0m\n\u001b[1;32m   1126\u001b[0m       \u001b[0mresults\u001b[0m \u001b[0;34m=\u001b[0m \u001b[0;34m[\u001b[0m\u001b[0;34m]\u001b[0m\u001b[0;34m\u001b[0m\u001b[0m\n",
      "\u001b[0;32m//anaconda/lib/python2.7/site-packages/tensorflow/python/client/session.pyc\u001b[0m in \u001b[0;36m_do_run\u001b[0;34m(self, handle, target_list, fetch_list, feed_dict, options, run_metadata)\u001b[0m\n\u001b[1;32m   1319\u001b[0m     \u001b[0;32mif\u001b[0m \u001b[0mhandle\u001b[0m \u001b[0;32mis\u001b[0m \u001b[0mNone\u001b[0m\u001b[0;34m:\u001b[0m\u001b[0;34m\u001b[0m\u001b[0m\n\u001b[1;32m   1320\u001b[0m       return self._do_call(_run_fn, self._session, feeds, fetches, targets,\n\u001b[0;32m-> 1321\u001b[0;31m                            options, run_metadata)\n\u001b[0m\u001b[1;32m   1322\u001b[0m     \u001b[0;32melse\u001b[0m\u001b[0;34m:\u001b[0m\u001b[0;34m\u001b[0m\u001b[0m\n\u001b[1;32m   1323\u001b[0m       \u001b[0;32mreturn\u001b[0m \u001b[0mself\u001b[0m\u001b[0;34m.\u001b[0m\u001b[0m_do_call\u001b[0m\u001b[0;34m(\u001b[0m\u001b[0m_prun_fn\u001b[0m\u001b[0;34m,\u001b[0m \u001b[0mself\u001b[0m\u001b[0;34m.\u001b[0m\u001b[0m_session\u001b[0m\u001b[0;34m,\u001b[0m \u001b[0mhandle\u001b[0m\u001b[0;34m,\u001b[0m \u001b[0mfeeds\u001b[0m\u001b[0;34m,\u001b[0m \u001b[0mfetches\u001b[0m\u001b[0;34m)\u001b[0m\u001b[0;34m\u001b[0m\u001b[0m\n",
      "\u001b[0;32m//anaconda/lib/python2.7/site-packages/tensorflow/python/client/session.pyc\u001b[0m in \u001b[0;36m_do_call\u001b[0;34m(self, fn, *args)\u001b[0m\n\u001b[1;32m   1325\u001b[0m   \u001b[0;32mdef\u001b[0m \u001b[0m_do_call\u001b[0m\u001b[0;34m(\u001b[0m\u001b[0mself\u001b[0m\u001b[0;34m,\u001b[0m \u001b[0mfn\u001b[0m\u001b[0;34m,\u001b[0m \u001b[0;34m*\u001b[0m\u001b[0margs\u001b[0m\u001b[0;34m)\u001b[0m\u001b[0;34m:\u001b[0m\u001b[0;34m\u001b[0m\u001b[0m\n\u001b[1;32m   1326\u001b[0m     \u001b[0;32mtry\u001b[0m\u001b[0;34m:\u001b[0m\u001b[0;34m\u001b[0m\u001b[0m\n\u001b[0;32m-> 1327\u001b[0;31m       \u001b[0;32mreturn\u001b[0m \u001b[0mfn\u001b[0m\u001b[0;34m(\u001b[0m\u001b[0;34m*\u001b[0m\u001b[0margs\u001b[0m\u001b[0;34m)\u001b[0m\u001b[0;34m\u001b[0m\u001b[0m\n\u001b[0m\u001b[1;32m   1328\u001b[0m     \u001b[0;32mexcept\u001b[0m \u001b[0merrors\u001b[0m\u001b[0;34m.\u001b[0m\u001b[0mOpError\u001b[0m \u001b[0;32mas\u001b[0m \u001b[0me\u001b[0m\u001b[0;34m:\u001b[0m\u001b[0;34m\u001b[0m\u001b[0m\n\u001b[1;32m   1329\u001b[0m       \u001b[0mmessage\u001b[0m \u001b[0;34m=\u001b[0m \u001b[0mcompat\u001b[0m\u001b[0;34m.\u001b[0m\u001b[0mas_text\u001b[0m\u001b[0;34m(\u001b[0m\u001b[0me\u001b[0m\u001b[0;34m.\u001b[0m\u001b[0mmessage\u001b[0m\u001b[0;34m)\u001b[0m\u001b[0;34m\u001b[0m\u001b[0m\n",
      "\u001b[0;32m//anaconda/lib/python2.7/site-packages/tensorflow/python/client/session.pyc\u001b[0m in \u001b[0;36m_run_fn\u001b[0;34m(session, feed_dict, fetch_list, target_list, options, run_metadata)\u001b[0m\n\u001b[1;32m   1304\u001b[0m           return tf_session.TF_Run(session, options,\n\u001b[1;32m   1305\u001b[0m                                    \u001b[0mfeed_dict\u001b[0m\u001b[0;34m,\u001b[0m \u001b[0mfetch_list\u001b[0m\u001b[0;34m,\u001b[0m \u001b[0mtarget_list\u001b[0m\u001b[0;34m,\u001b[0m\u001b[0;34m\u001b[0m\u001b[0m\n\u001b[0;32m-> 1306\u001b[0;31m                                    status, run_metadata)\n\u001b[0m\u001b[1;32m   1307\u001b[0m \u001b[0;34m\u001b[0m\u001b[0m\n\u001b[1;32m   1308\u001b[0m     \u001b[0;32mdef\u001b[0m \u001b[0m_prun_fn\u001b[0m\u001b[0;34m(\u001b[0m\u001b[0msession\u001b[0m\u001b[0;34m,\u001b[0m \u001b[0mhandle\u001b[0m\u001b[0;34m,\u001b[0m \u001b[0mfeed_dict\u001b[0m\u001b[0;34m,\u001b[0m \u001b[0mfetch_list\u001b[0m\u001b[0;34m)\u001b[0m\u001b[0;34m:\u001b[0m\u001b[0;34m\u001b[0m\u001b[0m\n",
      "\u001b[0;31mKeyboardInterrupt\u001b[0m: "
     ]
    }
   ],
   "source": [
    "model = Model(params)\n",
    "learning_rate = .001 \n",
    "training_iters = 1000000\n",
    "save_weights_path = '../weights/rdm_50_rec.npz'\n",
    "sess = tf.Session()\n",
    "model.train(sess, gen, learning_rate = learning_rate, \n",
    "            training_iters = training_iters, save_weights_path = save_weights_path, \n",
    "            generator_function = None)\n",
    "sess.close()"
   ]
  },
  {
   "cell_type": "code",
   "execution_count": null,
   "metadata": {
    "collapsed": true
   },
   "outputs": [],
   "source": []
  }
 ],
 "metadata": {
  "anaconda-cloud": {},
  "kernelspec": {
   "display_name": "Python [conda root]",
   "language": "python",
   "name": "conda-root-py"
  },
  "language_info": {
   "codemirror_mode": {
    "name": "ipython",
    "version": 2
   },
   "file_extension": ".py",
   "mimetype": "text/x-python",
   "name": "python",
   "nbconvert_exporter": "python",
   "pygments_lexer": "ipython2",
   "version": "2.7.12"
  }
 },
 "nbformat": 4,
 "nbformat_minor": 1
}
