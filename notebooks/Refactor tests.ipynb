{
 "cells": [
  {
   "cell_type": "code",
   "execution_count": 1,
   "metadata": {
    "collapsed": false
   },
   "outputs": [],
   "source": [
    "from sisyphus2.backend.models.basic import Basic, Basic_sigmoid, Basic_scan\n",
    "from sisyphus2.backend.models.lstm import LSTM\n",
    "from sisyphus2.tasks import task\n",
    "import numpy as np\n",
    "import tensorflow as tf"
   ]
  },
  {
   "cell_type": "code",
   "execution_count": 2,
   "metadata": {
    "collapsed": false
   },
   "outputs": [],
   "source": [
    "rdm = task.rdm2(stim_noise = 0.02, coherences = np.linspace(.5, .55, 100), rec_noise = .01, N_rec = 50)\n",
    "gen = rdm.generate_train_trials()\n",
    "params = rdm.__dict__"
   ]
  },
  {
   "cell_type": "code",
   "execution_count": 3,
   "metadata": {
    "collapsed": true
   },
   "outputs": [],
   "source": [
    "params['loss_function'] = 'mean_squared_error'"
   ]
  },
  {
   "cell_type": "code",
   "execution_count": null,
   "metadata": {
    "collapsed": true
   },
   "outputs": [],
   "source": []
  },
  {
   "cell_type": "code",
   "execution_count": null,
   "metadata": {
    "collapsed": true
   },
   "outputs": [],
   "source": []
  },
  {
   "cell_type": "code",
   "execution_count": null,
   "metadata": {
    "collapsed": true
   },
   "outputs": [],
   "source": []
  },
  {
   "cell_type": "code",
   "execution_count": 4,
   "metadata": {
    "collapsed": false
   },
   "outputs": [],
   "source": [
    "model = Basic(params)"
   ]
  },
  {
   "cell_type": "code",
   "execution_count": 5,
   "metadata": {
    "collapsed": false
   },
   "outputs": [],
   "source": [
    "model.build()"
   ]
  },
  {
   "cell_type": "code",
   "execution_count": 6,
   "metadata": {
    "collapsed": false
   },
   "outputs": [
    {
     "name": "stdout",
     "output_type": "stream",
     "text": [
      "Iter 640, Minibatch Loss= 0.212905\n",
      "Iter 1280, Minibatch Loss= 0.140920\n",
      "Iter 1920, Minibatch Loss= 0.140145\n",
      "Iter 2560, Minibatch Loss= 0.129394\n",
      "Iter 3200, Minibatch Loss= 0.109174\n",
      "Iter 3840, Minibatch Loss= 0.132437\n",
      "Iter 4480, Minibatch Loss= 0.130665\n",
      "Iter 5120, Minibatch Loss= 0.072736\n",
      "Iter 5760, Minibatch Loss= 0.062204\n",
      "Iter 6400, Minibatch Loss= 0.061405\n",
      "Iter 7040, Minibatch Loss= 0.162996\n",
      "Iter 7680, Minibatch Loss= 0.141863\n",
      "Iter 8320, Minibatch Loss= 0.147379\n",
      "Iter 8960, Minibatch Loss= 0.114071\n",
      "Iter 9600, Minibatch Loss= 0.128288\n",
      "Optimization finished!\n"
     ]
    },
    {
     "data": {
      "text/plain": [
       "(23.85218596458435, 58.22226905822754)"
      ]
     },
     "execution_count": 6,
     "metadata": {},
     "output_type": "execute_result"
    }
   ],
   "source": [
    "model.train(gen, {})"
   ]
  },
  {
   "cell_type": "code",
   "execution_count": null,
   "metadata": {
    "collapsed": true
   },
   "outputs": [],
   "source": []
  },
  {
   "cell_type": "code",
   "execution_count": 4,
   "metadata": {
    "collapsed": false
   },
   "outputs": [],
   "source": [
    "tf.reset_default_graph()\n",
    "model = LSTM(params)"
   ]
  },
  {
   "cell_type": "code",
   "execution_count": 5,
   "metadata": {
    "collapsed": false
   },
   "outputs": [],
   "source": [
    "model.build()"
   ]
  },
  {
   "cell_type": "code",
   "execution_count": 6,
   "metadata": {
    "collapsed": false
   },
   "outputs": [
    {
     "name": "stdout",
     "output_type": "stream",
     "text": [
      "Iter 640, Minibatch Loss= 0.157323\n",
      "Iter 1280, Minibatch Loss= 0.130592\n",
      "Iter 1920, Minibatch Loss= 0.136979\n",
      "Iter 2560, Minibatch Loss= 0.150223\n",
      "Iter 3200, Minibatch Loss= 0.166979\n",
      "Iter 3840, Minibatch Loss= 0.122823\n",
      "Iter 4480, Minibatch Loss= 0.158089\n",
      "Iter 5120, Minibatch Loss= 0.180723\n",
      "Iter 5760, Minibatch Loss= 0.181280\n",
      "Iter 6400, Minibatch Loss= 0.170057\n",
      "Iter 7040, Minibatch Loss= 0.143112\n",
      "Iter 7680, Minibatch Loss= 0.154258\n",
      "Iter 8320, Minibatch Loss= 0.143800\n",
      "Iter 8960, Minibatch Loss= 0.143799\n",
      "Iter 9600, Minibatch Loss= 0.188478\n",
      "Optimization finished!\n"
     ]
    },
    {
     "data": {
      "text/plain": [
       "(31.087981939315796, 68.12810397148132)"
      ]
     },
     "execution_count": 6,
     "metadata": {},
     "output_type": "execute_result"
    }
   ],
   "source": [
    "model.train(gen, {})"
   ]
  },
  {
   "cell_type": "code",
   "execution_count": null,
   "metadata": {
    "collapsed": true
   },
   "outputs": [],
   "source": []
  },
  {
   "cell_type": "code",
   "execution_count": null,
   "metadata": {
    "collapsed": true
   },
   "outputs": [],
   "source": []
  },
  {
   "cell_type": "code",
   "execution_count": 4,
   "metadata": {
    "collapsed": false
   },
   "outputs": [],
   "source": [
    "tf.reset_default_graph()\n",
    "model = Basic_sigmoid(params)"
   ]
  },
  {
   "cell_type": "code",
   "execution_count": 5,
   "metadata": {
    "collapsed": true
   },
   "outputs": [],
   "source": [
    "model.build()"
   ]
  },
  {
   "cell_type": "code",
   "execution_count": 6,
   "metadata": {
    "collapsed": false
   },
   "outputs": [
    {
     "name": "stdout",
     "output_type": "stream",
     "text": [
      "Iter 640, Minibatch Loss= 0.113359\n",
      "Iter 1280, Minibatch Loss= 0.110019\n",
      "Iter 1920, Minibatch Loss= 0.171624\n",
      "Iter 2560, Minibatch Loss= 0.140969\n",
      "Iter 3200, Minibatch Loss= 0.190289\n",
      "Iter 3840, Minibatch Loss= 0.139926\n",
      "Iter 4480, Minibatch Loss= 0.173404\n",
      "Iter 5120, Minibatch Loss= 0.169687\n",
      "Iter 5760, Minibatch Loss= 0.161623\n",
      "Iter 6400, Minibatch Loss= 0.131552\n",
      "Iter 7040, Minibatch Loss= 0.113582\n",
      "Iter 7680, Minibatch Loss= 0.146682\n",
      "Iter 8320, Minibatch Loss= 0.141805\n",
      "Iter 8960, Minibatch Loss= 0.126811\n",
      "Iter 9600, Minibatch Loss= 0.116072\n",
      "Optimization finished!\n"
     ]
    },
    {
     "data": {
      "text/plain": [
       "(23.6891131401062, 58.422343015670776)"
      ]
     },
     "execution_count": 6,
     "metadata": {},
     "output_type": "execute_result"
    }
   ],
   "source": [
    "model.train(gen, {})"
   ]
  },
  {
   "cell_type": "code",
   "execution_count": null,
   "metadata": {
    "collapsed": true
   },
   "outputs": [],
   "source": []
  },
  {
   "cell_type": "code",
   "execution_count": 10,
   "metadata": {
    "collapsed": true
   },
   "outputs": [],
   "source": []
  },
  {
   "cell_type": "code",
   "execution_count": 12,
   "metadata": {
    "collapsed": false
   },
   "outputs": [],
   "source": [
    "tf.reset_default_graph()\n",
    "model = Basic_scan(params)"
   ]
  },
  {
   "cell_type": "code",
   "execution_count": 13,
   "metadata": {
    "collapsed": true
   },
   "outputs": [],
   "source": [
    "model.build()"
   ]
  },
  {
   "cell_type": "code",
   "execution_count": 14,
   "metadata": {
    "collapsed": false
   },
   "outputs": [
    {
     "name": "stdout",
     "output_type": "stream",
     "text": [
      "Iter 640, Minibatch Loss= 0.131183\n",
      "Iter 1280, Minibatch Loss= 0.083185\n",
      "Iter 1920, Minibatch Loss= 0.129075\n",
      "Iter 2560, Minibatch Loss= 0.123921\n",
      "Iter 3200, Minibatch Loss= 0.104507\n",
      "Iter 3840, Minibatch Loss= 0.177528\n",
      "Iter 4480, Minibatch Loss= 0.060198\n",
      "Iter 5120, Minibatch Loss= 0.114207\n",
      "Iter 5760, Minibatch Loss= 0.135697\n",
      "Iter 6400, Minibatch Loss= 0.135796\n",
      "Iter 7040, Minibatch Loss= 0.120959\n",
      "Iter 7680, Minibatch Loss= 0.118763\n",
      "Iter 8320, Minibatch Loss= 0.159309\n",
      "Iter 8960, Minibatch Loss= 0.081706\n",
      "Iter 9600, Minibatch Loss= 0.158250\n",
      "Optimization finished!\n"
     ]
    },
    {
     "data": {
      "text/plain": [
       "(32.05724787712097, 18.709203004837036)"
      ]
     },
     "execution_count": 14,
     "metadata": {},
     "output_type": "execute_result"
    }
   ],
   "source": [
    "model.train(gen, {})"
   ]
  },
  {
   "cell_type": "code",
   "execution_count": null,
   "metadata": {
    "collapsed": true
   },
   "outputs": [],
   "source": []
  }
 ],
 "metadata": {
  "anaconda-cloud": {},
  "kernelspec": {
   "display_name": "Python [conda root]",
   "language": "python",
   "name": "conda-root-py"
  },
  "language_info": {
   "codemirror_mode": {
    "name": "ipython",
    "version": 2
   },
   "file_extension": ".py",
   "mimetype": "text/x-python",
   "name": "python",
   "nbconvert_exporter": "python",
   "pygments_lexer": "ipython2",
   "version": "2.7.12"
  }
 },
 "nbformat": 4,
 "nbformat_minor": 1
}
