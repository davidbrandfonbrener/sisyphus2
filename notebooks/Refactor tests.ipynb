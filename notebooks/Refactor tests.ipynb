{
 "cells": [
  {
   "cell_type": "code",
   "execution_count": 1,
   "metadata": {
    "collapsed": false
   },
   "outputs": [],
   "source": [
    "from sisyphus2.backend.models.basic import Basic, BasicSigmoid, BasicScan\n",
    "from sisyphus2.backend.models.lstm import LSTM\n",
    "from sisyphus2.backend import task\n",
    "#from sisyphus2.tasks import task\n",
    "import numpy as np\n",
    "import tensorflow as tf\n",
    "from matplotlib import pyplot as plt\n",
    "%matplotlib inline"
   ]
  },
  {
   "cell_type": "code",
   "execution_count": 2,
   "metadata": {
    "collapsed": false
   },
   "outputs": [],
   "source": [
    "rdm = task.RDM(N_in = 2, N_out = 2, dt = 10, tau = 100, T = 2000, N_batch = 64)\n",
    "gen = rdm.batch_generator()\n",
    "params = rdm.__dict__"
   ]
  },
  {
   "cell_type": "code",
   "execution_count": 3,
   "metadata": {
    "collapsed": true
   },
   "outputs": [],
   "source": [
    "params['loss_function'] = 'mean_squared_error'"
   ]
  },
  {
   "cell_type": "code",
   "execution_count": 4,
   "metadata": {
    "collapsed": true
   },
   "outputs": [],
   "source": [
    "params['name'] = 'model1'\n",
    "params['N_rec'] = 50"
   ]
  },
  {
   "cell_type": "code",
   "execution_count": null,
   "metadata": {
    "collapsed": true
   },
   "outputs": [],
   "source": []
  },
  {
   "cell_type": "code",
   "execution_count": 4,
   "metadata": {
    "collapsed": false
   },
   "outputs": [],
   "source": [
    "params['load_weights_path'] = '../weights/test_50_rec.npz'"
   ]
  },
  {
   "cell_type": "code",
   "execution_count": 20,
   "metadata": {
    "collapsed": true
   },
   "outputs": [],
   "source": [
    "params['load_weights_path'] = '../weights/test_LSTM_50.npz'"
   ]
  },
  {
   "cell_type": "code",
   "execution_count": null,
   "metadata": {
    "collapsed": true
   },
   "outputs": [],
   "source": []
  },
  {
   "cell_type": "code",
   "execution_count": 16,
   "metadata": {
    "collapsed": true
   },
   "outputs": [],
   "source": [
    "train_params ={'save_weights_path': '../weights/test_50_rec.npz'}"
   ]
  },
  {
   "cell_type": "code",
   "execution_count": null,
   "metadata": {
    "collapsed": true
   },
   "outputs": [],
   "source": []
  },
  {
   "cell_type": "code",
   "execution_count": 5,
   "metadata": {
    "collapsed": false
   },
   "outputs": [],
   "source": [
    "model = Basic(params)"
   ]
  },
  {
   "cell_type": "code",
   "execution_count": 6,
   "metadata": {
    "collapsed": false
   },
   "outputs": [],
   "source": [
    "model.build()"
   ]
  },
  {
   "cell_type": "code",
   "execution_count": 7,
   "metadata": {
    "collapsed": true
   },
   "outputs": [],
   "source": [
    "params['name'] = 'model2'\n",
    "model2 = Basic(params)\n",
    "model2.build()"
   ]
  },
  {
   "cell_type": "code",
   "execution_count": 9,
   "metadata": {
    "collapsed": false,
    "scrolled": true
   },
   "outputs": [
    {
     "name": "stdout",
     "output_type": "stream",
     "text": [
      "Iter 640, Minibatch Loss= 0.244181\n",
      "Iter 1280, Minibatch Loss= 0.207617\n",
      "Iter 1920, Minibatch Loss= 0.186375\n",
      "Iter 2560, Minibatch Loss= 0.150339\n",
      "Iter 3200, Minibatch Loss= 0.131247\n",
      "Iter 3840, Minibatch Loss= 0.121822\n",
      "Iter 4480, Minibatch Loss= 0.107807\n",
      "Iter 5120, Minibatch Loss= 0.104973\n",
      "Iter 5760, Minibatch Loss= 0.098058\n",
      "Iter 6400, Minibatch Loss= 0.097769\n",
      "Iter 7040, Minibatch Loss= 0.104619\n",
      "Iter 7680, Minibatch Loss= 0.100124\n",
      "Iter 8320, Minibatch Loss= 0.107982\n",
      "Iter 8960, Minibatch Loss= 0.103808\n",
      "Iter 9600, Minibatch Loss= 0.109997\n",
      "Optimization finished!\n"
     ]
    },
    {
     "data": {
      "text/plain": [
       "([0.24418087,\n",
       "  0.20761707,\n",
       "  0.18637465,\n",
       "  0.15033889,\n",
       "  0.13124691,\n",
       "  0.12182163,\n",
       "  0.10780722,\n",
       "  0.10497309,\n",
       "  0.098058246,\n",
       "  0.097768858,\n",
       "  0.10461938,\n",
       "  0.10012352,\n",
       "  0.10798234,\n",
       "  0.10380848,\n",
       "  0.10999674],\n",
       " 50.07252502441406,\n",
       " 84.61005902290344)"
      ]
     },
     "execution_count": 9,
     "metadata": {},
     "output_type": "execute_result"
    }
   ],
   "source": [
    "model2.train(gen, {'training_iters': 10000})"
   ]
  },
  {
   "cell_type": "code",
   "execution_count": 7,
   "metadata": {
    "collapsed": false
   },
   "outputs": [],
   "source": [
    "model.destruct()"
   ]
  },
  {
   "cell_type": "code",
   "execution_count": null,
   "metadata": {
    "collapsed": true
   },
   "outputs": [],
   "source": []
  },
  {
   "cell_type": "code",
   "execution_count": 4,
   "metadata": {
    "collapsed": false
   },
   "outputs": [],
   "source": [
    "model = LSTM(params)"
   ]
  },
  {
   "cell_type": "code",
   "execution_count": 5,
   "metadata": {
    "collapsed": false
   },
   "outputs": [],
   "source": [
    "model.build()"
   ]
  },
  {
   "cell_type": "code",
   "execution_count": 6,
   "metadata": {
    "collapsed": false
   },
   "outputs": [
    {
     "name": "stdout",
     "output_type": "stream",
     "text": [
      "Iter 640, Minibatch Loss= 0.163602\n",
      "Iter 1280, Minibatch Loss= 0.155212\n",
      "Iter 1920, Minibatch Loss= 0.120798\n",
      "Iter 2560, Minibatch Loss= 0.204562\n",
      "Iter 3200, Minibatch Loss= 0.144229\n",
      "Iter 3840, Minibatch Loss= 0.155693\n",
      "Iter 4480, Minibatch Loss= 0.155138\n",
      "Iter 5120, Minibatch Loss= 0.129102\n",
      "Iter 5760, Minibatch Loss= 0.187818\n",
      "Iter 6400, Minibatch Loss= 0.148965\n",
      "Iter 7040, Minibatch Loss= 0.115507\n",
      "Iter 7680, Minibatch Loss= 0.184764\n",
      "Iter 8320, Minibatch Loss= 0.164402\n",
      "Iter 8960, Minibatch Loss= 0.144027\n",
      "Iter 9600, Minibatch Loss= 0.140232\n",
      "Iter 10240, Minibatch Loss= 0.176523\n",
      "Iter 10880, Minibatch Loss= 0.139872\n",
      "Iter 11520, Minibatch Loss= 0.139024\n",
      "Iter 12160, Minibatch Loss= 0.125314\n",
      "Iter 12800, Minibatch Loss= 0.111510\n",
      "Iter 13440, Minibatch Loss= 0.154253\n",
      "Iter 14080, Minibatch Loss= 0.130807\n",
      "Iter 14720, Minibatch Loss= 0.061512\n",
      "Iter 15360, Minibatch Loss= 0.167650\n",
      "Iter 16000, Minibatch Loss= 0.056418\n",
      "Iter 16640, Minibatch Loss= 0.090835\n",
      "Iter 17280, Minibatch Loss= 0.141417\n",
      "Iter 17920, Minibatch Loss= 0.145213\n",
      "Iter 18560, Minibatch Loss= 0.103188\n",
      "Iter 19200, Minibatch Loss= 0.052859\n",
      "Iter 19840, Minibatch Loss= 0.070982\n",
      "Iter 20480, Minibatch Loss= 0.049310\n",
      "Iter 21120, Minibatch Loss= 0.022597\n",
      "Iter 21760, Minibatch Loss= 0.017842\n",
      "Iter 22400, Minibatch Loss= 0.010359\n",
      "Iter 23040, Minibatch Loss= 0.007676\n",
      "Iter 23680, Minibatch Loss= 0.005816\n",
      "Iter 24320, Minibatch Loss= 0.006923\n",
      "Iter 24960, Minibatch Loss= 0.006654\n",
      "Iter 25600, Minibatch Loss= 0.005063\n",
      "Iter 26240, Minibatch Loss= 0.004634\n",
      "Iter 26880, Minibatch Loss= 0.004176\n",
      "Iter 27520, Minibatch Loss= 0.003736\n",
      "Iter 28160, Minibatch Loss= 0.003876\n",
      "Iter 28800, Minibatch Loss= 0.003443\n",
      "Iter 29440, Minibatch Loss= 0.003028\n",
      "Iter 30080, Minibatch Loss= 0.002741\n",
      "Iter 30720, Minibatch Loss= 0.003049\n",
      "Iter 31360, Minibatch Loss= 0.002781\n",
      "Iter 32000, Minibatch Loss= 0.002625\n",
      "Iter 32640, Minibatch Loss= 0.002740\n",
      "Iter 33280, Minibatch Loss= 0.002544\n",
      "Iter 33920, Minibatch Loss= 0.002243\n",
      "Iter 34560, Minibatch Loss= 0.002203\n",
      "Iter 35200, Minibatch Loss= 0.002055\n",
      "Iter 35840, Minibatch Loss= 0.001991\n",
      "Iter 36480, Minibatch Loss= 0.002289\n",
      "Iter 37120, Minibatch Loss= 0.002241\n",
      "Iter 37760, Minibatch Loss= 0.001922\n",
      "Iter 38400, Minibatch Loss= 0.001951\n",
      "Iter 39040, Minibatch Loss= 0.001814\n",
      "Iter 39680, Minibatch Loss= 0.001494\n",
      "Iter 40320, Minibatch Loss= 0.001699\n",
      "Iter 40960, Minibatch Loss= 0.001829\n",
      "Iter 41600, Minibatch Loss= 0.002362\n",
      "Iter 42240, Minibatch Loss= 0.001574\n",
      "Iter 42880, Minibatch Loss= 0.001557\n",
      "Iter 43520, Minibatch Loss= 0.001449\n",
      "Iter 44160, Minibatch Loss= 0.001301\n",
      "Iter 44800, Minibatch Loss= 0.001452\n",
      "Iter 45440, Minibatch Loss= 0.001610\n",
      "Iter 46080, Minibatch Loss= 0.001295\n",
      "Iter 46720, Minibatch Loss= 0.001238\n",
      "Iter 47360, Minibatch Loss= 0.001353\n",
      "Iter 48000, Minibatch Loss= 0.001301\n",
      "Iter 48640, Minibatch Loss= 0.001155\n",
      "Iter 49280, Minibatch Loss= 0.001185\n",
      "Iter 49920, Minibatch Loss= 0.001265\n",
      "Optimization finished!\n"
     ]
    }
   ],
   "source": [
    "losses, train_time, init_time = model.train(gen, {})"
   ]
  },
  {
   "cell_type": "code",
   "execution_count": 7,
   "metadata": {
    "collapsed": false
   },
   "outputs": [
    {
     "data": {
      "text/plain": [
       "[<matplotlib.lines.Line2D at 0x1567b2d90>]"
      ]
     },
     "execution_count": 7,
     "metadata": {},
     "output_type": "execute_result"
    },
    {
     "data": {
      "image/png": "[encoded data removed]",
      "text/plain": [
       "<matplotlib.figure.Figure at 0x100675a90>"
      ]
     },
     "metadata": {},
     "output_type": "display_data"
    }
   ],
   "source": [
    "plt.plot(losses)"
   ]
  },
  {
   "cell_type": "code",
   "execution_count": 9,
   "metadata": {
    "collapsed": true
   },
   "outputs": [],
   "source": [
    "model.save('../weights/test_LSTM_50.npz')"
   ]
  },
  {
   "cell_type": "code",
   "execution_count": null,
   "metadata": {
    "collapsed": true
   },
   "outputs": [],
   "source": []
  },
  {
   "cell_type": "code",
   "execution_count": null,
   "metadata": {
    "collapsed": true
   },
   "outputs": [],
   "source": []
  },
  {
   "cell_type": "code",
   "execution_count": 10,
   "metadata": {
    "collapsed": false
   },
   "outputs": [],
   "source": [
    "tf.reset_default_graph()\n",
    "model = Basic_sigmoid(params)"
   ]
  },
  {
   "cell_type": "code",
   "execution_count": 11,
   "metadata": {
    "collapsed": true
   },
   "outputs": [],
   "source": [
    "model.build()"
   ]
  },
  {
   "cell_type": "code",
   "execution_count": 12,
   "metadata": {
    "collapsed": false
   },
   "outputs": [
    {
     "name": "stdout",
     "output_type": "stream",
     "text": [
      "Iter 640, Minibatch Loss= 0.195098\n",
      "Iter 1280, Minibatch Loss= 0.155132\n",
      "Iter 1920, Minibatch Loss= 0.115115\n",
      "Iter 2560, Minibatch Loss= 0.183497\n",
      "Iter 3200, Minibatch Loss= 0.128513\n",
      "Iter 3840, Minibatch Loss= 0.124257\n",
      "Iter 4480, Minibatch Loss= 0.179334\n",
      "Iter 5120, Minibatch Loss= 0.133492\n",
      "Iter 5760, Minibatch Loss= 0.125150\n",
      "Iter 6400, Minibatch Loss= 0.152611\n",
      "Iter 7040, Minibatch Loss= 0.166292\n",
      "Iter 7680, Minibatch Loss= 0.139638\n",
      "Iter 8320, Minibatch Loss= 0.124516\n",
      "Iter 8960, Minibatch Loss= 0.159407\n",
      "Iter 9600, Minibatch Loss= 0.111304\n",
      "Iter 10240, Minibatch Loss= 0.176113\n",
      "Iter 10880, Minibatch Loss= 0.181504\n",
      "Iter 11520, Minibatch Loss= 0.136199\n",
      "Iter 12160, Minibatch Loss= 0.146469\n",
      "Iter 12800, Minibatch Loss= 0.128809\n",
      "Iter 13440, Minibatch Loss= 0.147789\n",
      "Iter 14080, Minibatch Loss= 0.160914\n",
      "Iter 14720, Minibatch Loss= 0.135058\n",
      "Iter 15360, Minibatch Loss= 0.172715\n",
      "Iter 16000, Minibatch Loss= 0.137437\n",
      "Iter 16640, Minibatch Loss= 0.148012\n",
      "Iter 17280, Minibatch Loss= 0.172166\n",
      "Iter 17920, Minibatch Loss= 0.143507\n",
      "Iter 18560, Minibatch Loss= 0.160914\n",
      "Iter 19200, Minibatch Loss= 0.146018\n",
      "Iter 19840, Minibatch Loss= 0.157214\n",
      "Iter 20480, Minibatch Loss= 0.116530\n",
      "Iter 21120, Minibatch Loss= 0.170775\n",
      "Iter 21760, Minibatch Loss= 0.120814\n",
      "Iter 22400, Minibatch Loss= 0.146765\n",
      "Iter 23040, Minibatch Loss= 0.143471\n",
      "Iter 23680, Minibatch Loss= 0.185029\n",
      "Iter 24320, Minibatch Loss= 0.119404\n",
      "Iter 24960, Minibatch Loss= 0.136049\n",
      "Iter 25600, Minibatch Loss= 0.110240\n",
      "Iter 26240, Minibatch Loss= 0.088777\n",
      "Iter 26880, Minibatch Loss= 0.171395\n",
      "Iter 27520, Minibatch Loss= 0.170035\n",
      "Iter 28160, Minibatch Loss= 0.123246\n",
      "Iter 28800, Minibatch Loss= 0.145556\n",
      "Iter 29440, Minibatch Loss= 0.132958\n",
      "Iter 30080, Minibatch Loss= 0.153702\n",
      "Iter 30720, Minibatch Loss= 0.108911\n",
      "Iter 31360, Minibatch Loss= 0.099346\n",
      "Iter 32000, Minibatch Loss= 0.126225\n",
      "Iter 32640, Minibatch Loss= 0.125597\n",
      "Iter 33280, Minibatch Loss= 0.095354\n",
      "Iter 33920, Minibatch Loss= 0.114186\n",
      "Iter 34560, Minibatch Loss= 0.111666\n",
      "Iter 35200, Minibatch Loss= 0.169877\n",
      "Iter 35840, Minibatch Loss= 0.104788\n",
      "Iter 36480, Minibatch Loss= 0.093923\n",
      "Iter 37120, Minibatch Loss= 0.078613\n",
      "Iter 37760, Minibatch Loss= 0.106777\n",
      "Iter 38400, Minibatch Loss= 0.091974\n",
      "Iter 39040, Minibatch Loss= 0.090541\n",
      "Iter 39680, Minibatch Loss= 0.098068\n",
      "Iter 40320, Minibatch Loss= 0.108942\n",
      "Iter 40960, Minibatch Loss= 0.104528\n",
      "Iter 41600, Minibatch Loss= 0.079338\n",
      "Iter 42240, Minibatch Loss= 0.152832\n",
      "Iter 42880, Minibatch Loss= 0.081953\n",
      "Iter 43520, Minibatch Loss= 0.117370\n",
      "Iter 44160, Minibatch Loss= 0.096936\n",
      "Iter 44800, Minibatch Loss= 0.120450\n",
      "Iter 45440, Minibatch Loss= 0.124833\n",
      "Iter 46080, Minibatch Loss= 0.140492\n",
      "Iter 46720, Minibatch Loss= 0.127976\n",
      "Iter 47360, Minibatch Loss= 0.055594\n",
      "Iter 48000, Minibatch Loss= 0.055035\n",
      "Iter 48640, Minibatch Loss= 0.074687\n",
      "Iter 49280, Minibatch Loss= 0.057395\n",
      "Iter 49920, Minibatch Loss= 0.068609\n",
      "Optimization finished!\n"
     ]
    },
    {
     "data": {
      "text/plain": [
       "(124.28856682777405, 72.06825804710388)"
      ]
     },
     "execution_count": 12,
     "metadata": {},
     "output_type": "execute_result"
    }
   ],
   "source": [
    "model.train(gen, {})"
   ]
  },
  {
   "cell_type": "code",
   "execution_count": null,
   "metadata": {
    "collapsed": true
   },
   "outputs": [],
   "source": []
  },
  {
   "cell_type": "code",
   "execution_count": null,
   "metadata": {
    "collapsed": true
   },
   "outputs": [],
   "source": []
  },
  {
   "cell_type": "code",
   "execution_count": 12,
   "metadata": {
    "collapsed": false
   },
   "outputs": [],
   "source": [
    "model = Basic_scan(params)"
   ]
  },
  {
   "cell_type": "code",
   "execution_count": 13,
   "metadata": {
    "collapsed": true
   },
   "outputs": [],
   "source": [
    "model.build()"
   ]
  },
  {
   "cell_type": "code",
   "execution_count": 14,
   "metadata": {
    "collapsed": false
   },
   "outputs": [
    {
     "name": "stdout",
     "output_type": "stream",
     "text": [
      "Iter 640, Minibatch Loss= 0.207508\n",
      "Iter 1280, Minibatch Loss= 0.121049\n",
      "Iter 1920, Minibatch Loss= 0.113023\n",
      "Iter 2560, Minibatch Loss= 0.169693\n",
      "Iter 3200, Minibatch Loss= 0.078659\n",
      "Iter 3840, Minibatch Loss= 0.087286\n",
      "Iter 4480, Minibatch Loss= 0.060651\n",
      "Iter 5120, Minibatch Loss= 0.023146\n",
      "Iter 5760, Minibatch Loss= 0.013635\n",
      "Iter 6400, Minibatch Loss= 0.008809\n",
      "Iter 7040, Minibatch Loss= 0.006281\n",
      "Iter 7680, Minibatch Loss= 0.005534\n",
      "Iter 8320, Minibatch Loss= 0.004396\n",
      "Iter 8960, Minibatch Loss= 0.005643\n",
      "Iter 9600, Minibatch Loss= 0.005442\n",
      "Optimization finished!\n"
     ]
    },
    {
     "data": {
      "text/plain": [
       "([0.20750789,\n",
       "  0.12104933,\n",
       "  0.11302321,\n",
       "  0.16969314,\n",
       "  0.078658849,\n",
       "  0.087285645,\n",
       "  0.06065128,\n",
       "  0.023145512,\n",
       "  0.013634712,\n",
       "  0.0088092675,\n",
       "  0.0062814225,\n",
       "  0.0055340845,\n",
       "  0.0043959995,\n",
       "  0.0056433585,\n",
       "  0.0054423916],\n",
       " 38.38984298706055,\n",
       " 22.47652792930603)"
      ]
     },
     "execution_count": 14,
     "metadata": {},
     "output_type": "execute_result"
    }
   ],
   "source": [
    "model.train(gen, {'training_iters': 10000})"
   ]
  },
  {
   "cell_type": "code",
   "execution_count": null,
   "metadata": {
    "collapsed": true
   },
   "outputs": [],
   "source": []
  },
  {
   "cell_type": "code",
   "execution_count": null,
   "metadata": {
    "collapsed": true
   },
   "outputs": [],
   "source": []
  },
  {
   "cell_type": "code",
   "execution_count": 17,
   "metadata": {
    "collapsed": true
   },
   "outputs": [],
   "source": [
    "model.destruct()"
   ]
  },
  {
   "cell_type": "code",
   "execution_count": 18,
   "metadata": {
    "collapsed": false
   },
   "outputs": [],
   "source": [
    "model = Basic(params)\n",
    "model.build()"
   ]
  },
  {
   "cell_type": "code",
   "execution_count": 10,
   "metadata": {
    "collapsed": true
   },
   "outputs": [],
   "source": [
    "x = gen.next()[0]"
   ]
  },
  {
   "cell_type": "code",
   "execution_count": 11,
   "metadata": {
    "collapsed": false
   },
   "outputs": [],
   "source": [
    "x = x[:64]"
   ]
  },
  {
   "cell_type": "code",
   "execution_count": 15,
   "metadata": {
    "collapsed": false
   },
   "outputs": [],
   "source": [
    "outputs, states = model2.test(x)"
   ]
  },
  {
   "cell_type": "code",
   "execution_count": 16,
   "metadata": {
    "collapsed": false
   },
   "outputs": [
    {
     "data": {
      "text/plain": [
       "[<matplotlib.lines.Line2D at 0x12db0e510>,\n",
       " <matplotlib.lines.Line2D at 0x12db0e710>]"
      ]
     },
     "execution_count": 16,
     "metadata": {},
     "output_type": "execute_result"
    },
    {
     "data": {
      "image/png": "[encoded data removed]",
      "text/plain": [
       "<matplotlib.figure.Figure at 0x12da07350>"
      ]
     },
     "metadata": {},
     "output_type": "display_data"
    }
   ],
   "source": [
    "plt.plot(x[1,:,:])"
   ]
  },
  {
   "cell_type": "code",
   "execution_count": 17,
   "metadata": {
    "collapsed": false
   },
   "outputs": [
    {
     "data": {
      "text/plain": [
       "[<matplotlib.lines.Line2D at 0x12dcc9e50>,\n",
       " <matplotlib.lines.Line2D at 0x12dcd4090>]"
      ]
     },
     "execution_count": 17,
     "metadata": {},
     "output_type": "execute_result"
    },
    {
     "data": {
      "image/png": "[encoded data removed]",
      "text/plain": [
       "<matplotlib.figure.Figure at 0x12db246d0>"
      ]
     },
     "metadata": {},
     "output_type": "display_data"
    }
   ],
   "source": [
    "plt.plot(outputs[1,:,:])"
   ]
  },
  {
   "cell_type": "code",
   "execution_count": 60,
   "metadata": {
    "collapsed": false
   },
   "outputs": [
    {
     "data": {
      "text/plain": [
       "-0.052840549"
      ]
     },
     "execution_count": 60,
     "metadata": {},
     "output_type": "execute_result"
    }
   ],
   "source": [
    "outputs[1,2,1]"
   ]
  },
  {
   "cell_type": "code",
   "execution_count": 61,
   "metadata": {
    "collapsed": false
   },
   "outputs": [
    {
     "data": {
      "text/plain": [
       "1.0008873123869966"
      ]
     },
     "execution_count": 61,
     "metadata": {},
     "output_type": "execute_result"
    }
   ],
   "source": [
    "x[1,2,1]"
   ]
  },
  {
   "cell_type": "code",
   "execution_count": null,
   "metadata": {
    "collapsed": true
   },
   "outputs": [],
   "source": []
  },
  {
   "cell_type": "code",
   "execution_count": null,
   "metadata": {
    "collapsed": true
   },
   "outputs": [],
   "source": []
  },
  {
   "cell_type": "code",
   "execution_count": null,
   "metadata": {
    "collapsed": true
   },
   "outputs": [],
   "source": []
  },
  {
   "cell_type": "code",
   "execution_count": 20,
   "metadata": {
    "collapsed": true
   },
   "outputs": [],
   "source": [
    "weights = np.load('../weights/test_LSTM_50.npz')"
   ]
  },
  {
   "cell_type": "code",
   "execution_count": 25,
   "metadata": {
    "collapsed": false
   },
   "outputs": [
    {
     "ename": "ValueError",
     "evalue": "Variable init_state already exists, disallowed. Did you mean to set reuse=True in VarScope? Originally defined at:\n\n  File \"/Users/david/.ipython/sisyphus2/backend/rnn.py\", line 85, in __init__\n    trainable=self.init_state_train)\n  File \"<ipython-input-18-f40021d06067>\", line 1, in <module>\n    model = Basic(params)\n  File \"//anaconda/lib/python2.7/site-packages/IPython/core/interactiveshell.py\", line 2881, in run_code\n    exec(code_obj, self.user_global_ns, self.user_ns)\n",
     "output_type": "error",
     "traceback": [
      "\u001b[0;31m---------------------------------------------------------------------------\u001b[0m",
      "\u001b[0;31mValueError\u001b[0m                                Traceback (most recent call last)",
      "\u001b[0;32m<ipython-input-25-9b8caf2d2fa8>\u001b[0m in \u001b[0;36m<module>\u001b[0;34m()\u001b[0m\n\u001b[0;32m----> 1\u001b[0;31m \u001b[0mmodel2\u001b[0m \u001b[0;34m=\u001b[0m \u001b[0mBasic\u001b[0m\u001b[0;34m(\u001b[0m\u001b[0mparams\u001b[0m\u001b[0;34m)\u001b[0m\u001b[0;34m\u001b[0m\u001b[0m\n\u001b[0m",
      "\u001b[0;32m/Users/david/.ipython/sisyphus2/backend/rnn.pyc\u001b[0m in \u001b[0;36m__init__\u001b[0;34m(self, params)\u001b[0m\n\u001b[1;32m     83\u001b[0m         self.init_state = tf.get_variable('init_state', [1, N_rec],\n\u001b[1;32m     84\u001b[0m                                           \u001b[0minitializer\u001b[0m\u001b[0;34m=\u001b[0m\u001b[0mself\u001b[0m\u001b[0;34m.\u001b[0m\u001b[0minitializer\u001b[0m\u001b[0;34m.\u001b[0m\u001b[0mget\u001b[0m\u001b[0;34m(\u001b[0m\u001b[0;34m'init_state'\u001b[0m\u001b[0;34m)\u001b[0m\u001b[0;34m,\u001b[0m\u001b[0;34m\u001b[0m\u001b[0m\n\u001b[0;32m---> 85\u001b[0;31m                                           trainable=self.init_state_train)\n\u001b[0m\u001b[1;32m     86\u001b[0m         \u001b[0mself\u001b[0m\u001b[0;34m.\u001b[0m\u001b[0minit_state\u001b[0m \u001b[0;34m=\u001b[0m \u001b[0mtf\u001b[0m\u001b[0;34m.\u001b[0m\u001b[0mtile\u001b[0m\u001b[0;34m(\u001b[0m\u001b[0mself\u001b[0m\u001b[0;34m.\u001b[0m\u001b[0minit_state\u001b[0m\u001b[0;34m,\u001b[0m \u001b[0;34m[\u001b[0m\u001b[0mself\u001b[0m\u001b[0;34m.\u001b[0m\u001b[0mN_batch\u001b[0m\u001b[0;34m,\u001b[0m \u001b[0;36m1\u001b[0m\u001b[0;34m]\u001b[0m\u001b[0;34m)\u001b[0m\u001b[0;34m\u001b[0m\u001b[0m\n\u001b[1;32m     87\u001b[0m \u001b[0;34m\u001b[0m\u001b[0m\n",
      "\u001b[0;32m//anaconda/lib/python2.7/site-packages/tensorflow/python/ops/variable_scope.pyc\u001b[0m in \u001b[0;36mget_variable\u001b[0;34m(name, shape, dtype, initializer, regularizer, trainable, collections, caching_device, partitioner, validate_shape, use_resource, custom_getter)\u001b[0m\n\u001b[1;32m   1063\u001b[0m       \u001b[0mcollections\u001b[0m\u001b[0;34m=\u001b[0m\u001b[0mcollections\u001b[0m\u001b[0;34m,\u001b[0m \u001b[0mcaching_device\u001b[0m\u001b[0;34m=\u001b[0m\u001b[0mcaching_device\u001b[0m\u001b[0;34m,\u001b[0m\u001b[0;34m\u001b[0m\u001b[0m\n\u001b[1;32m   1064\u001b[0m       \u001b[0mpartitioner\u001b[0m\u001b[0;34m=\u001b[0m\u001b[0mpartitioner\u001b[0m\u001b[0;34m,\u001b[0m \u001b[0mvalidate_shape\u001b[0m\u001b[0;34m=\u001b[0m\u001b[0mvalidate_shape\u001b[0m\u001b[0;34m,\u001b[0m\u001b[0;34m\u001b[0m\u001b[0m\n\u001b[0;32m-> 1065\u001b[0;31m       use_resource=use_resource, custom_getter=custom_getter)\n\u001b[0m\u001b[1;32m   1066\u001b[0m get_variable_or_local_docstring = (\n\u001b[1;32m   1067\u001b[0m     \"\"\"%s\n",
      "\u001b[0;32m//anaconda/lib/python2.7/site-packages/tensorflow/python/ops/variable_scope.pyc\u001b[0m in \u001b[0;36mget_variable\u001b[0;34m(self, var_store, name, shape, dtype, initializer, regularizer, reuse, trainable, collections, caching_device, partitioner, validate_shape, use_resource, custom_getter)\u001b[0m\n\u001b[1;32m    960\u001b[0m           \u001b[0mcollections\u001b[0m\u001b[0;34m=\u001b[0m\u001b[0mcollections\u001b[0m\u001b[0;34m,\u001b[0m \u001b[0mcaching_device\u001b[0m\u001b[0;34m=\u001b[0m\u001b[0mcaching_device\u001b[0m\u001b[0;34m,\u001b[0m\u001b[0;34m\u001b[0m\u001b[0m\n\u001b[1;32m    961\u001b[0m           \u001b[0mpartitioner\u001b[0m\u001b[0;34m=\u001b[0m\u001b[0mpartitioner\u001b[0m\u001b[0;34m,\u001b[0m \u001b[0mvalidate_shape\u001b[0m\u001b[0;34m=\u001b[0m\u001b[0mvalidate_shape\u001b[0m\u001b[0;34m,\u001b[0m\u001b[0;34m\u001b[0m\u001b[0m\n\u001b[0;32m--> 962\u001b[0;31m           use_resource=use_resource, custom_getter=custom_getter)\n\u001b[0m\u001b[1;32m    963\u001b[0m \u001b[0;34m\u001b[0m\u001b[0m\n\u001b[1;32m    964\u001b[0m   def _get_partitioned_variable(self,\n",
      "\u001b[0;32m//anaconda/lib/python2.7/site-packages/tensorflow/python/ops/variable_scope.pyc\u001b[0m in \u001b[0;36mget_variable\u001b[0;34m(self, name, shape, dtype, initializer, regularizer, reuse, trainable, collections, caching_device, partitioner, validate_shape, use_resource, custom_getter)\u001b[0m\n\u001b[1;32m    365\u001b[0m           \u001b[0mreuse\u001b[0m\u001b[0;34m=\u001b[0m\u001b[0mreuse\u001b[0m\u001b[0;34m,\u001b[0m \u001b[0mtrainable\u001b[0m\u001b[0;34m=\u001b[0m\u001b[0mtrainable\u001b[0m\u001b[0;34m,\u001b[0m \u001b[0mcollections\u001b[0m\u001b[0;34m=\u001b[0m\u001b[0mcollections\u001b[0m\u001b[0;34m,\u001b[0m\u001b[0;34m\u001b[0m\u001b[0m\n\u001b[1;32m    366\u001b[0m           \u001b[0mcaching_device\u001b[0m\u001b[0;34m=\u001b[0m\u001b[0mcaching_device\u001b[0m\u001b[0;34m,\u001b[0m \u001b[0mpartitioner\u001b[0m\u001b[0;34m=\u001b[0m\u001b[0mpartitioner\u001b[0m\u001b[0;34m,\u001b[0m\u001b[0;34m\u001b[0m\u001b[0m\n\u001b[0;32m--> 367\u001b[0;31m           validate_shape=validate_shape, use_resource=use_resource)\n\u001b[0m\u001b[1;32m    368\u001b[0m \u001b[0;34m\u001b[0m\u001b[0m\n\u001b[1;32m    369\u001b[0m   def _get_partitioned_variable(\n",
      "\u001b[0;32m//anaconda/lib/python2.7/site-packages/tensorflow/python/ops/variable_scope.pyc\u001b[0m in \u001b[0;36m_true_getter\u001b[0;34m(name, shape, dtype, initializer, regularizer, reuse, trainable, collections, caching_device, partitioner, validate_shape, use_resource)\u001b[0m\n\u001b[1;32m    350\u001b[0m           \u001b[0mtrainable\u001b[0m\u001b[0;34m=\u001b[0m\u001b[0mtrainable\u001b[0m\u001b[0;34m,\u001b[0m \u001b[0mcollections\u001b[0m\u001b[0;34m=\u001b[0m\u001b[0mcollections\u001b[0m\u001b[0;34m,\u001b[0m\u001b[0;34m\u001b[0m\u001b[0m\n\u001b[1;32m    351\u001b[0m           \u001b[0mcaching_device\u001b[0m\u001b[0;34m=\u001b[0m\u001b[0mcaching_device\u001b[0m\u001b[0;34m,\u001b[0m \u001b[0mvalidate_shape\u001b[0m\u001b[0;34m=\u001b[0m\u001b[0mvalidate_shape\u001b[0m\u001b[0;34m,\u001b[0m\u001b[0;34m\u001b[0m\u001b[0m\n\u001b[0;32m--> 352\u001b[0;31m           use_resource=use_resource)\n\u001b[0m\u001b[1;32m    353\u001b[0m \u001b[0;34m\u001b[0m\u001b[0m\n\u001b[1;32m    354\u001b[0m     \u001b[0;32mif\u001b[0m \u001b[0mcustom_getter\u001b[0m \u001b[0;32mis\u001b[0m \u001b[0;32mnot\u001b[0m \u001b[0mNone\u001b[0m\u001b[0;34m:\u001b[0m\u001b[0;34m\u001b[0m\u001b[0m\n",
      "\u001b[0;32m//anaconda/lib/python2.7/site-packages/tensorflow/python/ops/variable_scope.pyc\u001b[0m in \u001b[0;36m_get_single_variable\u001b[0;34m(self, name, shape, dtype, initializer, regularizer, partition_info, reuse, trainable, collections, caching_device, validate_shape, use_resource)\u001b[0m\n\u001b[1;32m    662\u001b[0m                          \u001b[0;34m\" Did you mean to set reuse=True in VarScope? \"\u001b[0m\u001b[0;34m\u001b[0m\u001b[0m\n\u001b[1;32m    663\u001b[0m                          \"Originally defined at:\\n\\n%s\" % (\n\u001b[0;32m--> 664\u001b[0;31m                              name, \"\".join(traceback.format_list(tb))))\n\u001b[0m\u001b[1;32m    665\u001b[0m       \u001b[0mfound_var\u001b[0m \u001b[0;34m=\u001b[0m \u001b[0mself\u001b[0m\u001b[0;34m.\u001b[0m\u001b[0m_vars\u001b[0m\u001b[0;34m[\u001b[0m\u001b[0mname\u001b[0m\u001b[0;34m]\u001b[0m\u001b[0;34m\u001b[0m\u001b[0m\n\u001b[1;32m    666\u001b[0m       \u001b[0;32mif\u001b[0m \u001b[0;32mnot\u001b[0m \u001b[0mshape\u001b[0m\u001b[0;34m.\u001b[0m\u001b[0mis_compatible_with\u001b[0m\u001b[0;34m(\u001b[0m\u001b[0mfound_var\u001b[0m\u001b[0;34m.\u001b[0m\u001b[0mget_shape\u001b[0m\u001b[0;34m(\u001b[0m\u001b[0;34m)\u001b[0m\u001b[0;34m)\u001b[0m\u001b[0;34m:\u001b[0m\u001b[0;34m\u001b[0m\u001b[0m\n",
      "\u001b[0;31mValueError\u001b[0m: Variable init_state already exists, disallowed. Did you mean to set reuse=True in VarScope? Originally defined at:\n\n  File \"/Users/david/.ipython/sisyphus2/backend/rnn.py\", line 85, in __init__\n    trainable=self.init_state_train)\n  File \"<ipython-input-18-f40021d06067>\", line 1, in <module>\n    model = Basic(params)\n  File \"//anaconda/lib/python2.7/site-packages/IPython/core/interactiveshell.py\", line 2881, in run_code\n    exec(code_obj, self.user_global_ns, self.user_ns)\n"
     ]
    }
   ],
   "source": [
    "model2 = Basic(params)"
   ]
  },
  {
   "cell_type": "code",
   "execution_count": 2,
   "metadata": {
    "collapsed": false
   },
   "outputs": [],
   "source": [
    "rdm = task.RDM(N_in = 2, N_out = 2, dt = 10, tau = 100, T = 2000, N_batch = 64)"
   ]
  },
  {
   "cell_type": "code",
   "execution_count": 3,
   "metadata": {
    "collapsed": false
   },
   "outputs": [],
   "source": [
    "x,y,m = rdm.batch_generator().next()"
   ]
  },
  {
   "cell_type": "code",
   "execution_count": 6,
   "metadata": {
    "collapsed": false
   },
   "outputs": [
    {
     "data": {
      "text/plain": [
       "[<matplotlib.lines.Line2D at 0x11db667d0>,\n",
       " <matplotlib.lines.Line2D at 0x11db669d0>]"
      ]
     },
     "execution_count": 6,
     "metadata": {},
     "output_type": "execute_result"
    },
    {
     "data": {
      "image/png": "[encoded data removed]",
      "text/plain": [
       "<matplotlib.figure.Figure at 0x11d5583d0>"
      ]
     },
     "metadata": {},
     "output_type": "display_data"
    }
   ],
   "source": [
    "plt.plot(x[0,:,:])"
   ]
  },
  {
   "cell_type": "code",
   "execution_count": 5,
   "metadata": {
    "collapsed": false
   },
   "outputs": [
    {
     "data": {
      "text/plain": [
       "[<matplotlib.lines.Line2D at 0x11da06450>,\n",
       " <matplotlib.lines.Line2D at 0x11da06650>]"
      ]
     },
     "execution_count": 5,
     "metadata": {},
     "output_type": "execute_result"
    },
    {
     "data": {
      "image/png": "[encoded data removed]",
      "text/plain": [
       "<matplotlib.figure.Figure at 0x11d727350>"
      ]
     },
     "metadata": {},
     "output_type": "display_data"
    }
   ],
   "source": [
    "plt.plot(y[0,:,:])"
   ]
  },
  {
   "cell_type": "code",
   "execution_count": null,
   "metadata": {
    "collapsed": true
   },
   "outputs": [],
   "source": []
  }
 ],
 "metadata": {
  "anaconda-cloud": {},
  "kernelspec": {
   "display_name": "Python [conda root]",
   "language": "python",
   "name": "conda-root-py"
  },
  "language_info": {
   "codemirror_mode": {
    "name": "ipython",
    "version": 2
   },
   "file_extension": ".py",
   "mimetype": "text/x-python",
   "name": "python",
   "nbconvert_exporter": "python",
   "pygments_lexer": "ipython2",
   "version": "2.7.12"
  }
 },
 "nbformat": 4,
 "nbformat_minor": 1
}
