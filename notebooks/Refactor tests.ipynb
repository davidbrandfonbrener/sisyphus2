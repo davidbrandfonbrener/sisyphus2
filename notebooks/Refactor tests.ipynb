{
 "cells": [
  {
   "cell_type": "code",
   "execution_count": 1,
   "metadata": {
    "collapsed": false
   },
   "outputs": [],
   "source": [
    "from sisyphus2.backend.models.basic import Basic, Basic_sigmoid, Basic_scan\n",
    "from sisyphus2.backend.models.lstm import LSTM\n",
    "from sisyphus2.tasks import task\n",
    "import numpy as np\n",
    "import tensorflow as tf\n",
    "from matplotlib import pyplot as plt\n",
    "%matplotlib inline"
   ]
  },
  {
   "cell_type": "code",
   "execution_count": 2,
   "metadata": {
    "collapsed": false
   },
   "outputs": [],
   "source": [
    "rdm = task.rdm2(stim_noise = 0.02, coherences = np.linspace(.5, .55, 100), rec_noise = .01, N_rec = 50)\n",
    "gen = rdm.generate_train_trials()\n",
    "params = rdm.__dict__"
   ]
  },
  {
   "cell_type": "code",
   "execution_count": 3,
   "metadata": {
    "collapsed": true
   },
   "outputs": [],
   "source": [
    "params['loss_function'] = 'mean_squared_error'"
   ]
  },
  {
   "cell_type": "code",
   "execution_count": null,
   "metadata": {
    "collapsed": true
   },
   "outputs": [],
   "source": []
  },
  {
   "cell_type": "code",
   "execution_count": 4,
   "metadata": {
    "collapsed": false
   },
   "outputs": [],
   "source": [
    "params['load_weights_path'] = '../weights/test_50_rec.npz'"
   ]
  },
  {
   "cell_type": "code",
   "execution_count": 20,
   "metadata": {
    "collapsed": true
   },
   "outputs": [],
   "source": [
    "params['load_weights_path'] = '../weights/test_LSTM_50.npz'"
   ]
  },
  {
   "cell_type": "code",
   "execution_count": null,
   "metadata": {
    "collapsed": true
   },
   "outputs": [],
   "source": []
  },
  {
   "cell_type": "code",
   "execution_count": 16,
   "metadata": {
    "collapsed": true
   },
   "outputs": [],
   "source": [
    "train_params ={'save_weights_path': '../weights/test_50_rec.npz'}"
   ]
  },
  {
   "cell_type": "code",
   "execution_count": null,
   "metadata": {
    "collapsed": true
   },
   "outputs": [],
   "source": []
  },
  {
   "cell_type": "code",
   "execution_count": 12,
   "metadata": {
    "collapsed": false
   },
   "outputs": [],
   "source": [
    "tf.reset_default_graph()\n",
    "model = Basic(params)"
   ]
  },
  {
   "cell_type": "code",
   "execution_count": 13,
   "metadata": {
    "collapsed": false
   },
   "outputs": [],
   "source": [
    "model.build()"
   ]
  },
  {
   "cell_type": "code",
   "execution_count": 14,
   "metadata": {
    "collapsed": false,
    "scrolled": true
   },
   "outputs": [
    {
     "name": "stdout",
     "output_type": "stream",
     "text": [
      "Iter 640, Minibatch Loss= 0.003459\n",
      "Iter 1280, Minibatch Loss= 0.002751\n",
      "Iter 1920, Minibatch Loss= 0.001334\n",
      "Iter 2560, Minibatch Loss= 0.001294\n",
      "Iter 3200, Minibatch Loss= 0.001314\n",
      "Iter 3840, Minibatch Loss= 0.001513\n",
      "Iter 4480, Minibatch Loss= 0.001362\n",
      "Iter 5120, Minibatch Loss= 0.001790\n",
      "Iter 5760, Minibatch Loss= 0.001390\n",
      "Iter 6400, Minibatch Loss= 0.001344\n",
      "Iter 7040, Minibatch Loss= 0.001130\n",
      "Iter 7680, Minibatch Loss= 0.001175\n",
      "Iter 8320, Minibatch Loss= 0.001094\n",
      "Iter 8960, Minibatch Loss= 0.001130\n",
      "Iter 9600, Minibatch Loss= 0.001077\n",
      "Optimization finished!\n"
     ]
    },
    {
     "data": {
      "text/plain": [
       "(28.518043994903564, 62.86363697052002)"
      ]
     },
     "execution_count": 14,
     "metadata": {},
     "output_type": "execute_result"
    }
   ],
   "source": [
    "model.train(gen, {'training_iters': 10000})"
   ]
  },
  {
   "cell_type": "code",
   "execution_count": 11,
   "metadata": {
    "collapsed": true
   },
   "outputs": [],
   "source": [
    "model.destruct()"
   ]
  },
  {
   "cell_type": "code",
   "execution_count": null,
   "metadata": {
    "collapsed": true
   },
   "outputs": [],
   "source": []
  },
  {
   "cell_type": "code",
   "execution_count": 4,
   "metadata": {
    "collapsed": false
   },
   "outputs": [],
   "source": [
    "tf.reset_default_graph()\n",
    "model = LSTM(params)"
   ]
  },
  {
   "cell_type": "code",
   "execution_count": 5,
   "metadata": {
    "collapsed": false
   },
   "outputs": [],
   "source": [
    "model.build()"
   ]
  },
  {
   "cell_type": "code",
   "execution_count": 6,
   "metadata": {
    "collapsed": false
   },
   "outputs": [
    {
     "name": "stdout",
     "output_type": "stream",
     "text": [
      "Iter 640, Minibatch Loss= 0.265057\n",
      "Iter 1280, Minibatch Loss= 0.150976\n",
      "Iter 1920, Minibatch Loss= 0.182154\n",
      "Iter 2560, Minibatch Loss= 0.148721\n",
      "Iter 3200, Minibatch Loss= 0.131151\n",
      "Iter 3840, Minibatch Loss= 0.207835\n",
      "Iter 4480, Minibatch Loss= 0.142024\n",
      "Iter 5120, Minibatch Loss= 0.104030\n",
      "Iter 5760, Minibatch Loss= 0.133304\n",
      "Iter 6400, Minibatch Loss= 0.154815\n",
      "Iter 7040, Minibatch Loss= 0.118517\n",
      "Iter 7680, Minibatch Loss= 0.106180\n",
      "Iter 8320, Minibatch Loss= 0.177641\n",
      "Iter 8960, Minibatch Loss= 0.116821\n",
      "Iter 9600, Minibatch Loss= 0.144134\n",
      "Iter 10240, Minibatch Loss= 0.120444\n",
      "Iter 10880, Minibatch Loss= 0.145426\n",
      "Iter 11520, Minibatch Loss= 0.154830\n",
      "Iter 12160, Minibatch Loss= 0.186992\n",
      "Iter 12800, Minibatch Loss= 0.155770\n",
      "Iter 13440, Minibatch Loss= 0.187700\n",
      "Iter 14080, Minibatch Loss= 0.152824\n",
      "Iter 14720, Minibatch Loss= 0.182648\n",
      "Iter 15360, Minibatch Loss= 0.167909\n",
      "Iter 16000, Minibatch Loss= 0.159927\n",
      "Iter 16640, Minibatch Loss= 0.168285\n",
      "Iter 17280, Minibatch Loss= 0.188991\n",
      "Iter 17920, Minibatch Loss= 0.165944\n",
      "Iter 18560, Minibatch Loss= 0.141967\n",
      "Iter 19200, Minibatch Loss= 0.163117\n",
      "Iter 19840, Minibatch Loss= 0.119930\n",
      "Iter 20480, Minibatch Loss= 0.188481\n",
      "Iter 21120, Minibatch Loss= 0.126492\n",
      "Iter 21760, Minibatch Loss= 0.184314\n",
      "Iter 22400, Minibatch Loss= 0.100526\n",
      "Iter 23040, Minibatch Loss= 0.097557\n",
      "Iter 23680, Minibatch Loss= 0.148928\n",
      "Iter 24320, Minibatch Loss= 0.089365\n",
      "Iter 24960, Minibatch Loss= 0.110535\n",
      "Iter 25600, Minibatch Loss= 0.067116\n",
      "Iter 26240, Minibatch Loss= 0.112619\n",
      "Iter 26880, Minibatch Loss= 0.166291\n",
      "Iter 27520, Minibatch Loss= 0.162547\n",
      "Iter 28160, Minibatch Loss= 0.066271\n",
      "Iter 28800, Minibatch Loss= 0.073209\n",
      "Iter 29440, Minibatch Loss= 0.056950\n",
      "Iter 30080, Minibatch Loss= 0.053759\n",
      "Iter 30720, Minibatch Loss= 0.087737\n",
      "Iter 31360, Minibatch Loss= 0.102746\n",
      "Iter 32000, Minibatch Loss= 0.086424\n",
      "Iter 32640, Minibatch Loss= 0.063450\n",
      "Iter 33280, Minibatch Loss= 0.018607\n",
      "Iter 33920, Minibatch Loss= 0.015883\n",
      "Iter 34560, Minibatch Loss= 0.006795\n",
      "Iter 35200, Minibatch Loss= 0.003086\n",
      "Iter 35840, Minibatch Loss= 0.006195\n",
      "Iter 36480, Minibatch Loss= 0.004625\n",
      "Iter 37120, Minibatch Loss= 0.002865\n",
      "Iter 37760, Minibatch Loss= 0.002572\n",
      "Iter 38400, Minibatch Loss= 0.002125\n",
      "Iter 39040, Minibatch Loss= 0.002757\n",
      "Iter 39680, Minibatch Loss= 0.001774\n",
      "Iter 40320, Minibatch Loss= 0.001706\n",
      "Iter 40960, Minibatch Loss= 0.001640\n",
      "Iter 41600, Minibatch Loss= 0.001628\n",
      "Iter 42240, Minibatch Loss= 0.002882\n",
      "Iter 42880, Minibatch Loss= 0.002949\n",
      "Iter 43520, Minibatch Loss= 0.001795\n",
      "Iter 44160, Minibatch Loss= 0.001767\n",
      "Iter 44800, Minibatch Loss= 0.001750\n",
      "Iter 45440, Minibatch Loss= 0.001668\n",
      "Iter 46080, Minibatch Loss= 0.003418\n",
      "Iter 46720, Minibatch Loss= 0.001713\n",
      "Iter 47360, Minibatch Loss= 0.001729\n",
      "Iter 48000, Minibatch Loss= 0.001667\n",
      "Iter 48640, Minibatch Loss= 0.001291\n",
      "Iter 49280, Minibatch Loss= 0.001703\n",
      "Iter 49920, Minibatch Loss= 0.001305\n",
      "Optimization finished!\n"
     ]
    },
    {
     "data": {
      "text/plain": [
       "(170.7626190185547, 70.67482399940491)"
      ]
     },
     "execution_count": 6,
     "metadata": {},
     "output_type": "execute_result"
    }
   ],
   "source": [
    "model.train(gen, {})"
   ]
  },
  {
   "cell_type": "code",
   "execution_count": 7,
   "metadata": {
    "collapsed": true
   },
   "outputs": [],
   "source": [
    "model.save('../weights/test_LSTM_50.npz')"
   ]
  },
  {
   "cell_type": "code",
   "execution_count": null,
   "metadata": {
    "collapsed": true
   },
   "outputs": [],
   "source": []
  },
  {
   "cell_type": "code",
   "execution_count": null,
   "metadata": {
    "collapsed": true
   },
   "outputs": [],
   "source": []
  },
  {
   "cell_type": "code",
   "execution_count": 10,
   "metadata": {
    "collapsed": false
   },
   "outputs": [],
   "source": [
    "tf.reset_default_graph()\n",
    "model = Basic_sigmoid(params)"
   ]
  },
  {
   "cell_type": "code",
   "execution_count": 11,
   "metadata": {
    "collapsed": true
   },
   "outputs": [],
   "source": [
    "model.build()"
   ]
  },
  {
   "cell_type": "code",
   "execution_count": 12,
   "metadata": {
    "collapsed": false
   },
   "outputs": [
    {
     "name": "stdout",
     "output_type": "stream",
     "text": [
      "Iter 640, Minibatch Loss= 0.195098\n",
      "Iter 1280, Minibatch Loss= 0.155132\n",
      "Iter 1920, Minibatch Loss= 0.115115\n",
      "Iter 2560, Minibatch Loss= 0.183497\n",
      "Iter 3200, Minibatch Loss= 0.128513\n",
      "Iter 3840, Minibatch Loss= 0.124257\n",
      "Iter 4480, Minibatch Loss= 0.179334\n",
      "Iter 5120, Minibatch Loss= 0.133492\n",
      "Iter 5760, Minibatch Loss= 0.125150\n",
      "Iter 6400, Minibatch Loss= 0.152611\n",
      "Iter 7040, Minibatch Loss= 0.166292\n",
      "Iter 7680, Minibatch Loss= 0.139638\n",
      "Iter 8320, Minibatch Loss= 0.124516\n",
      "Iter 8960, Minibatch Loss= 0.159407\n",
      "Iter 9600, Minibatch Loss= 0.111304\n",
      "Iter 10240, Minibatch Loss= 0.176113\n",
      "Iter 10880, Minibatch Loss= 0.181504\n",
      "Iter 11520, Minibatch Loss= 0.136199\n",
      "Iter 12160, Minibatch Loss= 0.146469\n",
      "Iter 12800, Minibatch Loss= 0.128809\n",
      "Iter 13440, Minibatch Loss= 0.147789\n",
      "Iter 14080, Minibatch Loss= 0.160914\n",
      "Iter 14720, Minibatch Loss= 0.135058\n",
      "Iter 15360, Minibatch Loss= 0.172715\n",
      "Iter 16000, Minibatch Loss= 0.137437\n",
      "Iter 16640, Minibatch Loss= 0.148012\n",
      "Iter 17280, Minibatch Loss= 0.172166\n",
      "Iter 17920, Minibatch Loss= 0.143507\n",
      "Iter 18560, Minibatch Loss= 0.160914\n",
      "Iter 19200, Minibatch Loss= 0.146018\n",
      "Iter 19840, Minibatch Loss= 0.157214\n",
      "Iter 20480, Minibatch Loss= 0.116530\n",
      "Iter 21120, Minibatch Loss= 0.170775\n",
      "Iter 21760, Minibatch Loss= 0.120814\n",
      "Iter 22400, Minibatch Loss= 0.146765\n",
      "Iter 23040, Minibatch Loss= 0.143471\n",
      "Iter 23680, Minibatch Loss= 0.185029\n",
      "Iter 24320, Minibatch Loss= 0.119404\n",
      "Iter 24960, Minibatch Loss= 0.136049\n",
      "Iter 25600, Minibatch Loss= 0.110240\n",
      "Iter 26240, Minibatch Loss= 0.088777\n",
      "Iter 26880, Minibatch Loss= 0.171395\n",
      "Iter 27520, Minibatch Loss= 0.170035\n",
      "Iter 28160, Minibatch Loss= 0.123246\n",
      "Iter 28800, Minibatch Loss= 0.145556\n",
      "Iter 29440, Minibatch Loss= 0.132958\n",
      "Iter 30080, Minibatch Loss= 0.153702\n",
      "Iter 30720, Minibatch Loss= 0.108911\n",
      "Iter 31360, Minibatch Loss= 0.099346\n",
      "Iter 32000, Minibatch Loss= 0.126225\n",
      "Iter 32640, Minibatch Loss= 0.125597\n",
      "Iter 33280, Minibatch Loss= 0.095354\n",
      "Iter 33920, Minibatch Loss= 0.114186\n",
      "Iter 34560, Minibatch Loss= 0.111666\n",
      "Iter 35200, Minibatch Loss= 0.169877\n",
      "Iter 35840, Minibatch Loss= 0.104788\n",
      "Iter 36480, Minibatch Loss= 0.093923\n",
      "Iter 37120, Minibatch Loss= 0.078613\n",
      "Iter 37760, Minibatch Loss= 0.106777\n",
      "Iter 38400, Minibatch Loss= 0.091974\n",
      "Iter 39040, Minibatch Loss= 0.090541\n",
      "Iter 39680, Minibatch Loss= 0.098068\n",
      "Iter 40320, Minibatch Loss= 0.108942\n",
      "Iter 40960, Minibatch Loss= 0.104528\n",
      "Iter 41600, Minibatch Loss= 0.079338\n",
      "Iter 42240, Minibatch Loss= 0.152832\n",
      "Iter 42880, Minibatch Loss= 0.081953\n",
      "Iter 43520, Minibatch Loss= 0.117370\n",
      "Iter 44160, Minibatch Loss= 0.096936\n",
      "Iter 44800, Minibatch Loss= 0.120450\n",
      "Iter 45440, Minibatch Loss= 0.124833\n",
      "Iter 46080, Minibatch Loss= 0.140492\n",
      "Iter 46720, Minibatch Loss= 0.127976\n",
      "Iter 47360, Minibatch Loss= 0.055594\n",
      "Iter 48000, Minibatch Loss= 0.055035\n",
      "Iter 48640, Minibatch Loss= 0.074687\n",
      "Iter 49280, Minibatch Loss= 0.057395\n",
      "Iter 49920, Minibatch Loss= 0.068609\n",
      "Optimization finished!\n"
     ]
    },
    {
     "data": {
      "text/plain": [
       "(124.28856682777405, 72.06825804710388)"
      ]
     },
     "execution_count": 12,
     "metadata": {},
     "output_type": "execute_result"
    }
   ],
   "source": [
    "model.train(gen, {})"
   ]
  },
  {
   "cell_type": "code",
   "execution_count": null,
   "metadata": {
    "collapsed": true
   },
   "outputs": [],
   "source": []
  },
  {
   "cell_type": "code",
   "execution_count": null,
   "metadata": {
    "collapsed": true
   },
   "outputs": [],
   "source": []
  },
  {
   "cell_type": "code",
   "execution_count": 13,
   "metadata": {
    "collapsed": false
   },
   "outputs": [],
   "source": [
    "tf.reset_default_graph()\n",
    "model = Basic_scan(params)"
   ]
  },
  {
   "cell_type": "code",
   "execution_count": 14,
   "metadata": {
    "collapsed": true
   },
   "outputs": [],
   "source": [
    "model.build()"
   ]
  },
  {
   "cell_type": "code",
   "execution_count": 15,
   "metadata": {
    "collapsed": false
   },
   "outputs": [
    {
     "name": "stdout",
     "output_type": "stream",
     "text": [
      "Iter 640, Minibatch Loss= 0.272054\n",
      "Iter 1280, Minibatch Loss= 0.170246\n",
      "Iter 1920, Minibatch Loss= 0.078765\n",
      "Iter 2560, Minibatch Loss= 0.118882\n",
      "Iter 3200, Minibatch Loss= 0.093433\n",
      "Iter 3840, Minibatch Loss= 0.100554\n",
      "Iter 4480, Minibatch Loss= 0.096155\n",
      "Iter 5120, Minibatch Loss= 0.057453\n",
      "Iter 5760, Minibatch Loss= 0.037765\n",
      "Iter 6400, Minibatch Loss= 0.009540\n",
      "Iter 7040, Minibatch Loss= 0.009572\n",
      "Iter 7680, Minibatch Loss= 0.006069\n",
      "Iter 8320, Minibatch Loss= 0.006144\n",
      "Iter 8960, Minibatch Loss= 0.005117\n",
      "Iter 9600, Minibatch Loss= 0.005521\n",
      "Iter 10240, Minibatch Loss= 0.004703\n",
      "Iter 10880, Minibatch Loss= 0.004308\n",
      "Iter 11520, Minibatch Loss= 0.004290\n",
      "Iter 12160, Minibatch Loss= 0.004176\n",
      "Iter 12800, Minibatch Loss= 0.003783\n",
      "Iter 13440, Minibatch Loss= 0.003086\n",
      "Iter 14080, Minibatch Loss= 0.002945\n",
      "Iter 14720, Minibatch Loss= 0.002676\n",
      "Iter 15360, Minibatch Loss= 0.003262\n",
      "Iter 16000, Minibatch Loss= 0.002912\n",
      "Iter 16640, Minibatch Loss= 0.003097\n",
      "Iter 17280, Minibatch Loss= 0.002752\n",
      "Iter 17920, Minibatch Loss= 0.002267\n",
      "Iter 18560, Minibatch Loss= 0.002554\n",
      "Iter 19200, Minibatch Loss= 0.002141\n",
      "Iter 19840, Minibatch Loss= 0.002547\n",
      "Iter 20480, Minibatch Loss= 0.002115\n",
      "Iter 21120, Minibatch Loss= 0.002745\n",
      "Iter 21760, Minibatch Loss= 0.003208\n",
      "Iter 22400, Minibatch Loss= 0.003043\n",
      "Iter 23040, Minibatch Loss= 0.002177\n",
      "Iter 23680, Minibatch Loss= 0.002658\n",
      "Iter 24320, Minibatch Loss= 0.002302\n",
      "Iter 24960, Minibatch Loss= 0.002138\n",
      "Iter 25600, Minibatch Loss= 0.001860\n",
      "Iter 26240, Minibatch Loss= 0.001600\n",
      "Iter 26880, Minibatch Loss= 0.001683\n",
      "Iter 27520, Minibatch Loss= 0.001885\n",
      "Iter 28160, Minibatch Loss= 0.001758\n",
      "Iter 28800, Minibatch Loss= 0.001895\n",
      "Iter 29440, Minibatch Loss= 0.001505\n",
      "Iter 30080, Minibatch Loss= 0.001627\n",
      "Iter 30720, Minibatch Loss= 0.001694\n",
      "Iter 31360, Minibatch Loss= 0.001611\n",
      "Iter 32000, Minibatch Loss= 0.001364\n",
      "Iter 32640, Minibatch Loss= 0.001613\n",
      "Iter 33280, Minibatch Loss= 0.001425\n",
      "Iter 33920, Minibatch Loss= 0.001674\n",
      "Iter 34560, Minibatch Loss= 0.001625\n",
      "Iter 35200, Minibatch Loss= 0.001604\n",
      "Iter 35840, Minibatch Loss= 0.001428\n",
      "Iter 36480, Minibatch Loss= 0.001407\n",
      "Iter 37120, Minibatch Loss= 0.001471\n",
      "Iter 37760, Minibatch Loss= 0.001197\n",
      "Iter 38400, Minibatch Loss= 0.001638\n",
      "Iter 39040, Minibatch Loss= 0.001242\n",
      "Iter 39680, Minibatch Loss= 0.001337\n",
      "Iter 40320, Minibatch Loss= 0.001099\n",
      "Iter 40960, Minibatch Loss= 0.001189\n",
      "Iter 41600, Minibatch Loss= 0.001160\n",
      "Iter 42240, Minibatch Loss= 0.001193\n",
      "Iter 42880, Minibatch Loss= 0.001112\n",
      "Iter 43520, Minibatch Loss= 0.001244\n",
      "Iter 44160, Minibatch Loss= 0.001168\n",
      "Iter 44800, Minibatch Loss= 0.001112\n",
      "Iter 45440, Minibatch Loss= 0.001119\n",
      "Iter 46080, Minibatch Loss= 0.001393\n",
      "Iter 46720, Minibatch Loss= 0.001025\n",
      "Iter 47360, Minibatch Loss= 0.001293\n",
      "Iter 48000, Minibatch Loss= 0.001308\n",
      "Iter 48640, Minibatch Loss= 0.001359\n",
      "Iter 49280, Minibatch Loss= 0.001428\n",
      "Iter 49920, Minibatch Loss= 0.001116\n",
      "Optimization finished!\n"
     ]
    },
    {
     "data": {
      "text/plain": [
       "(138.7799699306488, 14.857112884521484)"
      ]
     },
     "execution_count": 15,
     "metadata": {},
     "output_type": "execute_result"
    }
   ],
   "source": [
    "model.train(gen, {})"
   ]
  },
  {
   "cell_type": "code",
   "execution_count": null,
   "metadata": {
    "collapsed": true
   },
   "outputs": [],
   "source": []
  },
  {
   "cell_type": "code",
   "execution_count": null,
   "metadata": {
    "collapsed": true
   },
   "outputs": [],
   "source": []
  },
  {
   "cell_type": "code",
   "execution_count": null,
   "metadata": {
    "collapsed": true
   },
   "outputs": [],
   "source": []
  },
  {
   "cell_type": "code",
   "execution_count": 19,
   "metadata": {
    "collapsed": true
   },
   "outputs": [],
   "source": [
    "model.destruct()"
   ]
  },
  {
   "cell_type": "code",
   "execution_count": 21,
   "metadata": {
    "collapsed": false
   },
   "outputs": [],
   "source": [
    "model = Basic(params)\n",
    "model.build()"
   ]
  },
  {
   "cell_type": "code",
   "execution_count": 7,
   "metadata": {
    "collapsed": true
   },
   "outputs": [],
   "source": [
    "x = gen.next()[0]"
   ]
  },
  {
   "cell_type": "code",
   "execution_count": 11,
   "metadata": {
    "collapsed": false
   },
   "outputs": [],
   "source": [
    "outputs, states = model.test_batch(x)"
   ]
  },
  {
   "cell_type": "code",
   "execution_count": 12,
   "metadata": {
    "collapsed": false
   },
   "outputs": [
    {
     "data": {
      "text/plain": [
       "[<matplotlib.lines.Line2D at 0x149422050>,\n",
       " <matplotlib.lines.Line2D at 0x149422250>]"
      ]
     },
     "execution_count": 12,
     "metadata": {},
     "output_type": "execute_result"
    },
    {
     "data": {
      "image/png": "[encoded data removed]",
      "text/plain": [
       "<matplotlib.figure.Figure at 0x14934ab10>"
      ]
     },
     "metadata": {},
     "output_type": "display_data"
    }
   ],
   "source": [
    "plt.plot(x[1,:,:])"
   ]
  },
  {
   "cell_type": "code",
   "execution_count": 13,
   "metadata": {
    "collapsed": false
   },
   "outputs": [
    {
     "data": {
      "text/plain": [
       "[<matplotlib.lines.Line2D at 0x122adc610>,\n",
       " <matplotlib.lines.Line2D at 0x122adc810>]"
      ]
     },
     "execution_count": 13,
     "metadata": {},
     "output_type": "execute_result"
    },
    {
     "data": {
      "image/png": "[encoded data removed]",
      "text/plain": [
       "<matplotlib.figure.Figure at 0x1563b4610>"
      ]
     },
     "metadata": {},
     "output_type": "display_data"
    }
   ],
   "source": [
    "plt.plot(outputs[1,:,:])"
   ]
  },
  {
   "cell_type": "code",
   "execution_count": 60,
   "metadata": {
    "collapsed": false
   },
   "outputs": [
    {
     "data": {
      "text/plain": [
       "-0.052840549"
      ]
     },
     "execution_count": 60,
     "metadata": {},
     "output_type": "execute_result"
    }
   ],
   "source": [
    "outputs[1,2,1]"
   ]
  },
  {
   "cell_type": "code",
   "execution_count": 61,
   "metadata": {
    "collapsed": false
   },
   "outputs": [
    {
     "data": {
      "text/plain": [
       "1.0008873123869966"
      ]
     },
     "execution_count": 61,
     "metadata": {},
     "output_type": "execute_result"
    }
   ],
   "source": [
    "x[1,2,1]"
   ]
  },
  {
   "cell_type": "code",
   "execution_count": null,
   "metadata": {
    "collapsed": true
   },
   "outputs": [],
   "source": []
  },
  {
   "cell_type": "code",
   "execution_count": null,
   "metadata": {
    "collapsed": true
   },
   "outputs": [],
   "source": []
  },
  {
   "cell_type": "code",
   "execution_count": null,
   "metadata": {
    "collapsed": true
   },
   "outputs": [],
   "source": []
  },
  {
   "cell_type": "code",
   "execution_count": null,
   "metadata": {
    "collapsed": true
   },
   "outputs": [],
   "source": []
  },
  {
   "cell_type": "code",
   "execution_count": 20,
   "metadata": {
    "collapsed": true
   },
   "outputs": [],
   "source": [
    "weights = np.load('../weights/test_LSTM_50.npz')"
   ]
  },
  {
   "cell_type": "code",
   "execution_count": null,
   "metadata": {
    "collapsed": true
   },
   "outputs": [],
   "source": []
  }
 ],
 "metadata": {
  "anaconda-cloud": {},
  "kernelspec": {
   "display_name": "Python [conda root]",
   "language": "python",
   "name": "conda-root-py"
  },
  "language_info": {
   "codemirror_mode": {
    "name": "ipython",
    "version": 2
   },
   "file_extension": ".py",
   "mimetype": "text/x-python",
   "name": "python",
   "nbconvert_exporter": "python",
   "pygments_lexer": "ipython2",
   "version": "2.7.12"
  }
 },
 "nbformat": 4,
 "nbformat_minor": 1
}
