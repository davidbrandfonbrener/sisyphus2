{
 "cells": [
  {
   "cell_type": "code",
   "execution_count": 1,
   "metadata": {
    "collapsed": false
   },
   "outputs": [],
   "source": [
    "from sisyphus2.backend.models.basic import Basic, BasicSigmoid, BasicScan\n",
    "from sisyphus2.backend.models.lstm import LSTM\n",
    "from sisyphus2.backend import task\n",
    "import numpy as np\n",
    "import tensorflow as tf\n",
    "from matplotlib import pyplot as plt\n",
    "%matplotlib inline"
   ]
  },
  {
   "cell_type": "code",
   "execution_count": 2,
   "metadata": {
    "collapsed": false
   },
   "outputs": [],
   "source": [
    "rdm = task.RDM(N_in = 2, N_out = 2, dt = 10, tau = 100, T = 2000, N_batch = 32)\n",
    "gen = rdm.batch_generator()\n",
    "params = rdm.__dict__"
   ]
  },
  {
   "cell_type": "code",
   "execution_count": 3,
   "metadata": {
    "collapsed": true
   },
   "outputs": [],
   "source": [
    "params['loss_function'] = 'mean_squared_error'"
   ]
  },
  {
   "cell_type": "code",
   "execution_count": 4,
   "metadata": {
    "collapsed": true
   },
   "outputs": [],
   "source": [
    "params['name'] = 'model'\n",
    "params['N_rec'] = 50"
   ]
  },
  {
   "cell_type": "code",
   "execution_count": null,
   "metadata": {
    "collapsed": true
   },
   "outputs": [],
   "source": []
  },
  {
   "cell_type": "code",
   "execution_count": 5,
   "metadata": {
    "collapsed": false
   },
   "outputs": [],
   "source": [
    "model = BasicScan(params)"
   ]
  },
  {
   "cell_type": "code",
   "execution_count": 6,
   "metadata": {
    "collapsed": false,
    "scrolled": true
   },
   "outputs": [
    {
     "name": "stdout",
     "output_type": "stream",
     "text": [
      "Iter 320, Minibatch Loss= 0.210290\n",
      "Iter 640, Minibatch Loss= 0.178881\n",
      "Iter 960, Minibatch Loss= 0.159515\n",
      "Iter 1280, Minibatch Loss= 0.151415\n",
      "Iter 1600, Minibatch Loss= 0.148099\n",
      "Iter 1920, Minibatch Loss= 0.148701\n",
      "Iter 2240, Minibatch Loss= 0.148600\n",
      "Iter 2560, Minibatch Loss= 0.148910\n",
      "Iter 2880, Minibatch Loss= 0.148067\n",
      "Iter 3200, Minibatch Loss= 0.148344\n",
      "Iter 3520, Minibatch Loss= 0.149138\n",
      "Iter 3840, Minibatch Loss= 0.149721\n",
      "Iter 4160, Minibatch Loss= 0.148667\n",
      "Iter 4480, Minibatch Loss= 0.148796\n",
      "Iter 4800, Minibatch Loss= 0.148345\n",
      "Iter 5120, Minibatch Loss= 0.148765\n",
      "Iter 5440, Minibatch Loss= 0.148817\n",
      "Iter 5760, Minibatch Loss= 0.148668\n",
      "Iter 6080, Minibatch Loss= 0.148834\n",
      "Iter 6400, Minibatch Loss= 0.148488\n",
      "Iter 6720, Minibatch Loss= 0.149804\n",
      "Iter 7040, Minibatch Loss= 0.148677\n",
      "Iter 7360, Minibatch Loss= 0.148837\n",
      "Iter 7680, Minibatch Loss= 0.149413\n",
      "Iter 8000, Minibatch Loss= 0.147351\n",
      "Iter 8320, Minibatch Loss= 0.148593\n",
      "Iter 8640, Minibatch Loss= 0.148953\n",
      "Iter 8960, Minibatch Loss= 0.148811\n",
      "Iter 9280, Minibatch Loss= 0.148545\n",
      "Iter 9600, Minibatch Loss= 0.148795\n",
      "Iter 9920, Minibatch Loss= 0.148791\n",
      "Optimization finished!\n",
      "Model saved in file: ../weights/refactor_weights.npz\n"
     ]
    },
    {
     "data": {
      "text/plain": [
       "([0.21029007,\n",
       "  0.17888132,\n",
       "  0.15951499,\n",
       "  0.1514153,\n",
       "  0.14809856,\n",
       "  0.14870137,\n",
       "  0.14859998,\n",
       "  0.14890958,\n",
       "  0.14806741,\n",
       "  0.14834437,\n",
       "  0.14913778,\n",
       "  0.14972106,\n",
       "  0.14866705,\n",
       "  0.14879623,\n",
       "  0.14834534,\n",
       "  0.14876473,\n",
       "  0.14881733,\n",
       "  0.14866801,\n",
       "  0.14883412,\n",
       "  0.148488,\n",
       "  0.14980416,\n",
       "  0.14867683,\n",
       "  0.14883676,\n",
       "  0.14941315,\n",
       "  0.14735053,\n",
       "  0.14859286,\n",
       "  0.14895301,\n",
       "  0.14881073,\n",
       "  0.14854504,\n",
       "  0.1487951,\n",
       "  0.14879078],\n",
       " 93.29169297218323,\n",
       " 20.130335092544556)"
      ]
     },
     "execution_count": 6,
     "metadata": {},
     "output_type": "execute_result"
    }
   ],
   "source": [
    "model.build()\n",
    "model.train(gen, {'save_weights_path': '../weights/refactor_weights.npz'})"
   ]
  },
  {
   "cell_type": "code",
   "execution_count": null,
   "metadata": {
    "collapsed": true
   },
   "outputs": [],
   "source": []
  },
  {
   "cell_type": "code",
   "execution_count": null,
   "metadata": {
    "collapsed": true
   },
   "outputs": [],
   "source": []
  },
  {
   "cell_type": "code",
   "execution_count": 11,
   "metadata": {
    "collapsed": true
   },
   "outputs": [],
   "source": [
    "x,y,m = gen.next()"
   ]
  },
  {
   "cell_type": "code",
   "execution_count": 12,
   "metadata": {
    "collapsed": false
   },
   "outputs": [
    {
     "data": {
      "text/plain": [
       "[<matplotlib.lines.Line2D at 0x12c8fb990>,\n",
       " <matplotlib.lines.Line2D at 0x12c8fbb90>]"
      ]
     },
     "execution_count": 12,
     "metadata": {},
     "output_type": "execute_result"
    },
    {
     "data": {
      "image/png": "[encoded data removed]",
      "text/plain": [
       "<matplotlib.figure.Figure at 0x12920a8d0>"
      ]
     },
     "metadata": {},
     "output_type": "display_data"
    }
   ],
   "source": [
    "plt.plot(x[0,:,:])"
   ]
  },
  {
   "cell_type": "code",
   "execution_count": 13,
   "metadata": {
    "collapsed": false
   },
   "outputs": [
    {
     "data": {
      "text/plain": [
       "[<matplotlib.lines.Line2D at 0x12ca89f50>,\n",
       " <matplotlib.lines.Line2D at 0x12ca99190>]"
      ]
     },
     "execution_count": 13,
     "metadata": {},
     "output_type": "execute_result"
    },
    {
     "data": {
      "image/png": "[encoded data removed]",
      "text/plain": [
       "<matplotlib.figure.Figure at 0x12c933a10>"
      ]
     },
     "metadata": {},
     "output_type": "display_data"
    }
   ],
   "source": [
    "plt.plot(y[0,:,:])"
   ]
  },
  {
   "cell_type": "code",
   "execution_count": 14,
   "metadata": {
    "collapsed": false
   },
   "outputs": [
    {
     "data": {
      "text/plain": [
       "[<matplotlib.lines.Line2D at 0x12cbae9d0>,\n",
       " <matplotlib.lines.Line2D at 0x12cbaebd0>]"
      ]
     },
     "execution_count": 14,
     "metadata": {},
     "output_type": "execute_result"
    },
    {
     "data": {
      "image/png": "[encoded data removed]",
      "text/plain": [
       "<matplotlib.figure.Figure at 0x12cada790>"
      ]
     },
     "metadata": {},
     "output_type": "display_data"
    }
   ],
   "source": [
    "plt.plot(model.test(x)[0][0,:,:])"
   ]
  },
  {
   "cell_type": "code",
   "execution_count": null,
   "metadata": {
    "collapsed": true
   },
   "outputs": [],
   "source": []
  },
  {
   "cell_type": "code",
   "execution_count": 12,
   "metadata": {
    "collapsed": true
   },
   "outputs": [],
   "source": [
    "model.destruct()"
   ]
  },
  {
   "cell_type": "code",
   "execution_count": null,
   "metadata": {
    "collapsed": true
   },
   "outputs": [],
   "source": []
  }
 ],
 "metadata": {
  "anaconda-cloud": {},
  "kernelspec": {
   "display_name": "Python [conda root]",
   "language": "python",
   "name": "conda-root-py"
  },
  "language_info": {
   "codemirror_mode": {
    "name": "ipython",
    "version": 2
   },
   "file_extension": ".py",
   "mimetype": "text/x-python",
   "name": "python",
   "nbconvert_exporter": "python",
   "pygments_lexer": "ipython2",
   "version": "2.7.12"
  }
 },
 "nbformat": 4,
 "nbformat_minor": 1
}
