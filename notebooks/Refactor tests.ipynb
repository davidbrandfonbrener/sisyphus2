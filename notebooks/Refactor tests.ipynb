{
 "cells": [
  {
   "cell_type": "code",
   "execution_count": 1,
   "metadata": {
    "collapsed": false
   },
   "outputs": [],
   "source": [
    "from sisyphus2.backend.models.basic import Basic, Basic_sigmoid, Basic_scan\n",
    "from sisyphus2.backend.models.lstm import LSTM\n",
    "from sisyphus2.tasks import task\n",
    "import numpy as np\n",
    "import tensorflow as tf\n",
    "from matplotlib import pyplot as plt\n",
    "%matplotlib inline"
   ]
  },
  {
   "cell_type": "code",
   "execution_count": 2,
   "metadata": {
    "collapsed": false
   },
   "outputs": [],
   "source": [
    "rdm = task.rdm2(stim_noise = 0.02, coherences = np.linspace(.5, .55, 100), rec_noise = .01, N_rec = 50)\n",
    "gen = rdm.generate_train_trials()\n",
    "params = rdm.__dict__"
   ]
  },
  {
   "cell_type": "code",
   "execution_count": 3,
   "metadata": {
    "collapsed": true
   },
   "outputs": [],
   "source": [
    "params['loss_function'] = 'mean_squared_error'"
   ]
  },
  {
   "cell_type": "code",
   "execution_count": null,
   "metadata": {
    "collapsed": true
   },
   "outputs": [],
   "source": []
  },
  {
   "cell_type": "code",
   "execution_count": 4,
   "metadata": {
    "collapsed": false
   },
   "outputs": [],
   "source": [
    "params['load_weights_path'] = '../weights/test_50_rec.npz'"
   ]
  },
  {
   "cell_type": "code",
   "execution_count": null,
   "metadata": {
    "collapsed": true
   },
   "outputs": [],
   "source": []
  },
  {
   "cell_type": "code",
   "execution_count": 16,
   "metadata": {
    "collapsed": true
   },
   "outputs": [],
   "source": [
    "train_params ={'save_weights_path': '../weights/test_50_rec.npz'}"
   ]
  },
  {
   "cell_type": "code",
   "execution_count": null,
   "metadata": {
    "collapsed": true
   },
   "outputs": [],
   "source": []
  },
  {
   "cell_type": "code",
   "execution_count": 12,
   "metadata": {
    "collapsed": false
   },
   "outputs": [],
   "source": [
    "tf.reset_default_graph()\n",
    "model = Basic(params)"
   ]
  },
  {
   "cell_type": "code",
   "execution_count": 13,
   "metadata": {
    "collapsed": false
   },
   "outputs": [],
   "source": [
    "model.build()"
   ]
  },
  {
   "cell_type": "code",
   "execution_count": 14,
   "metadata": {
    "collapsed": false,
    "scrolled": true
   },
   "outputs": [
    {
     "name": "stdout",
     "output_type": "stream",
     "text": [
      "Iter 640, Minibatch Loss= 0.003459\n",
      "Iter 1280, Minibatch Loss= 0.002751\n",
      "Iter 1920, Minibatch Loss= 0.001334\n",
      "Iter 2560, Minibatch Loss= 0.001294\n",
      "Iter 3200, Minibatch Loss= 0.001314\n",
      "Iter 3840, Minibatch Loss= 0.001513\n",
      "Iter 4480, Minibatch Loss= 0.001362\n",
      "Iter 5120, Minibatch Loss= 0.001790\n",
      "Iter 5760, Minibatch Loss= 0.001390\n",
      "Iter 6400, Minibatch Loss= 0.001344\n",
      "Iter 7040, Minibatch Loss= 0.001130\n",
      "Iter 7680, Minibatch Loss= 0.001175\n",
      "Iter 8320, Minibatch Loss= 0.001094\n",
      "Iter 8960, Minibatch Loss= 0.001130\n",
      "Iter 9600, Minibatch Loss= 0.001077\n",
      "Optimization finished!\n"
     ]
    },
    {
     "data": {
      "text/plain": [
       "(28.518043994903564, 62.86363697052002)"
      ]
     },
     "execution_count": 14,
     "metadata": {},
     "output_type": "execute_result"
    }
   ],
   "source": [
    "model.train(gen, {'training_iters': 10000})"
   ]
  },
  {
   "cell_type": "code",
   "execution_count": 11,
   "metadata": {
    "collapsed": true
   },
   "outputs": [],
   "source": [
    "model.destruct()"
   ]
  },
  {
   "cell_type": "code",
   "execution_count": null,
   "metadata": {
    "collapsed": true
   },
   "outputs": [],
   "source": []
  },
  {
   "cell_type": "code",
   "execution_count": 7,
   "metadata": {
    "collapsed": false
   },
   "outputs": [],
   "source": [
    "tf.reset_default_graph()\n",
    "model = LSTM(params)"
   ]
  },
  {
   "cell_type": "code",
   "execution_count": 8,
   "metadata": {
    "collapsed": false
   },
   "outputs": [],
   "source": [
    "model.build()"
   ]
  },
  {
   "cell_type": "code",
   "execution_count": 9,
   "metadata": {
    "collapsed": false
   },
   "outputs": [
    {
     "name": "stdout",
     "output_type": "stream",
     "text": [
      "Iter 640, Minibatch Loss= 0.192983\n",
      "Iter 1280, Minibatch Loss= 0.183472\n",
      "Iter 1920, Minibatch Loss= 0.148720\n",
      "Iter 2560, Minibatch Loss= 0.197788\n",
      "Iter 3200, Minibatch Loss= 0.159080\n",
      "Iter 3840, Minibatch Loss= 0.205236\n",
      "Iter 4480, Minibatch Loss= 0.130954\n",
      "Iter 5120, Minibatch Loss= 0.144440\n",
      "Iter 5760, Minibatch Loss= 0.199810\n",
      "Iter 6400, Minibatch Loss= 0.116932\n",
      "Iter 7040, Minibatch Loss= 0.160596\n",
      "Iter 7680, Minibatch Loss= 0.145903\n",
      "Iter 8320, Minibatch Loss= 0.201076\n",
      "Iter 8960, Minibatch Loss= 0.129511\n",
      "Iter 9600, Minibatch Loss= 0.155738\n",
      "Iter 10240, Minibatch Loss= 0.177046\n",
      "Iter 10880, Minibatch Loss= 0.118464\n",
      "Iter 11520, Minibatch Loss= 0.116099\n",
      "Iter 12160, Minibatch Loss= 0.104148\n",
      "Iter 12800, Minibatch Loss= 0.182881\n",
      "Iter 13440, Minibatch Loss= 0.186974\n",
      "Iter 14080, Minibatch Loss= 0.162599\n",
      "Iter 14720, Minibatch Loss= 0.192524\n",
      "Iter 15360, Minibatch Loss= 0.198016\n",
      "Iter 16000, Minibatch Loss= 0.144739\n",
      "Iter 16640, Minibatch Loss= 0.144917\n",
      "Iter 17280, Minibatch Loss= 0.193777\n",
      "Iter 17920, Minibatch Loss= 0.151918\n",
      "Iter 18560, Minibatch Loss= 0.183177\n",
      "Iter 19200, Minibatch Loss= 0.127797\n",
      "Iter 19840, Minibatch Loss= 0.155172\n",
      "Iter 20480, Minibatch Loss= 0.117678\n",
      "Iter 21120, Minibatch Loss= 0.110255\n",
      "Iter 21760, Minibatch Loss= 0.186751\n",
      "Iter 22400, Minibatch Loss= 0.168808\n",
      "Iter 23040, Minibatch Loss= 0.192295\n",
      "Iter 23680, Minibatch Loss= 0.161264\n",
      "Iter 24320, Minibatch Loss= 0.132018\n",
      "Iter 24960, Minibatch Loss= 0.105715\n",
      "Iter 25600, Minibatch Loss= 0.157527\n",
      "Iter 26240, Minibatch Loss= 0.197505\n",
      "Iter 26880, Minibatch Loss= 0.192578\n",
      "Iter 27520, Minibatch Loss= 0.178838\n",
      "Iter 28160, Minibatch Loss= 0.145527\n",
      "Iter 28800, Minibatch Loss= 0.127923\n",
      "Iter 29440, Minibatch Loss= 0.166799\n",
      "Iter 30080, Minibatch Loss= 0.173005\n",
      "Iter 30720, Minibatch Loss= 0.193666\n",
      "Iter 31360, Minibatch Loss= 0.183976\n",
      "Iter 32000, Minibatch Loss= 0.176997\n",
      "Iter 32640, Minibatch Loss= 0.164958\n",
      "Iter 33280, Minibatch Loss= 0.121083\n",
      "Iter 33920, Minibatch Loss= 0.132823\n",
      "Iter 34560, Minibatch Loss= 0.114775\n",
      "Iter 35200, Minibatch Loss= 0.151114\n",
      "Iter 35840, Minibatch Loss= 0.143945\n",
      "Iter 36480, Minibatch Loss= 0.180705\n",
      "Iter 37120, Minibatch Loss= 0.133637\n",
      "Iter 37760, Minibatch Loss= 0.175484\n",
      "Iter 38400, Minibatch Loss= 0.164091\n",
      "Iter 39040, Minibatch Loss= 0.176426\n",
      "Iter 39680, Minibatch Loss= 0.170912\n",
      "Iter 40320, Minibatch Loss= 0.205858\n",
      "Iter 40960, Minibatch Loss= 0.181734\n",
      "Iter 41600, Minibatch Loss= 0.156572\n",
      "Iter 42240, Minibatch Loss= 0.165055\n",
      "Iter 42880, Minibatch Loss= 0.133716\n",
      "Iter 43520, Minibatch Loss= 0.163781\n",
      "Iter 44160, Minibatch Loss= 0.161425\n",
      "Iter 44800, Minibatch Loss= 0.165788\n",
      "Iter 45440, Minibatch Loss= 0.147043\n",
      "Iter 46080, Minibatch Loss= 0.107193\n",
      "Iter 46720, Minibatch Loss= 0.085120\n",
      "Iter 47360, Minibatch Loss= 0.067822\n",
      "Iter 48000, Minibatch Loss= 0.059337\n",
      "Iter 48640, Minibatch Loss= 0.065502\n",
      "Iter 49280, Minibatch Loss= 0.053179\n",
      "Iter 49920, Minibatch Loss= 0.065927\n",
      "Optimization finished!\n"
     ]
    },
    {
     "data": {
      "text/plain": [
       "(145.1408519744873, 65.44768905639648)"
      ]
     },
     "execution_count": 9,
     "metadata": {},
     "output_type": "execute_result"
    }
   ],
   "source": [
    "model.train(gen, {})"
   ]
  },
  {
   "cell_type": "code",
   "execution_count": null,
   "metadata": {
    "collapsed": true
   },
   "outputs": [],
   "source": []
  },
  {
   "cell_type": "code",
   "execution_count": null,
   "metadata": {
    "collapsed": true
   },
   "outputs": [],
   "source": []
  },
  {
   "cell_type": "code",
   "execution_count": 10,
   "metadata": {
    "collapsed": false
   },
   "outputs": [],
   "source": [
    "tf.reset_default_graph()\n",
    "model = Basic_sigmoid(params)"
   ]
  },
  {
   "cell_type": "code",
   "execution_count": 11,
   "metadata": {
    "collapsed": true
   },
   "outputs": [],
   "source": [
    "model.build()"
   ]
  },
  {
   "cell_type": "code",
   "execution_count": 12,
   "metadata": {
    "collapsed": false
   },
   "outputs": [
    {
     "name": "stdout",
     "output_type": "stream",
     "text": [
      "Iter 640, Minibatch Loss= 0.195098\n",
      "Iter 1280, Minibatch Loss= 0.155132\n",
      "Iter 1920, Minibatch Loss= 0.115115\n",
      "Iter 2560, Minibatch Loss= 0.183497\n",
      "Iter 3200, Minibatch Loss= 0.128513\n",
      "Iter 3840, Minibatch Loss= 0.124257\n",
      "Iter 4480, Minibatch Loss= 0.179334\n",
      "Iter 5120, Minibatch Loss= 0.133492\n",
      "Iter 5760, Minibatch Loss= 0.125150\n",
      "Iter 6400, Minibatch Loss= 0.152611\n",
      "Iter 7040, Minibatch Loss= 0.166292\n",
      "Iter 7680, Minibatch Loss= 0.139638\n",
      "Iter 8320, Minibatch Loss= 0.124516\n",
      "Iter 8960, Minibatch Loss= 0.159407\n",
      "Iter 9600, Minibatch Loss= 0.111304\n",
      "Iter 10240, Minibatch Loss= 0.176113\n",
      "Iter 10880, Minibatch Loss= 0.181504\n",
      "Iter 11520, Minibatch Loss= 0.136199\n",
      "Iter 12160, Minibatch Loss= 0.146469\n",
      "Iter 12800, Minibatch Loss= 0.128809\n",
      "Iter 13440, Minibatch Loss= 0.147789\n",
      "Iter 14080, Minibatch Loss= 0.160914\n",
      "Iter 14720, Minibatch Loss= 0.135058\n",
      "Iter 15360, Minibatch Loss= 0.172715\n",
      "Iter 16000, Minibatch Loss= 0.137437\n",
      "Iter 16640, Minibatch Loss= 0.148012\n",
      "Iter 17280, Minibatch Loss= 0.172166\n",
      "Iter 17920, Minibatch Loss= 0.143507\n",
      "Iter 18560, Minibatch Loss= 0.160914\n",
      "Iter 19200, Minibatch Loss= 0.146018\n",
      "Iter 19840, Minibatch Loss= 0.157214\n",
      "Iter 20480, Minibatch Loss= 0.116530\n",
      "Iter 21120, Minibatch Loss= 0.170775\n",
      "Iter 21760, Minibatch Loss= 0.120814\n",
      "Iter 22400, Minibatch Loss= 0.146765\n",
      "Iter 23040, Minibatch Loss= 0.143471\n",
      "Iter 23680, Minibatch Loss= 0.185029\n",
      "Iter 24320, Minibatch Loss= 0.119404\n",
      "Iter 24960, Minibatch Loss= 0.136049\n",
      "Iter 25600, Minibatch Loss= 0.110240\n",
      "Iter 26240, Minibatch Loss= 0.088777\n",
      "Iter 26880, Minibatch Loss= 0.171395\n",
      "Iter 27520, Minibatch Loss= 0.170035\n",
      "Iter 28160, Minibatch Loss= 0.123246\n",
      "Iter 28800, Minibatch Loss= 0.145556\n",
      "Iter 29440, Minibatch Loss= 0.132958\n",
      "Iter 30080, Minibatch Loss= 0.153702\n",
      "Iter 30720, Minibatch Loss= 0.108911\n",
      "Iter 31360, Minibatch Loss= 0.099346\n",
      "Iter 32000, Minibatch Loss= 0.126225\n",
      "Iter 32640, Minibatch Loss= 0.125597\n",
      "Iter 33280, Minibatch Loss= 0.095354\n",
      "Iter 33920, Minibatch Loss= 0.114186\n",
      "Iter 34560, Minibatch Loss= 0.111666\n",
      "Iter 35200, Minibatch Loss= 0.169877\n",
      "Iter 35840, Minibatch Loss= 0.104788\n",
      "Iter 36480, Minibatch Loss= 0.093923\n",
      "Iter 37120, Minibatch Loss= 0.078613\n",
      "Iter 37760, Minibatch Loss= 0.106777\n",
      "Iter 38400, Minibatch Loss= 0.091974\n",
      "Iter 39040, Minibatch Loss= 0.090541\n",
      "Iter 39680, Minibatch Loss= 0.098068\n",
      "Iter 40320, Minibatch Loss= 0.108942\n",
      "Iter 40960, Minibatch Loss= 0.104528\n",
      "Iter 41600, Minibatch Loss= 0.079338\n",
      "Iter 42240, Minibatch Loss= 0.152832\n",
      "Iter 42880, Minibatch Loss= 0.081953\n",
      "Iter 43520, Minibatch Loss= 0.117370\n",
      "Iter 44160, Minibatch Loss= 0.096936\n",
      "Iter 44800, Minibatch Loss= 0.120450\n",
      "Iter 45440, Minibatch Loss= 0.124833\n",
      "Iter 46080, Minibatch Loss= 0.140492\n",
      "Iter 46720, Minibatch Loss= 0.127976\n",
      "Iter 47360, Minibatch Loss= 0.055594\n",
      "Iter 48000, Minibatch Loss= 0.055035\n",
      "Iter 48640, Minibatch Loss= 0.074687\n",
      "Iter 49280, Minibatch Loss= 0.057395\n",
      "Iter 49920, Minibatch Loss= 0.068609\n",
      "Optimization finished!\n"
     ]
    },
    {
     "data": {
      "text/plain": [
       "(124.28856682777405, 72.06825804710388)"
      ]
     },
     "execution_count": 12,
     "metadata": {},
     "output_type": "execute_result"
    }
   ],
   "source": [
    "model.train(gen, {})"
   ]
  },
  {
   "cell_type": "code",
   "execution_count": null,
   "metadata": {
    "collapsed": true
   },
   "outputs": [],
   "source": []
  },
  {
   "cell_type": "code",
   "execution_count": null,
   "metadata": {
    "collapsed": true
   },
   "outputs": [],
   "source": []
  },
  {
   "cell_type": "code",
   "execution_count": 13,
   "metadata": {
    "collapsed": false
   },
   "outputs": [],
   "source": [
    "tf.reset_default_graph()\n",
    "model = Basic_scan(params)"
   ]
  },
  {
   "cell_type": "code",
   "execution_count": 14,
   "metadata": {
    "collapsed": true
   },
   "outputs": [],
   "source": [
    "model.build()"
   ]
  },
  {
   "cell_type": "code",
   "execution_count": 15,
   "metadata": {
    "collapsed": false
   },
   "outputs": [
    {
     "name": "stdout",
     "output_type": "stream",
     "text": [
      "Iter 640, Minibatch Loss= 0.272054\n",
      "Iter 1280, Minibatch Loss= 0.170246\n",
      "Iter 1920, Minibatch Loss= 0.078765\n",
      "Iter 2560, Minibatch Loss= 0.118882\n",
      "Iter 3200, Minibatch Loss= 0.093433\n",
      "Iter 3840, Minibatch Loss= 0.100554\n",
      "Iter 4480, Minibatch Loss= 0.096155\n",
      "Iter 5120, Minibatch Loss= 0.057453\n",
      "Iter 5760, Minibatch Loss= 0.037765\n",
      "Iter 6400, Minibatch Loss= 0.009540\n",
      "Iter 7040, Minibatch Loss= 0.009572\n",
      "Iter 7680, Minibatch Loss= 0.006069\n",
      "Iter 8320, Minibatch Loss= 0.006144\n",
      "Iter 8960, Minibatch Loss= 0.005117\n",
      "Iter 9600, Minibatch Loss= 0.005521\n",
      "Iter 10240, Minibatch Loss= 0.004703\n",
      "Iter 10880, Minibatch Loss= 0.004308\n",
      "Iter 11520, Minibatch Loss= 0.004290\n",
      "Iter 12160, Minibatch Loss= 0.004176\n",
      "Iter 12800, Minibatch Loss= 0.003783\n",
      "Iter 13440, Minibatch Loss= 0.003086\n",
      "Iter 14080, Minibatch Loss= 0.002945\n",
      "Iter 14720, Minibatch Loss= 0.002676\n",
      "Iter 15360, Minibatch Loss= 0.003262\n",
      "Iter 16000, Minibatch Loss= 0.002912\n",
      "Iter 16640, Minibatch Loss= 0.003097\n",
      "Iter 17280, Minibatch Loss= 0.002752\n",
      "Iter 17920, Minibatch Loss= 0.002267\n",
      "Iter 18560, Minibatch Loss= 0.002554\n",
      "Iter 19200, Minibatch Loss= 0.002141\n",
      "Iter 19840, Minibatch Loss= 0.002547\n",
      "Iter 20480, Minibatch Loss= 0.002115\n",
      "Iter 21120, Minibatch Loss= 0.002745\n",
      "Iter 21760, Minibatch Loss= 0.003208\n",
      "Iter 22400, Minibatch Loss= 0.003043\n",
      "Iter 23040, Minibatch Loss= 0.002177\n",
      "Iter 23680, Minibatch Loss= 0.002658\n",
      "Iter 24320, Minibatch Loss= 0.002302\n",
      "Iter 24960, Minibatch Loss= 0.002138\n",
      "Iter 25600, Minibatch Loss= 0.001860\n",
      "Iter 26240, Minibatch Loss= 0.001600\n",
      "Iter 26880, Minibatch Loss= 0.001683\n",
      "Iter 27520, Minibatch Loss= 0.001885\n",
      "Iter 28160, Minibatch Loss= 0.001758\n",
      "Iter 28800, Minibatch Loss= 0.001895\n",
      "Iter 29440, Minibatch Loss= 0.001505\n",
      "Iter 30080, Minibatch Loss= 0.001627\n",
      "Iter 30720, Minibatch Loss= 0.001694\n",
      "Iter 31360, Minibatch Loss= 0.001611\n",
      "Iter 32000, Minibatch Loss= 0.001364\n",
      "Iter 32640, Minibatch Loss= 0.001613\n",
      "Iter 33280, Minibatch Loss= 0.001425\n",
      "Iter 33920, Minibatch Loss= 0.001674\n",
      "Iter 34560, Minibatch Loss= 0.001625\n",
      "Iter 35200, Minibatch Loss= 0.001604\n",
      "Iter 35840, Minibatch Loss= 0.001428\n",
      "Iter 36480, Minibatch Loss= 0.001407\n",
      "Iter 37120, Minibatch Loss= 0.001471\n",
      "Iter 37760, Minibatch Loss= 0.001197\n",
      "Iter 38400, Minibatch Loss= 0.001638\n",
      "Iter 39040, Minibatch Loss= 0.001242\n",
      "Iter 39680, Minibatch Loss= 0.001337\n",
      "Iter 40320, Minibatch Loss= 0.001099\n",
      "Iter 40960, Minibatch Loss= 0.001189\n",
      "Iter 41600, Minibatch Loss= 0.001160\n",
      "Iter 42240, Minibatch Loss= 0.001193\n",
      "Iter 42880, Minibatch Loss= 0.001112\n",
      "Iter 43520, Minibatch Loss= 0.001244\n",
      "Iter 44160, Minibatch Loss= 0.001168\n",
      "Iter 44800, Minibatch Loss= 0.001112\n",
      "Iter 45440, Minibatch Loss= 0.001119\n",
      "Iter 46080, Minibatch Loss= 0.001393\n",
      "Iter 46720, Minibatch Loss= 0.001025\n",
      "Iter 47360, Minibatch Loss= 0.001293\n",
      "Iter 48000, Minibatch Loss= 0.001308\n",
      "Iter 48640, Minibatch Loss= 0.001359\n",
      "Iter 49280, Minibatch Loss= 0.001428\n",
      "Iter 49920, Minibatch Loss= 0.001116\n",
      "Optimization finished!\n"
     ]
    },
    {
     "data": {
      "text/plain": [
       "(138.7799699306488, 14.857112884521484)"
      ]
     },
     "execution_count": 15,
     "metadata": {},
     "output_type": "execute_result"
    }
   ],
   "source": [
    "model.train(gen, {})"
   ]
  },
  {
   "cell_type": "code",
   "execution_count": null,
   "metadata": {
    "collapsed": true
   },
   "outputs": [],
   "source": []
  },
  {
   "cell_type": "code",
   "execution_count": null,
   "metadata": {
    "collapsed": true
   },
   "outputs": [],
   "source": []
  },
  {
   "cell_type": "code",
   "execution_count": null,
   "metadata": {
    "collapsed": true
   },
   "outputs": [],
   "source": []
  },
  {
   "cell_type": "code",
   "execution_count": 17,
   "metadata": {
    "collapsed": true
   },
   "outputs": [],
   "source": [
    "model.destruct()"
   ]
  },
  {
   "cell_type": "code",
   "execution_count": 5,
   "metadata": {
    "collapsed": false
   },
   "outputs": [],
   "source": [
    "model = Basic(params)\n",
    "model.build()"
   ]
  },
  {
   "cell_type": "code",
   "execution_count": 15,
   "metadata": {
    "collapsed": true
   },
   "outputs": [],
   "source": [
    "x = gen.next()[0]"
   ]
  },
  {
   "cell_type": "code",
   "execution_count": 57,
   "metadata": {
    "collapsed": false
   },
   "outputs": [],
   "source": [
    "outputs, states = model.test_batch(x)"
   ]
  },
  {
   "cell_type": "code",
   "execution_count": 58,
   "metadata": {
    "collapsed": false
   },
   "outputs": [
    {
     "data": {
      "text/plain": [
       "[<matplotlib.lines.Line2D at 0x14fa22510>,\n",
       " <matplotlib.lines.Line2D at 0x14fa22710>]"
      ]
     },
     "execution_count": 58,
     "metadata": {},
     "output_type": "execute_result"
    },
    {
     "data": {
      "image/png": "[encoded data removed]",
      "text/plain": [
       "<matplotlib.figure.Figure at 0x15c87a950>"
      ]
     },
     "metadata": {},
     "output_type": "display_data"
    }
   ],
   "source": [
    "plt.plot(x[1,:,:])"
   ]
  },
  {
   "cell_type": "code",
   "execution_count": 59,
   "metadata": {
    "collapsed": false
   },
   "outputs": [
    {
     "data": {
      "text/plain": [
       "[<matplotlib.lines.Line2D at 0x148ef1750>,\n",
       " <matplotlib.lines.Line2D at 0x148ef1950>]"
      ]
     },
     "execution_count": 59,
     "metadata": {},
     "output_type": "execute_result"
    },
    {
     "data": {
      "image/png": "[encoded data removed]",
      "text/plain": [
       "<matplotlib.figure.Figure at 0x152901b90>"
      ]
     },
     "metadata": {},
     "output_type": "display_data"
    }
   ],
   "source": [
    "plt.plot(outputs[1,:,:])"
   ]
  },
  {
   "cell_type": "code",
   "execution_count": 60,
   "metadata": {
    "collapsed": false
   },
   "outputs": [
    {
     "data": {
      "text/plain": [
       "-0.052840549"
      ]
     },
     "execution_count": 60,
     "metadata": {},
     "output_type": "execute_result"
    }
   ],
   "source": [
    "outputs[1,2,1]"
   ]
  },
  {
   "cell_type": "code",
   "execution_count": 61,
   "metadata": {
    "collapsed": false
   },
   "outputs": [
    {
     "data": {
      "text/plain": [
       "1.0008873123869966"
      ]
     },
     "execution_count": 61,
     "metadata": {},
     "output_type": "execute_result"
    }
   ],
   "source": [
    "x[1,2,1]"
   ]
  },
  {
   "cell_type": "code",
   "execution_count": null,
   "metadata": {
    "collapsed": true
   },
   "outputs": [],
   "source": []
  },
  {
   "cell_type": "code",
   "execution_count": null,
   "metadata": {
    "collapsed": true
   },
   "outputs": [],
   "source": []
  },
  {
   "cell_type": "code",
   "execution_count": null,
   "metadata": {
    "collapsed": true
   },
   "outputs": [],
   "source": []
  }
 ],
 "metadata": {
  "anaconda-cloud": {},
  "kernelspec": {
   "display_name": "Python [conda root]",
   "language": "python",
   "name": "conda-root-py"
  },
  "language_info": {
   "codemirror_mode": {
    "name": "ipython",
    "version": 2
   },
   "file_extension": ".py",
   "mimetype": "text/x-python",
   "name": "python",
   "nbconvert_exporter": "python",
   "pygments_lexer": "ipython2",
   "version": "2.7.12"
  }
 },
 "nbformat": 4,
 "nbformat_minor": 1
}
