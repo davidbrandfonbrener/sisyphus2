{
 "cells": [
  {
   "cell_type": "code",
   "execution_count": 4,
   "metadata": {
    "collapsed": false
   },
   "outputs": [],
   "source": [
    "from sisyphus2.backend.models.basic import Basic, Basic_sigmoid, Basic_scan\n",
    "from sisyphus2.backend.models.lstm import LSTM\n",
    "from sisyphus2.tasks import task\n",
    "import numpy as np\n",
    "import tensorflow as tf"
   ]
  },
  {
   "cell_type": "code",
   "execution_count": 5,
   "metadata": {
    "collapsed": false
   },
   "outputs": [],
   "source": [
    "rdm = task.rdm2(stim_noise = 0.02, coherences = np.linspace(.5, .55, 100), rec_noise = .01, N_rec = 50)\n",
    "gen = rdm.generate_train_trials()\n",
    "params = rdm.__dict__"
   ]
  },
  {
   "cell_type": "code",
   "execution_count": 6,
   "metadata": {
    "collapsed": true
   },
   "outputs": [],
   "source": [
    "params['loss_function'] = 'mean_squared_error'"
   ]
  },
  {
   "cell_type": "code",
   "execution_count": null,
   "metadata": {
    "collapsed": true
   },
   "outputs": [],
   "source": []
  },
  {
   "cell_type": "code",
   "execution_count": null,
   "metadata": {
    "collapsed": true
   },
   "outputs": [],
   "source": []
  },
  {
   "cell_type": "code",
   "execution_count": null,
   "metadata": {
    "collapsed": true
   },
   "outputs": [],
   "source": []
  },
  {
   "cell_type": "code",
   "execution_count": 7,
   "metadata": {
    "collapsed": false
   },
   "outputs": [],
   "source": [
    "tf.reset_default_graph()\n",
    "model = Basic(params)"
   ]
  },
  {
   "cell_type": "code",
   "execution_count": 8,
   "metadata": {
    "collapsed": false
   },
   "outputs": [],
   "source": [
    "model.build()"
   ]
  },
  {
   "cell_type": "code",
   "execution_count": null,
   "metadata": {
    "collapsed": false
   },
   "outputs": [
    {
     "name": "stdout",
     "output_type": "stream",
     "text": [
      "Iter 640, Minibatch Loss= 0.202411\n",
      "Iter 1280, Minibatch Loss= 0.213777\n",
      "Iter 1920, Minibatch Loss= 0.129500\n",
      "Iter 2560, Minibatch Loss= 0.179772\n",
      "Iter 3200, Minibatch Loss= 0.072311\n",
      "Iter 3840, Minibatch Loss= 0.113412\n",
      "Iter 4480, Minibatch Loss= 0.084910\n",
      "Iter 5120, Minibatch Loss= 0.142856\n",
      "Iter 5760, Minibatch Loss= 0.099546\n",
      "Iter 6400, Minibatch Loss= 0.132172\n",
      "Iter 7040, Minibatch Loss= 0.025790\n",
      "Iter 7680, Minibatch Loss= 0.008105\n",
      "Iter 8320, Minibatch Loss= 0.010748\n",
      "Iter 8960, Minibatch Loss= 0.006331\n",
      "Iter 9600, Minibatch Loss= 0.006036\n",
      "Iter 10240, Minibatch Loss= 0.006478\n",
      "Iter 10880, Minibatch Loss= 0.005523\n",
      "Iter 11520, Minibatch Loss= 0.004862\n",
      "Iter 12160, Minibatch Loss= 0.004675\n",
      "Iter 12800, Minibatch Loss= 0.004127\n",
      "Iter 13440, Minibatch Loss= 0.004599\n",
      "Iter 14080, Minibatch Loss= 0.003941\n",
      "Iter 14720, Minibatch Loss= 0.003753\n",
      "Iter 15360, Minibatch Loss= 0.003615\n",
      "Iter 16000, Minibatch Loss= 0.003669\n",
      "Iter 16640, Minibatch Loss= 0.003300\n",
      "Iter 17280, Minibatch Loss= 0.003469\n",
      "Iter 17920, Minibatch Loss= 0.003255\n",
      "Iter 18560, Minibatch Loss= 0.003585\n",
      "Iter 19200, Minibatch Loss= 0.003162\n",
      "Iter 19840, Minibatch Loss= 0.003043\n",
      "Iter 20480, Minibatch Loss= 0.002580\n",
      "Iter 21120, Minibatch Loss= 0.002398\n",
      "Iter 21760, Minibatch Loss= 0.002632\n",
      "Iter 22400, Minibatch Loss= 0.002407\n",
      "Iter 23040, Minibatch Loss= 0.002421\n"
     ]
    }
   ],
   "source": [
    "model.train(gen, {})"
   ]
  },
  {
   "cell_type": "code",
   "execution_count": null,
   "metadata": {
    "collapsed": true
   },
   "outputs": [],
   "source": []
  },
  {
   "cell_type": "code",
   "execution_count": 7,
   "metadata": {
    "collapsed": false
   },
   "outputs": [],
   "source": [
    "tf.reset_default_graph()\n",
    "model = LSTM(params)"
   ]
  },
  {
   "cell_type": "code",
   "execution_count": 8,
   "metadata": {
    "collapsed": false
   },
   "outputs": [],
   "source": [
    "model.build()"
   ]
  },
  {
   "cell_type": "code",
   "execution_count": 9,
   "metadata": {
    "collapsed": false
   },
   "outputs": [
    {
     "name": "stdout",
     "output_type": "stream",
     "text": [
      "Iter 640, Minibatch Loss= 0.192983\n",
      "Iter 1280, Minibatch Loss= 0.183472\n",
      "Iter 1920, Minibatch Loss= 0.148720\n",
      "Iter 2560, Minibatch Loss= 0.197788\n",
      "Iter 3200, Minibatch Loss= 0.159080\n",
      "Iter 3840, Minibatch Loss= 0.205236\n",
      "Iter 4480, Minibatch Loss= 0.130954\n",
      "Iter 5120, Minibatch Loss= 0.144440\n",
      "Iter 5760, Minibatch Loss= 0.199810\n",
      "Iter 6400, Minibatch Loss= 0.116932\n",
      "Iter 7040, Minibatch Loss= 0.160596\n",
      "Iter 7680, Minibatch Loss= 0.145903\n",
      "Iter 8320, Minibatch Loss= 0.201076\n",
      "Iter 8960, Minibatch Loss= 0.129511\n",
      "Iter 9600, Minibatch Loss= 0.155738\n",
      "Iter 10240, Minibatch Loss= 0.177046\n",
      "Iter 10880, Minibatch Loss= 0.118464\n",
      "Iter 11520, Minibatch Loss= 0.116099\n",
      "Iter 12160, Minibatch Loss= 0.104148\n",
      "Iter 12800, Minibatch Loss= 0.182881\n",
      "Iter 13440, Minibatch Loss= 0.186974\n",
      "Iter 14080, Minibatch Loss= 0.162599\n",
      "Iter 14720, Minibatch Loss= 0.192524\n",
      "Iter 15360, Minibatch Loss= 0.198016\n",
      "Iter 16000, Minibatch Loss= 0.144739\n",
      "Iter 16640, Minibatch Loss= 0.144917\n",
      "Iter 17280, Minibatch Loss= 0.193777\n",
      "Iter 17920, Minibatch Loss= 0.151918\n",
      "Iter 18560, Minibatch Loss= 0.183177\n",
      "Iter 19200, Minibatch Loss= 0.127797\n",
      "Iter 19840, Minibatch Loss= 0.155172\n",
      "Iter 20480, Minibatch Loss= 0.117678\n",
      "Iter 21120, Minibatch Loss= 0.110255\n",
      "Iter 21760, Minibatch Loss= 0.186751\n",
      "Iter 22400, Minibatch Loss= 0.168808\n",
      "Iter 23040, Minibatch Loss= 0.192295\n",
      "Iter 23680, Minibatch Loss= 0.161264\n",
      "Iter 24320, Minibatch Loss= 0.132018\n",
      "Iter 24960, Minibatch Loss= 0.105715\n",
      "Iter 25600, Minibatch Loss= 0.157527\n",
      "Iter 26240, Minibatch Loss= 0.197505\n",
      "Iter 26880, Minibatch Loss= 0.192578\n",
      "Iter 27520, Minibatch Loss= 0.178838\n",
      "Iter 28160, Minibatch Loss= 0.145527\n",
      "Iter 28800, Minibatch Loss= 0.127923\n",
      "Iter 29440, Minibatch Loss= 0.166799\n",
      "Iter 30080, Minibatch Loss= 0.173005\n",
      "Iter 30720, Minibatch Loss= 0.193666\n",
      "Iter 31360, Minibatch Loss= 0.183976\n",
      "Iter 32000, Minibatch Loss= 0.176997\n",
      "Iter 32640, Minibatch Loss= 0.164958\n",
      "Iter 33280, Minibatch Loss= 0.121083\n",
      "Iter 33920, Minibatch Loss= 0.132823\n",
      "Iter 34560, Minibatch Loss= 0.114775\n",
      "Iter 35200, Minibatch Loss= 0.151114\n",
      "Iter 35840, Minibatch Loss= 0.143945\n",
      "Iter 36480, Minibatch Loss= 0.180705\n",
      "Iter 37120, Minibatch Loss= 0.133637\n",
      "Iter 37760, Minibatch Loss= 0.175484\n",
      "Iter 38400, Minibatch Loss= 0.164091\n",
      "Iter 39040, Minibatch Loss= 0.176426\n",
      "Iter 39680, Minibatch Loss= 0.170912\n",
      "Iter 40320, Minibatch Loss= 0.205858\n",
      "Iter 40960, Minibatch Loss= 0.181734\n",
      "Iter 41600, Minibatch Loss= 0.156572\n",
      "Iter 42240, Minibatch Loss= 0.165055\n",
      "Iter 42880, Minibatch Loss= 0.133716\n",
      "Iter 43520, Minibatch Loss= 0.163781\n",
      "Iter 44160, Minibatch Loss= 0.161425\n",
      "Iter 44800, Minibatch Loss= 0.165788\n",
      "Iter 45440, Minibatch Loss= 0.147043\n",
      "Iter 46080, Minibatch Loss= 0.107193\n",
      "Iter 46720, Minibatch Loss= 0.085120\n",
      "Iter 47360, Minibatch Loss= 0.067822\n",
      "Iter 48000, Minibatch Loss= 0.059337\n",
      "Iter 48640, Minibatch Loss= 0.065502\n",
      "Iter 49280, Minibatch Loss= 0.053179\n",
      "Iter 49920, Minibatch Loss= 0.065927\n",
      "Optimization finished!\n"
     ]
    },
    {
     "data": {
      "text/plain": [
       "(145.1408519744873, 65.44768905639648)"
      ]
     },
     "execution_count": 9,
     "metadata": {},
     "output_type": "execute_result"
    }
   ],
   "source": [
    "model.train(gen, {})"
   ]
  },
  {
   "cell_type": "code",
   "execution_count": null,
   "metadata": {
    "collapsed": true
   },
   "outputs": [],
   "source": []
  },
  {
   "cell_type": "code",
   "execution_count": null,
   "metadata": {
    "collapsed": true
   },
   "outputs": [],
   "source": []
  },
  {
   "cell_type": "code",
   "execution_count": 10,
   "metadata": {
    "collapsed": false
   },
   "outputs": [],
   "source": [
    "tf.reset_default_graph()\n",
    "model = Basic_sigmoid(params)"
   ]
  },
  {
   "cell_type": "code",
   "execution_count": 11,
   "metadata": {
    "collapsed": true
   },
   "outputs": [],
   "source": [
    "model.build()"
   ]
  },
  {
   "cell_type": "code",
   "execution_count": 12,
   "metadata": {
    "collapsed": false
   },
   "outputs": [
    {
     "name": "stdout",
     "output_type": "stream",
     "text": [
      "Iter 640, Minibatch Loss= 0.112843\n",
      "Iter 1280, Minibatch Loss= 0.141185\n",
      "Iter 1920, Minibatch Loss= 0.145554\n",
      "Iter 2560, Minibatch Loss= 0.107200\n",
      "Iter 3200, Minibatch Loss= 0.133574\n",
      "Iter 3840, Minibatch Loss= 0.180119\n",
      "Iter 4480, Minibatch Loss= 0.126402\n",
      "Iter 5120, Minibatch Loss= 0.149859\n",
      "Iter 5760, Minibatch Loss= 0.175305\n",
      "Iter 6400, Minibatch Loss= 0.119545\n",
      "Iter 7040, Minibatch Loss= 0.125494\n",
      "Iter 7680, Minibatch Loss= 0.180604\n",
      "Iter 8320, Minibatch Loss= 0.165877\n",
      "Iter 8960, Minibatch Loss= 0.159016\n",
      "Iter 9600, Minibatch Loss= 0.126154\n",
      "Iter 10240, Minibatch Loss= 0.121329\n",
      "Iter 10880, Minibatch Loss= 0.152613\n",
      "Iter 11520, Minibatch Loss= 0.158621\n",
      "Iter 12160, Minibatch Loss= 0.122239\n",
      "Iter 12800, Minibatch Loss= 0.118344\n",
      "Iter 13440, Minibatch Loss= 0.126027\n",
      "Iter 14080, Minibatch Loss= 0.144586\n",
      "Iter 14720, Minibatch Loss= 0.174716\n",
      "Iter 15360, Minibatch Loss= 0.147843\n",
      "Iter 16000, Minibatch Loss= 0.149108\n",
      "Iter 16640, Minibatch Loss= 0.142480\n",
      "Iter 17280, Minibatch Loss= 0.126185\n",
      "Iter 17920, Minibatch Loss= 0.094967\n",
      "Iter 18560, Minibatch Loss= 0.125861\n",
      "Iter 19200, Minibatch Loss= 0.138617\n",
      "Iter 19840, Minibatch Loss= 0.181262\n",
      "Iter 20480, Minibatch Loss= 0.143269\n",
      "Iter 21120, Minibatch Loss= 0.147708\n",
      "Iter 21760, Minibatch Loss= 0.121903\n",
      "Iter 22400, Minibatch Loss= 0.141269\n",
      "Iter 23040, Minibatch Loss= 0.182737\n",
      "Iter 23680, Minibatch Loss= 0.123872\n",
      "Iter 24320, Minibatch Loss= 0.121887\n",
      "Iter 24960, Minibatch Loss= 0.097788\n",
      "Iter 25600, Minibatch Loss= 0.181087\n",
      "Iter 26240, Minibatch Loss= 0.102294\n",
      "Iter 26880, Minibatch Loss= 0.104209\n",
      "Iter 27520, Minibatch Loss= 0.169656\n",
      "Iter 28160, Minibatch Loss= 0.101077\n",
      "Iter 28800, Minibatch Loss= 0.101298\n",
      "Iter 29440, Minibatch Loss= 0.144372\n",
      "Iter 30080, Minibatch Loss= 0.101186\n",
      "Iter 30720, Minibatch Loss= 0.127253\n",
      "Iter 31360, Minibatch Loss= 0.088198\n",
      "Iter 32000, Minibatch Loss= 0.144180\n",
      "Iter 32640, Minibatch Loss= 0.139809\n",
      "Iter 33280, Minibatch Loss= 0.141056\n",
      "Iter 33920, Minibatch Loss= 0.128115\n",
      "Iter 34560, Minibatch Loss= 0.078337\n",
      "Iter 35200, Minibatch Loss= 0.145151\n",
      "Iter 35840, Minibatch Loss= 0.108385\n",
      "Iter 36480, Minibatch Loss= 0.123356\n",
      "Iter 37120, Minibatch Loss= 0.122630\n",
      "Iter 37760, Minibatch Loss= 0.130275\n",
      "Iter 38400, Minibatch Loss= 0.127677\n",
      "Iter 39040, Minibatch Loss= 0.114633\n",
      "Iter 39680, Minibatch Loss= 0.131069\n",
      "Iter 40320, Minibatch Loss= 0.119335\n",
      "Iter 40960, Minibatch Loss= 0.181657\n",
      "Iter 41600, Minibatch Loss= 0.173829\n",
      "Iter 42240, Minibatch Loss= 0.107109\n",
      "Iter 42880, Minibatch Loss= 0.141951\n",
      "Iter 43520, Minibatch Loss= 0.120996\n",
      "Iter 44160, Minibatch Loss= 0.141906\n",
      "Iter 44800, Minibatch Loss= 0.097952\n",
      "Iter 45440, Minibatch Loss= 0.142406\n",
      "Iter 46080, Minibatch Loss= 0.176744\n",
      "Iter 46720, Minibatch Loss= 0.159174\n",
      "Iter 47360, Minibatch Loss= 0.089773\n",
      "Iter 48000, Minibatch Loss= 0.089562\n",
      "Iter 48640, Minibatch Loss= 0.062662\n",
      "Iter 49280, Minibatch Loss= 0.091291\n",
      "Iter 49920, Minibatch Loss= 0.069719\n",
      "Optimization finished!\n"
     ]
    },
    {
     "data": {
      "text/plain": [
       "(111.13523697853088, 53.28712511062622)"
      ]
     },
     "execution_count": 12,
     "metadata": {},
     "output_type": "execute_result"
    }
   ],
   "source": [
    "model.train(gen, {})"
   ]
  },
  {
   "cell_type": "code",
   "execution_count": null,
   "metadata": {
    "collapsed": true
   },
   "outputs": [],
   "source": []
  },
  {
   "cell_type": "code",
   "execution_count": null,
   "metadata": {
    "collapsed": true
   },
   "outputs": [],
   "source": []
  },
  {
   "cell_type": "code",
   "execution_count": 13,
   "metadata": {
    "collapsed": false
   },
   "outputs": [],
   "source": [
    "tf.reset_default_graph()\n",
    "model = Basic_scan(params)"
   ]
  },
  {
   "cell_type": "code",
   "execution_count": 14,
   "metadata": {
    "collapsed": true
   },
   "outputs": [],
   "source": [
    "model.build()"
   ]
  },
  {
   "cell_type": "code",
   "execution_count": 15,
   "metadata": {
    "collapsed": false
   },
   "outputs": [
    {
     "name": "stdout",
     "output_type": "stream",
     "text": [
      "Iter 640, Minibatch Loss= 0.272054\n",
      "Iter 1280, Minibatch Loss= 0.170246\n",
      "Iter 1920, Minibatch Loss= 0.078765\n",
      "Iter 2560, Minibatch Loss= 0.118882\n",
      "Iter 3200, Minibatch Loss= 0.093433\n",
      "Iter 3840, Minibatch Loss= 0.100554\n",
      "Iter 4480, Minibatch Loss= 0.096155\n",
      "Iter 5120, Minibatch Loss= 0.057453\n",
      "Iter 5760, Minibatch Loss= 0.037765\n",
      "Iter 6400, Minibatch Loss= 0.009540\n",
      "Iter 7040, Minibatch Loss= 0.009572\n",
      "Iter 7680, Minibatch Loss= 0.006069\n",
      "Iter 8320, Minibatch Loss= 0.006144\n",
      "Iter 8960, Minibatch Loss= 0.005117\n",
      "Iter 9600, Minibatch Loss= 0.005521\n",
      "Iter 10240, Minibatch Loss= 0.004703\n",
      "Iter 10880, Minibatch Loss= 0.004308\n",
      "Iter 11520, Minibatch Loss= 0.004290\n",
      "Iter 12160, Minibatch Loss= 0.004176\n",
      "Iter 12800, Minibatch Loss= 0.003783\n",
      "Iter 13440, Minibatch Loss= 0.003086\n",
      "Iter 14080, Minibatch Loss= 0.002945\n",
      "Iter 14720, Minibatch Loss= 0.002676\n",
      "Iter 15360, Minibatch Loss= 0.003262\n",
      "Iter 16000, Minibatch Loss= 0.002912\n",
      "Iter 16640, Minibatch Loss= 0.003097\n",
      "Iter 17280, Minibatch Loss= 0.002752\n",
      "Iter 17920, Minibatch Loss= 0.002267\n",
      "Iter 18560, Minibatch Loss= 0.002554\n",
      "Iter 19200, Minibatch Loss= 0.002141\n",
      "Iter 19840, Minibatch Loss= 0.002547\n",
      "Iter 20480, Minibatch Loss= 0.002115\n",
      "Iter 21120, Minibatch Loss= 0.002745\n",
      "Iter 21760, Minibatch Loss= 0.003208\n",
      "Iter 22400, Minibatch Loss= 0.003043\n",
      "Iter 23040, Minibatch Loss= 0.002177\n",
      "Iter 23680, Minibatch Loss= 0.002658\n",
      "Iter 24320, Minibatch Loss= 0.002302\n",
      "Iter 24960, Minibatch Loss= 0.002138\n",
      "Iter 25600, Minibatch Loss= 0.001860\n",
      "Iter 26240, Minibatch Loss= 0.001600\n",
      "Iter 26880, Minibatch Loss= 0.001683\n",
      "Iter 27520, Minibatch Loss= 0.001885\n",
      "Iter 28160, Minibatch Loss= 0.001758\n",
      "Iter 28800, Minibatch Loss= 0.001895\n",
      "Iter 29440, Minibatch Loss= 0.001505\n",
      "Iter 30080, Minibatch Loss= 0.001627\n",
      "Iter 30720, Minibatch Loss= 0.001694\n",
      "Iter 31360, Minibatch Loss= 0.001611\n",
      "Iter 32000, Minibatch Loss= 0.001364\n",
      "Iter 32640, Minibatch Loss= 0.001613\n",
      "Iter 33280, Minibatch Loss= 0.001425\n",
      "Iter 33920, Minibatch Loss= 0.001674\n",
      "Iter 34560, Minibatch Loss= 0.001625\n",
      "Iter 35200, Minibatch Loss= 0.001604\n",
      "Iter 35840, Minibatch Loss= 0.001428\n",
      "Iter 36480, Minibatch Loss= 0.001407\n",
      "Iter 37120, Minibatch Loss= 0.001471\n",
      "Iter 37760, Minibatch Loss= 0.001197\n",
      "Iter 38400, Minibatch Loss= 0.001638\n",
      "Iter 39040, Minibatch Loss= 0.001242\n",
      "Iter 39680, Minibatch Loss= 0.001337\n",
      "Iter 40320, Minibatch Loss= 0.001099\n",
      "Iter 40960, Minibatch Loss= 0.001189\n",
      "Iter 41600, Minibatch Loss= 0.001160\n",
      "Iter 42240, Minibatch Loss= 0.001193\n",
      "Iter 42880, Minibatch Loss= 0.001112\n",
      "Iter 43520, Minibatch Loss= 0.001244\n",
      "Iter 44160, Minibatch Loss= 0.001168\n",
      "Iter 44800, Minibatch Loss= 0.001112\n",
      "Iter 45440, Minibatch Loss= 0.001119\n",
      "Iter 46080, Minibatch Loss= 0.001393\n",
      "Iter 46720, Minibatch Loss= 0.001025\n",
      "Iter 47360, Minibatch Loss= 0.001293\n",
      "Iter 48000, Minibatch Loss= 0.001308\n",
      "Iter 48640, Minibatch Loss= 0.001359\n",
      "Iter 49280, Minibatch Loss= 0.001428\n",
      "Iter 49920, Minibatch Loss= 0.001116\n",
      "Optimization finished!\n"
     ]
    },
    {
     "data": {
      "text/plain": [
       "(138.7799699306488, 14.857112884521484)"
      ]
     },
     "execution_count": 15,
     "metadata": {},
     "output_type": "execute_result"
    }
   ],
   "source": [
    "model.train(gen, {})"
   ]
  },
  {
   "cell_type": "code",
   "execution_count": null,
   "metadata": {
    "collapsed": true
   },
   "outputs": [],
   "source": []
  }
 ],
 "metadata": {
  "anaconda-cloud": {},
  "kernelspec": {
   "display_name": "Python [conda root]",
   "language": "python",
   "name": "conda-root-py"
  },
  "language_info": {
   "codemirror_mode": {
    "name": "ipython",
    "version": 2
   },
   "file_extension": ".py",
   "mimetype": "text/x-python",
   "name": "python",
   "nbconvert_exporter": "python",
   "pygments_lexer": "ipython2",
   "version": "2.7.12"
  }
 },
 "nbformat": 4,
 "nbformat_minor": 1
}
