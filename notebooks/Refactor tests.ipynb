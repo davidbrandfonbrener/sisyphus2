{
 "cells": [
  {
   "cell_type": "code",
   "execution_count": 1,
   "metadata": {
    "collapsed": false
   },
   "outputs": [],
   "source": [
    "from sisyphus2.backend.models.basic import Basic, BasicSigmoid, BasicScan\n",
    "from sisyphus2.backend.models.lstm import LSTM\n",
    "from sisyphus2.tasks import rdm as rd\n",
    "import numpy as np\n",
    "import tensorflow as tf\n",
    "from matplotlib import pyplot as plt\n",
    "%matplotlib inline"
   ]
  },
  {
   "cell_type": "code",
   "execution_count": 2,
   "metadata": {
    "collapsed": false
   },
   "outputs": [],
   "source": [
    "rdm = rd.RDM(N_in = 2, N_out = 2, dt = 10, tau = 100, T = 2000, N_batch = 128)\n",
    "gen = rdm.batch_generator()"
   ]
  },
  {
   "cell_type": "code",
   "execution_count": 3,
   "metadata": {
    "collapsed": true
   },
   "outputs": [],
   "source": [
    "params = rdm.__dict__"
   ]
  },
  {
   "cell_type": "code",
   "execution_count": 4,
   "metadata": {
    "collapsed": false
   },
   "outputs": [],
   "source": [
    "params['name'] = 'model'\n",
    "params['N_rec'] = 50"
   ]
  },
  {
   "cell_type": "code",
   "execution_count": null,
   "metadata": {
    "collapsed": true
   },
   "outputs": [],
   "source": []
  },
  {
   "cell_type": "code",
   "execution_count": 31,
   "metadata": {
    "collapsed": false
   },
   "outputs": [],
   "source": [
    "model = Basic(params)"
   ]
  },
  {
   "cell_type": "code",
   "execution_count": 32,
   "metadata": {
    "collapsed": false,
    "scrolled": true
   },
   "outputs": [],
   "source": [
    "model.build()"
   ]
  },
  {
   "cell_type": "code",
   "execution_count": null,
   "metadata": {
    "collapsed": true
   },
   "outputs": [],
   "source": []
  },
  {
   "cell_type": "code",
   "execution_count": 7,
   "metadata": {
    "collapsed": true
   },
   "outputs": [],
   "source": [
    "params['name'] = 'model2'\n",
    "model2 = Basic(params)\n",
    "model2.build()"
   ]
  },
  {
   "cell_type": "code",
   "execution_count": null,
   "metadata": {
    "collapsed": true
   },
   "outputs": [],
   "source": []
  },
  {
   "cell_type": "code",
   "execution_count": 10,
   "metadata": {
    "collapsed": false
   },
   "outputs": [
    {
     "data": {
      "text/plain": [
       "''"
      ]
     },
     "execution_count": 10,
     "metadata": {},
     "output_type": "execute_result"
    }
   ],
   "source": [
    "tf.get_default_graph().get_name_scope()"
   ]
  },
  {
   "cell_type": "code",
   "execution_count": null,
   "metadata": {
    "collapsed": true
   },
   "outputs": [],
   "source": []
  },
  {
   "cell_type": "code",
   "execution_count": 11,
   "metadata": {
    "collapsed": false
   },
   "outputs": [
    {
     "name": "stdout",
     "output_type": "stream",
     "text": [
      "Iter 1280, Minibatch Loss= 0.232360\n",
      "Iter 2560, Minibatch Loss= 0.124438\n",
      "Iter 3840, Minibatch Loss= 0.125808\n",
      "Iter 5120, Minibatch Loss= 0.133572\n",
      "Iter 6400, Minibatch Loss= 0.117979\n",
      "Iter 7680, Minibatch Loss= 0.125153\n",
      "Iter 8960, Minibatch Loss= 0.121404\n",
      "Iter 10240, Minibatch Loss= 0.124953\n",
      "Iter 11520, Minibatch Loss= 0.121659\n",
      "Iter 12800, Minibatch Loss= 0.124858\n",
      "Iter 14080, Minibatch Loss= 0.109471\n",
      "Iter 15360, Minibatch Loss= 0.068042\n",
      "Iter 16640, Minibatch Loss= 0.033516\n",
      "Iter 17920, Minibatch Loss= 0.050231\n",
      "Iter 19200, Minibatch Loss= 0.027442\n",
      "Iter 20480, Minibatch Loss= 0.017585\n",
      "Iter 21760, Minibatch Loss= 0.013158\n",
      "Iter 23040, Minibatch Loss= 0.012828\n",
      "Iter 24320, Minibatch Loss= 0.010417\n",
      "Iter 25600, Minibatch Loss= 0.009796\n",
      "Iter 26880, Minibatch Loss= 0.008919\n",
      "Iter 28160, Minibatch Loss= 0.007931\n",
      "Iter 29440, Minibatch Loss= 0.007944\n",
      "Iter 30720, Minibatch Loss= 0.007059\n",
      "Iter 32000, Minibatch Loss= 0.006809\n",
      "Iter 33280, Minibatch Loss= 0.006994\n",
      "Iter 34560, Minibatch Loss= 0.006476\n",
      "Iter 35840, Minibatch Loss= 0.006690\n",
      "Iter 37120, Minibatch Loss= 0.006066\n",
      "Iter 38400, Minibatch Loss= 0.006245\n",
      "Iter 39680, Minibatch Loss= 0.006408\n",
      "Iter 40960, Minibatch Loss= 0.006240\n",
      "Iter 42240, Minibatch Loss= 0.005653\n",
      "Iter 43520, Minibatch Loss= 0.005382\n",
      "Iter 44800, Minibatch Loss= 0.004699\n",
      "Iter 46080, Minibatch Loss= 0.004742\n",
      "Iter 47360, Minibatch Loss= 0.004534\n",
      "Iter 48640, Minibatch Loss= 0.004354\n",
      "Iter 49920, Minibatch Loss= 0.003899\n",
      "Optimization finished!\n",
      "Model saved in file: ../weights/refactor_weights.npz\n"
     ]
    },
    {
     "data": {
      "text/plain": [
       "([0.23235954,\n",
       "  0.12443761,\n",
       "  0.12580775,\n",
       "  0.13357171,\n",
       "  0.11797899,\n",
       "  0.12515302,\n",
       "  0.12140407,\n",
       "  0.12495341,\n",
       "  0.12165856,\n",
       "  0.12485757,\n",
       "  0.10947078,\n",
       "  0.068042368,\n",
       "  0.033516459,\n",
       "  0.050231308,\n",
       "  0.027442191,\n",
       "  0.017584868,\n",
       "  0.013158424,\n",
       "  0.012828171,\n",
       "  0.010416951,\n",
       "  0.0097963223,\n",
       "  0.0089189857,\n",
       "  0.0079309968,\n",
       "  0.0079440475,\n",
       "  0.0070594754,\n",
       "  0.0068085301,\n",
       "  0.0069943694,\n",
       "  0.0064761699,\n",
       "  0.0066900048,\n",
       "  0.0060655437,\n",
       "  0.0062452839,\n",
       "  0.0064084083,\n",
       "  0.0062402058,\n",
       "  0.0056531597,\n",
       "  0.0053820997,\n",
       "  0.0046992684,\n",
       "  0.0047415355,\n",
       "  0.0045342403,\n",
       "  0.0043538152,\n",
       "  0.0038986849],\n",
       " 197.1311550140381,\n",
       " 76.65003681182861)"
      ]
     },
     "execution_count": 11,
     "metadata": {},
     "output_type": "execute_result"
    }
   ],
   "source": [
    "model.train(gen, {'save_weights_path': '../weights/refactor_weights.npz', 'training_iters': 50000})"
   ]
  },
  {
   "cell_type": "code",
   "execution_count": 12,
   "metadata": {
    "collapsed": false
   },
   "outputs": [
    {
     "name": "stdout",
     "output_type": "stream",
     "text": [
      "Iter 1280, Minibatch Loss= 0.233448\n",
      "Iter 2560, Minibatch Loss= 0.191123\n",
      "Iter 3840, Minibatch Loss= 0.132454\n",
      "Iter 5120, Minibatch Loss= 0.124975\n",
      "Iter 6400, Minibatch Loss= 0.119141\n",
      "Iter 7680, Minibatch Loss= 0.125579\n",
      "Iter 8960, Minibatch Loss= 0.120126\n",
      "Iter 10240, Minibatch Loss= 0.125446\n",
      "Iter 11520, Minibatch Loss= 0.113118\n",
      "Iter 12800, Minibatch Loss= 0.079893\n",
      "Iter 14080, Minibatch Loss= 0.036022\n",
      "Iter 15360, Minibatch Loss= 0.024871\n",
      "Iter 16640, Minibatch Loss= 0.019236\n",
      "Iter 17920, Minibatch Loss= 0.020647\n",
      "Iter 19200, Minibatch Loss= 0.015383\n",
      "Iter 20480, Minibatch Loss= 0.013743\n",
      "Iter 21760, Minibatch Loss= 0.011335\n",
      "Iter 23040, Minibatch Loss= 0.010030\n",
      "Iter 24320, Minibatch Loss= 0.010370\n",
      "Iter 25600, Minibatch Loss= 0.010947\n",
      "Iter 26880, Minibatch Loss= 0.008435\n",
      "Iter 28160, Minibatch Loss= 0.007830\n",
      "Iter 29440, Minibatch Loss= 0.007854\n",
      "Iter 30720, Minibatch Loss= 0.008033\n",
      "Iter 32000, Minibatch Loss= 0.006978\n",
      "Iter 33280, Minibatch Loss= 0.006715\n",
      "Iter 34560, Minibatch Loss= 0.008180\n",
      "Iter 35840, Minibatch Loss= 0.006536\n",
      "Iter 37120, Minibatch Loss= 0.005642\n",
      "Iter 38400, Minibatch Loss= 0.005598\n",
      "Iter 39680, Minibatch Loss= 0.005611\n",
      "Iter 40960, Minibatch Loss= 0.005354\n",
      "Iter 42240, Minibatch Loss= 0.005072\n",
      "Iter 43520, Minibatch Loss= 0.004711\n",
      "Iter 44800, Minibatch Loss= 0.005042\n",
      "Iter 46080, Minibatch Loss= 0.004916\n",
      "Iter 47360, Minibatch Loss= 0.004603\n",
      "Iter 48640, Minibatch Loss= 0.004349\n",
      "Iter 49920, Minibatch Loss= 0.004449\n",
      "Optimization finished!\n",
      "Model saved in file: ../weights/refactor_weights.npz\n"
     ]
    },
    {
     "name": "stderr",
     "output_type": "stream",
     "text": [
      "//anaconda/lib/python2.7/site-packages/numpy/lib/npyio.py:706: UserWarning: Duplicate name: u'W_in/Adam_1.npy'\n",
      "  zipf.write(tmpfile, arcname=fname)\n",
      "//anaconda/lib/python2.7/site-packages/numpy/lib/npyio.py:706: UserWarning: Duplicate name: u'W_out/Adam.npy'\n",
      "  zipf.write(tmpfile, arcname=fname)\n",
      "//anaconda/lib/python2.7/site-packages/numpy/lib/npyio.py:706: UserWarning: Duplicate name: u'W_rec/Adam_1.npy'\n",
      "  zipf.write(tmpfile, arcname=fname)\n",
      "//anaconda/lib/python2.7/site-packages/numpy/lib/npyio.py:706: UserWarning: Duplicate name: u'rec_connectivity.npy'\n",
      "  zipf.write(tmpfile, arcname=fname)\n",
      "//anaconda/lib/python2.7/site-packages/numpy/lib/npyio.py:706: UserWarning: Duplicate name: u'W_in/Adam.npy'\n",
      "  zipf.write(tmpfile, arcname=fname)\n",
      "//anaconda/lib/python2.7/site-packages/numpy/lib/npyio.py:706: UserWarning: Duplicate name: u'input_connectivity.npy'\n",
      "  zipf.write(tmpfile, arcname=fname)\n",
      "//anaconda/lib/python2.7/site-packages/numpy/lib/npyio.py:706: UserWarning: Duplicate name: u'Dale_out.npy'\n",
      "  zipf.write(tmpfile, arcname=fname)\n",
      "//anaconda/lib/python2.7/site-packages/numpy/lib/npyio.py:706: UserWarning: Duplicate name: u'b_out/Adam.npy'\n",
      "  zipf.write(tmpfile, arcname=fname)\n",
      "//anaconda/lib/python2.7/site-packages/numpy/lib/npyio.py:706: UserWarning: Duplicate name: u'b_out.npy'\n",
      "  zipf.write(tmpfile, arcname=fname)\n",
      "//anaconda/lib/python2.7/site-packages/numpy/lib/npyio.py:706: UserWarning: Duplicate name: u'W_out/Adam_1.npy'\n",
      "  zipf.write(tmpfile, arcname=fname)\n",
      "//anaconda/lib/python2.7/site-packages/numpy/lib/npyio.py:706: UserWarning: Duplicate name: u'Dale_rec.npy'\n",
      "  zipf.write(tmpfile, arcname=fname)\n",
      "//anaconda/lib/python2.7/site-packages/numpy/lib/npyio.py:706: UserWarning: Duplicate name: u'W_in.npy'\n",
      "  zipf.write(tmpfile, arcname=fname)\n",
      "//anaconda/lib/python2.7/site-packages/numpy/lib/npyio.py:706: UserWarning: Duplicate name: u'init_state.npy'\n",
      "  zipf.write(tmpfile, arcname=fname)\n",
      "//anaconda/lib/python2.7/site-packages/numpy/lib/npyio.py:706: UserWarning: Duplicate name: u'b_out/Adam_1.npy'\n",
      "  zipf.write(tmpfile, arcname=fname)\n",
      "//anaconda/lib/python2.7/site-packages/numpy/lib/npyio.py:706: UserWarning: Duplicate name: u'init_state/Adam.npy'\n",
      "  zipf.write(tmpfile, arcname=fname)\n",
      "//anaconda/lib/python2.7/site-packages/numpy/lib/npyio.py:706: UserWarning: Duplicate name: u'init_state/Adam_1.npy'\n",
      "  zipf.write(tmpfile, arcname=fname)\n",
      "//anaconda/lib/python2.7/site-packages/numpy/lib/npyio.py:706: UserWarning: Duplicate name: u'b_rec.npy'\n",
      "  zipf.write(tmpfile, arcname=fname)\n",
      "//anaconda/lib/python2.7/site-packages/numpy/lib/npyio.py:706: UserWarning: Duplicate name: u'b_rec/Adam_1.npy'\n",
      "  zipf.write(tmpfile, arcname=fname)\n",
      "//anaconda/lib/python2.7/site-packages/numpy/lib/npyio.py:706: UserWarning: Duplicate name: u'W_out.npy'\n",
      "  zipf.write(tmpfile, arcname=fname)\n",
      "//anaconda/lib/python2.7/site-packages/numpy/lib/npyio.py:706: UserWarning: Duplicate name: u'W_rec/Adam.npy'\n",
      "  zipf.write(tmpfile, arcname=fname)\n",
      "//anaconda/lib/python2.7/site-packages/numpy/lib/npyio.py:706: UserWarning: Duplicate name: u'b_rec/Adam.npy'\n",
      "  zipf.write(tmpfile, arcname=fname)\n",
      "//anaconda/lib/python2.7/site-packages/numpy/lib/npyio.py:706: UserWarning: Duplicate name: u'output_connectivity.npy'\n",
      "  zipf.write(tmpfile, arcname=fname)\n",
      "//anaconda/lib/python2.7/site-packages/numpy/lib/npyio.py:706: UserWarning: Duplicate name: u'W_rec.npy'\n",
      "  zipf.write(tmpfile, arcname=fname)\n"
     ]
    },
    {
     "data": {
      "text/plain": [
       "([0.23344788,\n",
       "  0.19112331,\n",
       "  0.13245387,\n",
       "  0.12497538,\n",
       "  0.11914093,\n",
       "  0.12557928,\n",
       "  0.12012557,\n",
       "  0.12544551,\n",
       "  0.11311843,\n",
       "  0.079893358,\n",
       "  0.036021791,\n",
       "  0.024870861,\n",
       "  0.019235929,\n",
       "  0.020646572,\n",
       "  0.015383205,\n",
       "  0.013742895,\n",
       "  0.011334716,\n",
       "  0.010029963,\n",
       "  0.010369587,\n",
       "  0.010947439,\n",
       "  0.0084346775,\n",
       "  0.0078302156,\n",
       "  0.0078538787,\n",
       "  0.0080332914,\n",
       "  0.0069776904,\n",
       "  0.0067148521,\n",
       "  0.0081800111,\n",
       "  0.0065361597,\n",
       "  0.0056419657,\n",
       "  0.0055976934,\n",
       "  0.0056109745,\n",
       "  0.0053543369,\n",
       "  0.0050723101,\n",
       "  0.0047105816,\n",
       "  0.0050421841,\n",
       "  0.0049163061,\n",
       "  0.004603107,\n",
       "  0.0043487828,\n",
       "  0.0044487985],\n",
       " 196.00478792190552,\n",
       " 97.69656300544739)"
      ]
     },
     "execution_count": 12,
     "metadata": {},
     "output_type": "execute_result"
    }
   ],
   "source": [
    "model2.train(gen, {'save_weights_path': '../weights/refactor_weights.npz', 'training_iters': 50000})"
   ]
  },
  {
   "cell_type": "code",
   "execution_count": null,
   "metadata": {
    "collapsed": true
   },
   "outputs": [],
   "source": []
  },
  {
   "cell_type": "code",
   "execution_count": null,
   "metadata": {
    "collapsed": true
   },
   "outputs": [],
   "source": []
  },
  {
   "cell_type": "code",
   "execution_count": 27,
   "metadata": {
    "collapsed": true
   },
   "outputs": [],
   "source": [
    "x,y,m = gen.next()"
   ]
  },
  {
   "cell_type": "code",
   "execution_count": 28,
   "metadata": {
    "collapsed": false
   },
   "outputs": [
    {
     "data": {
      "text/plain": [
       "[<matplotlib.lines.Line2D at 0x121a889d0>,\n",
       " <matplotlib.lines.Line2D at 0x121a88bd0>]"
      ]
     },
     "execution_count": 28,
     "metadata": {},
     "output_type": "execute_result"
    },
    {
     "data": {
      "image/png": "[encoded data removed]",
      "text/plain": [
       "<matplotlib.figure.Figure at 0x185edff90>"
      ]
     },
     "metadata": {},
     "output_type": "display_data"
    }
   ],
   "source": [
    "plt.plot(x[0,:,:])"
   ]
  },
  {
   "cell_type": "code",
   "execution_count": null,
   "metadata": {
    "collapsed": true
   },
   "outputs": [],
   "source": []
  },
  {
   "cell_type": "code",
   "execution_count": 29,
   "metadata": {
    "collapsed": false
   },
   "outputs": [
    {
     "data": {
      "text/plain": [
       "[<matplotlib.lines.Line2D at 0x1694f1d90>,\n",
       " <matplotlib.lines.Line2D at 0x1694f1f90>]"
      ]
     },
     "execution_count": 29,
     "metadata": {},
     "output_type": "execute_result"
    },
    {
     "data": {
      "image/png": "[encoded data removed]",
      "text/plain": [
       "<matplotlib.figure.Figure at 0x1504c8850>"
      ]
     },
     "metadata": {},
     "output_type": "display_data"
    }
   ],
   "source": [
    "plt.plot(model2.test(x)[0][0,:,:])"
   ]
  },
  {
   "cell_type": "code",
   "execution_count": null,
   "metadata": {
    "collapsed": true
   },
   "outputs": [],
   "source": []
  },
  {
   "cell_type": "code",
   "execution_count": 21,
   "metadata": {
    "collapsed": true
   },
   "outputs": [],
   "source": [
    "model.destruct()"
   ]
  },
  {
   "cell_type": "code",
   "execution_count": null,
   "metadata": {
    "collapsed": true
   },
   "outputs": [],
   "source": []
  },
  {
   "cell_type": "code",
   "execution_count": 33,
   "metadata": {
    "collapsed": false
   },
   "outputs": [
    {
     "data": {
      "text/plain": [
       "[<tf.Variable 'model2/init_state:0' shape=(1, 50) dtype=float32_ref>,\n",
       " <tf.Variable 'model2/W_in:0' shape=(50, 2) dtype=float32_ref>,\n",
       " <tf.Variable 'model2/W_rec:0' shape=(50, 50) dtype=float32_ref>,\n",
       " <tf.Variable 'model2/W_out:0' shape=(2, 50) dtype=float32_ref>,\n",
       " <tf.Variable 'model2/b_rec:0' shape=(50,) dtype=float32_ref>,\n",
       " <tf.Variable 'model2/b_out:0' shape=(2,) dtype=float32_ref>,\n",
       " <tf.Variable 'model2/Dale_rec:0' shape=(50, 50) dtype=float32_ref>,\n",
       " <tf.Variable 'model2/Dale_out:0' shape=(50, 50) dtype=float32_ref>,\n",
       " <tf.Variable 'model2/input_connectivity:0' shape=(50, 2) dtype=float32_ref>,\n",
       " <tf.Variable 'model2/rec_connectivity:0' shape=(50, 50) dtype=float32_ref>,\n",
       " <tf.Variable 'model2/output_connectivity:0' shape=(2, 50) dtype=float32_ref>]"
      ]
     },
     "execution_count": 33,
     "metadata": {},
     "output_type": "execute_result"
    }
   ],
   "source": [
    "tf.get_collection(tf.GraphKeys.GLOBAL_VARIABLES)"
   ]
  },
  {
   "cell_type": "code",
   "execution_count": null,
   "metadata": {
    "collapsed": true
   },
   "outputs": [],
   "source": []
  }
 ],
 "metadata": {
  "anaconda-cloud": {},
  "kernelspec": {
   "display_name": "Python [conda root]",
   "language": "python",
   "name": "conda-root-py"
  },
  "language_info": {
   "codemirror_mode": {
    "name": "ipython",
    "version": 2
   },
   "file_extension": ".py",
   "mimetype": "text/x-python",
   "name": "python",
   "nbconvert_exporter": "python",
   "pygments_lexer": "ipython2",
   "version": "2.7.12"
  }
 },
 "nbformat": 4,
 "nbformat_minor": 1
}
