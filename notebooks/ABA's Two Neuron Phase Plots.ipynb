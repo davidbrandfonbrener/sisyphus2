{
 "cells": [
  {
   "cell_type": "code",
   "execution_count": 6,
   "metadata": {
    "collapsed": true
   },
   "outputs": [],
   "source": [
    "%matplotlib inline\n",
    "import numpy as np\n",
    "import matplotlib.pyplot as plt\n",
    "from mpl_toolkits.mplot3d import axes3d"
   ]
  },
  {
   "cell_type": "code",
   "execution_count": 7,
   "metadata": {
    "collapsed": true
   },
   "outputs": [],
   "source": [
    "def rl(x):\n",
    "    return np.maximum(x,0)\n",
    "\n",
    "def evolve(I, W, b, alpha=0.01):\n",
    "    steps = len(I[0, :])\n",
    "    for ii in range(1,steps):\n",
    "        I[:,ii] = (1-alpha)*I[:,ii-1] + alpha*(W.dot(rl(I[:,ii-1])) + b)"
   ]
  },
  {
   "cell_type": "code",
   "execution_count": 8,
   "metadata": {
    "collapsed": true
   },
   "outputs": [],
   "source": [
    "def neuronplot(I, neuron=0, color='k', rl=False):\n",
    "    X = I[neuron, :]\n",
    "    if rl:\n",
    "        X = rl(X)\n",
    "    plt.plot(X)\n",
    "    \n",
    "def phaseplot(I, neurons=(0,1), color='k', rl=False):\n",
    "    X = I[neurons[0], :]\n",
    "    Y = I[neurons[1], :]\n",
    "    if rl:\n",
    "        X = rl(X)\n",
    "        Y = rl(Y)\n",
    "    plt.plot(X, Y, color=color)\n",
    "    \n",
    "def show_neuron_space(W, b, inits, neuron=0):\n",
    "    colors = ['r','b','g','m','c','y','k']\n",
    "    for num, init in enumerate(inits):\n",
    "        I[:, 0] = np.array(init)\n",
    "        evolve(I, W, b)\n",
    "        neuronplot(I, neuron=neuron, color=colors[num])\n",
    "    \n",
    "def directedphaseplot(I, b, num=50, color='k', neurons=(0,1), withBias=False):\n",
    "    i1 = neurons[0]; i2 = neurons[1]\n",
    "    x = I[i1, :]; y = I[i2, :]\n",
    "    if withBias:\n",
    "        x += b[i1]; y += b[i2]\n",
    "\n",
    "    steps = len(x)\n",
    "    skip = steps/num\n",
    "    x = x[::skip]; y = y[::skip]\n",
    "    plt.quiver(x[:-1], y[:-1], x[1:]-x[:-1], y[1:]-y[:-1], scale_units='xy', angles='xy', scale=1, color=color)\n",
    "\n",
    "    "
   ]
  },
  {
   "cell_type": "code",
   "execution_count": 11,
   "metadata": {
    "collapsed": true
   },
   "outputs": [],
   "source": [
    "def show_phase_space(W, b, inits, withBias=False, scheme=\"2D\"):\n",
    "    if scheme==\"2D\":\n",
    "        show_phase_plane(W, b, inits, withBias=withBias)\n",
    "    elif scheme==\"3D\":\n",
    "        show_phase_volume(W, b, inits, withBias=withBias)\n",
    "    else:\n",
    "        print \"scheme \" + scheme + \" does not exist.\"\n",
    "    \n",
    "\n",
    "def show_phase_plane(W, b, inits, withBias=False):\n",
    "    colors = ['r','b','g','m','c','y','k']\n",
    "    plt.axhline(y=0, color='k')\n",
    "    plt.axvline(x=0, color='k')\n",
    "    plt.axes().set_aspect('equal')\n",
    "    \n",
    "    for num, init in enumerate(inits):\n",
    "        I[:, 0] = np.array(init)\n",
    "        evolve(I, W, b)\n",
    "        plt.axes().set_aspect('equal', 'datalim')\n",
    "        directedphaseplot(I, b, color=colors[num], withBias=withBias)"
   ]
  },
  {
   "cell_type": "code",
   "execution_count": 9,
   "metadata": {
    "collapsed": false
   },
   "outputs": [],
   "source": [
    "W = np.zeros([2,2])\n",
    "steps = 200\n",
    "alpha = .01\n",
    "I = np.zeros([np.shape(W)[0],steps])"
   ]
  },
  {
   "cell_type": "code",
   "execution_count": 15,
   "metadata": {
    "collapsed": false
   },
   "outputs": [
    {
     "data": {
      "image/png": "[encoded data removed]",
      "text/plain": [
       "<matplotlib.figure.Figure at 0x106855710>"
      ]
     },
     "metadata": {},
     "output_type": "display_data"
    }
   ],
   "source": [
    "ii = ee = .7; ei = ie = -3; \n",
    "b1 = b2 = 0.9;\n",
    "# Excitatory neurons (symmetric weights)\n",
    "W[0,0] = ee; W[0,1] = ei; W[1,1] = ii; W[1,0] = ei;\n",
    "# Inhibitory neuron:\n",
    "W =  W.T\n",
    "# Biases:\n",
    "b = np.array([b1,b2])\n",
    "# Initial activity:\n",
    "\n",
    "inits= [[.3, .4], [.4, .3]]\n",
    "\n",
    "show_phase_plane(W, b, inits)\n",
    "\n",
    "# init = np.array([.30001,.3]);\n",
    "# I[:,0] = init\n",
    "\n",
    "# evolve(I, W, b, alpha=alpha)\n",
    "    \n",
    "# directedphaseplot(I, b)\n",
    "# plt.show()"
   ]
  },
  {
   "cell_type": "code",
   "execution_count": null,
   "metadata": {
    "collapsed": true
   },
   "outputs": [],
   "source": []
  }
 ],
 "metadata": {
  "kernelspec": {
   "display_name": "Python 2",
   "language": "python",
   "name": "python2"
  },
  "language_info": {
   "codemirror_mode": {
    "name": "ipython",
    "version": 2
   },
   "file_extension": ".py",
   "mimetype": "text/x-python",
   "name": "python",
   "nbconvert_exporter": "python",
   "pygments_lexer": "ipython2",
   "version": "2.7.12"
  }
 },
 "nbformat": 4,
 "nbformat_minor": 2
}
