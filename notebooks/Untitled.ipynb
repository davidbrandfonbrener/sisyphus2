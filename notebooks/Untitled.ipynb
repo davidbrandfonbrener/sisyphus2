{
 "cells": [
  {
   "cell_type": "code",
   "execution_count": 1,
   "metadata": {
    "collapsed": false
   },
   "outputs": [
    {
     "data": {
      "text/html": [
       "<script>requirejs.config({paths: { 'plotly': ['https://cdn.plot.ly/plotly-latest.min']},});if(!window.Plotly) {{require(['plotly'],function(plotly) {window.Plotly=plotly;});}}</script>"
      ],
      "text/vnd.plotly.v1+html": [
       "<script>requirejs.config({paths: { 'plotly': ['https://cdn.plot.ly/plotly-latest.min']},});if(!window.Plotly) {{require(['plotly'],function(plotly) {window.Plotly=plotly;});}}</script>"
      ]
     },
     "metadata": {},
     "output_type": "display_data"
    }
   ],
   "source": [
    "%matplotlib inline\n",
    "import numpy as np\n",
    "import matplotlib.pyplot as plt\n",
    "from mpl_toolkits.mplot3d import axes3d\n",
    "import plotly.plotly as py\n",
    "from plotly.offline import download_plotlyjs, init_notebook_mode, plot, iplot\n",
    "init_notebook_mode(connected=True)"
   ]
  },
  {
   "cell_type": "code",
   "execution_count": 2,
   "metadata": {
    "collapsed": true
   },
   "outputs": [],
   "source": [
    "def rl(x):\n",
    "    return np.maximum(x,0)\n",
    "\n",
    "def evolve(I, W, b, alpha=0.01):\n",
    "    steps = len(I[0, :])\n",
    "    for ii in range(1,steps):\n",
    "        I[:,ii] = (1-alpha)*I[:,ii-1] + alpha*(W.dot(rl(I[:,ii-1])) + b)"
   ]
  },
  {
   "cell_type": "code",
   "execution_count": 3,
   "metadata": {
    "collapsed": true
   },
   "outputs": [],
   "source": [
    "def neuronplot(I, neuron=0, color='k', rl=False):\n",
    "    X = I[neuron, :]\n",
    "    if rl:\n",
    "        X = rl(X)\n",
    "    plt.plot(X, color=color)\n",
    "    \n",
    "def phaseplot(I, neurons=(0,1), color='k', rl=False):\n",
    "    X = I[neurons[0], :]\n",
    "    Y = I[neurons[1], :]\n",
    "    if rl:\n",
    "        X = rl(X)\n",
    "        Y = rl(Y)\n",
    "    plt.plot(X, Y, color=color)\n",
    "    \n",
    "def show_neuron_space(W, b, inits, neuron=0):\n",
    "    colors = ['r','b','g','m','c','y','k']\n",
    "    for num, init in enumerate(inits):\n",
    "        I[:, 0] = np.array(init)\n",
    "        evolve(I, W, b)\n",
    "        neuronplot(I, neuron=neuron, color=colors[num])\n",
    "    \n",
    "def directedphaseplot(I, B, num=200, color='k', neurons=(0,1), withBias=False):\n",
    "    i1 = neurons[0]; i2 = neurons[1]\n",
    "    x = I[i1, :]; y = I[i2, :]\n",
    "    if withBias:\n",
    "        x += b[i1]; y += b[i2]\n",
    "\n",
    "    steps = len(x)\n",
    "    skip = steps/num\n",
    "    x = x[::skip]; y = y[::skip]\n",
    "    plt.quiver(x[:-1], y[:-1], x[1:]-x[:-1], y[1:]-y[:-1], scale_units='xy', angles='xy', scale=1, color=color)\n",
    "    \n",
    "def directedphaseplot3D(I, B, ax, num=200, color='k', neurons=(0,1,2), withBias=False):\n",
    "    i1 = neurons[0]; i2 = neurons[1]; i3 = neurons[2]\n",
    "    x = I[i1, :]; y = I[i2, :]; z = I[i3, :]\n",
    "    if withBias:\n",
    "        x += b[i1]; y += b[i2]; z += b[i3]\n",
    "    steps = len(x)\n",
    "    skip = steps/num\n",
    "    x = x[::skip]; y = y[::skip]; z = z[::skip]\n",
    "    ax.quiver(x[:-1], y[:-1], z[:-1], (x[1:]-x[:-1]), (y[1:]-y[:-1]), (z[1:]-z[:-1]),\n",
    "                    color=color)\n"
   ]
  },
  {
   "cell_type": "code",
   "execution_count": 5,
   "metadata": {
    "collapsed": true
   },
   "outputs": [],
   "source": [
    "def show_phase_space(W, b, inits, withBias=False, scheme=\"2D\"):\n",
    "    if scheme==\"2D\":\n",
    "        show_phase_plane(W, b, inits, withBias=withBias)\n",
    "    elif scheme==\"3D\":\n",
    "        show_phase_volume(W, b, inits, withBias=withBias)\n",
    "    else:\n",
    "        print \"scheme \" + scheme + \" does not exist.\"\n",
    "    \n",
    "\n",
    "def show_phase_plane(W, b, inits, withBias=False):\n",
    "    colors = ['r','b','g','m','c','y','k']\n",
    "    plt.axhline(y=0, color='k')\n",
    "    plt.axvline(x=0, color='k')\n",
    "    plt.axes().set_aspect('equal')\n",
    "    \n",
    "    for num, init in enumerate(inits):\n",
    "        I[:, 0] = np.array(init)\n",
    "        evolve(I, W, b)\n",
    "        plt.axes().set_aspect('equal', 'datalim')\n",
    "        directedphaseplot(I, b, color=colors[num], withBias=withBias)\n",
    "    \n",
    "def show_phase_volume(W, b, inits, num=200, withBias=False):\n",
    "    colors = ['r','b','g','m','c','y','k']\n",
    "    fig = plt.figure()\n",
    "    ax = fig.gca(projection='3d')\n",
    "    for i, init in enumerate(inits):\n",
    "        I[:, 0] = np.array(init)\n",
    "        evolve(I, W, b)\n",
    "        directedphaseplot3D(I, b, ax, num=num, color=colors[i], withBias=withBias)\n",
    "\n",
    "def show_inhibitory_space(W, b, inits):\n",
    "    colors = ['r','b','g','m','c','y','k']\n",
    "    for num, init in enumerate(inits):\n",
    "        I[:, 0] = np.array(init)\n",
    "        evolve(I, W, b)\n",
    "        neuronplot(I, neuron=2, color=colors[num])"
   ]
  },
  {
   "cell_type": "code",
   "execution_count": 7,
   "metadata": {
    "collapsed": true
   },
   "outputs": [],
   "source": [
    "W = np.zeros([3,3])\n",
    "steps = 10000\n",
    "alpha = .01\n",
    "I = np.zeros([np.shape(W)[0],steps])"
   ]
  },
  {
   "cell_type": "code",
   "execution_count": 78,
   "metadata": {
    "collapsed": false
   },
   "outputs": [
    {
     "data": {
      "text/plain": [
       "array([[ 1.4,  0. , -1. ],\n",
       "       [ 0. ,  1.4, -1. ],\n",
       "       [ 0.5,  0.5,  0. ]])"
      ]
     },
     "execution_count": 78,
     "metadata": {},
     "output_type": "execute_result"
    }
   ],
   "source": [
    "W"
   ]
  },
  {
   "cell_type": "code",
   "execution_count": 100,
   "metadata": {
    "collapsed": false
   },
   "outputs": [
    {
     "data": {
      "image/png": "[encoded data removed]",
      "text/plain": [
       "<matplotlib.figure.Figure at 0x115e32cd0>"
      ]
     },
     "metadata": {},
     "output_type": "display_data"
    },
    {
     "data": {
      "image/png": "[encoded data removed]",
      "text/plain": [
       "<matplotlib.figure.Figure at 0x115dddb50>"
      ]
     },
     "metadata": {},
     "output_type": "display_data"
    }
   ],
   "source": [
    "ee = 1.3; ei = 1.0; ie = -1.0\n",
    "b1 = b2 = .1; bi = 0\n",
    "# Excitatory neurons (symmetric weights)\n",
    "W[0,0] = ee; W[0,2] = ei; W[1,1] = ee; W[1,2] = ei;\n",
    "# Inhibitory neuron:\n",
    "W[2,:2] = ie\n",
    "W =  W.T\n",
    "# Biases:\n",
    "b = np.array([b1,b2,bi])\n",
    "\n",
    "inits = [[.3,.7,.0],[.7,.3,.0],[.6,.5,.0]]\n",
    "\n",
    "show_phase_space(W, b, inits)\n",
    "\n",
    "plt.text(0,1.4,\"[.3, .7]\",color='r')\n",
    "plt.text(.67,-.4,\"[.7, .3]\",color='b')\n",
    "plt.text(0.3,.0,\"[.3, .5]\",color='g')\n",
    "#neuronplot(I, b)\n",
    "\n",
    "plt.figure()\n",
    "show_inhibitory_space(W, b, inits)\n",
    "\n",
    "plt.show()"
   ]
  },
  {
   "cell_type": "code",
   "execution_count": 47,
   "metadata": {
    "collapsed": false
   },
   "outputs": [],
   "source": [
    "from numpy.linalg import inv"
   ]
  },
  {
   "cell_type": "code",
   "execution_count": 67,
   "metadata": {
    "collapsed": false
   },
   "outputs": [
    {
     "data": {
      "text/plain": [
       "array([[ 0. ,  0. , -1. ],\n",
       "       [ 0. ,  1.4, -1. ],\n",
       "       [ 0. ,  0.5,  0. ]])"
      ]
     },
     "execution_count": 67,
     "metadata": {},
     "output_type": "execute_result"
    }
   ],
   "source": [
    "Wz = np.copy(W)\n",
    "Wz[:, 0] = 0\n",
    "inv(Wz)"
   ]
  },
  {
   "cell_type": "code",
   "execution_count": 74,
   "metadata": {
    "collapsed": true
   },
   "outputs": [],
   "source": [
    "def findfixed(W, b, quiet_neuron):\n",
    "    Wz = np.copy(W)\n",
    "    Wz[:, quiet_neuron] = 0\n",
    "    return np.dot(inv(np.eye(3) - Wz), b)"
   ]
  },
  {
   "cell_type": "code",
   "execution_count": 77,
   "metadata": {
    "collapsed": false
   },
   "outputs": [
    {
     "data": {
      "text/plain": [
       "array([-2. ,  5. ,  2.5])"
      ]
     },
     "execution_count": 77,
     "metadata": {},
     "output_type": "execute_result"
    }
   ],
   "source": [
    "findfixed(W, b, 0)"
   ]
  },
  {
   "cell_type": "code",
   "execution_count": 71,
   "metadata": {
    "collapsed": false
   },
   "outputs": [
    {
     "data": {
      "text/plain": [
       "(array([ 5. , -2. ,  2.5]),)"
      ]
     },
     "execution_count": 71,
     "metadata": {},
     "output_type": "execute_result"
    }
   ],
   "source": [
    "-np.dot(inv([[ 1.4,  0. , -1. ],\n",
    "       [ 0. ,  0, -1. ],\n",
    "       [ 0.5,  0,  0. ]] - np.eye(3)),b),\n"
   ]
  },
  {
   "cell_type": "code",
   "execution_count": 55,
   "metadata": {
    "collapsed": false
   },
   "outputs": [
    {
     "data": {
      "text/plain": [
       "(array([[-10.,  0., 10.],\n",
       "        [ 5., -1., -4.],\n",
       "        [-5., -0.,  4.]]), array([ 0.5,  0.5,  0. ]))"
      ]
     },
     "execution_count": 55,
     "metadata": {},
     "output_type": "execute_result"
    }
   ],
   "source": [
    "inv([[ 1.4,  0. , -1. ],\n",
    "       [ 0. ,  0, -1. ],\n",
    "       [ 0.5,  0,  0. ]] - np.eye(3)), b"
   ]
  },
  {
   "cell_type": "code",
   "execution_count": null,
   "metadata": {
    "collapsed": true
   },
   "outputs": [],
   "source": []
  }
 ],
 "metadata": {
  "kernelspec": {
   "display_name": "Python 2",
   "language": "python",
   "name": "python2"
  },
  "language_info": {
   "codemirror_mode": {
    "name": "ipython",
    "version": 2
   },
   "file_extension": ".py",
   "mimetype": "text/x-python",
   "name": "python",
   "nbconvert_exporter": "python",
   "pygments_lexer": "ipython2",
   "version": "2.7.12"
  }
 },
 "nbformat": 4,
 "nbformat_minor": 2
}
